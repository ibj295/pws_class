{
 "cells": [
  {
   "cell_type": "code",
   "execution_count": 1,
   "id": "0b82e04d-8e81-446a-8d3d-219ee85ba8fc",
   "metadata": {},
   "outputs": [],
   "source": [
    "#1. Write a Python program to print the numbers from 1 to 10 using a `for` loop."
   ]
  },
  {
   "cell_type": "code",
   "execution_count": 5,
   "id": "5ea80b81-751a-4044-9d70-d8c01bc03268",
   "metadata": {},
   "outputs": [
    {
     "name": "stdout",
     "output_type": "stream",
     "text": [
      "1\n",
      "2\n",
      "3\n",
      "4\n",
      "5\n",
      "6\n",
      "7\n",
      "8\n",
      "9\n",
      "10\n"
     ]
    }
   ],
   "source": [
    "for i in range(1,11):\n",
    "    print(i)"
   ]
  },
  {
   "cell_type": "code",
   "execution_count": 6,
   "id": "aade21d8-6d09-4f59-94d0-bc930d2ba6f4",
   "metadata": {},
   "outputs": [],
   "source": [
    "#2. Create a program that calculates the sum of all numbers in a list using a `for` loop."
   ]
  },
  {
   "cell_type": "code",
   "execution_count": 4,
   "id": "33ebf844-0cfc-4eb2-8e86-e7499987ddf5",
   "metadata": {},
   "outputs": [
    {
     "name": "stdout",
     "output_type": "stream",
     "text": [
      "Sum of all number in my_lis is:  60\n"
     ]
    }
   ],
   "source": [
    "my_list = [10,20,30]\n",
    "\n",
    "A = 0\n",
    "\n",
    "for i in my_list:\n",
    "    A = A+i\n",
    "print(\"Sum of all number in my_lis is: \",A)    "
   ]
  },
  {
   "cell_type": "code",
   "execution_count": 5,
   "id": "f2e6b402-26e6-4365-9f90-7c56d4081139",
   "metadata": {},
   "outputs": [],
   "source": [
    "#3. Write a program to print the characters of a string in reverse order using a `for` loop."
   ]
  },
  {
   "cell_type": "code",
   "execution_count": 9,
   "id": "0aabbe3b-75fa-4df0-a9d6-5a8ae369b7a7",
   "metadata": {},
   "outputs": [
    {
     "name": "stdout",
     "output_type": "stream",
     "text": [
      "s\n",
      "l\n",
      "l\n",
      "i\n",
      "k\n",
      "s\n",
      "w\n",
      "p\n"
     ]
    }
   ],
   "source": [
    "my_str = \"pwskills\"\n",
    "for i in my_str[::-1]:\n",
    "    print(i)"
   ]
  },
  {
   "cell_type": "code",
   "execution_count": 10,
   "id": "831e663d-901a-4973-aa0c-780e49f0859b",
   "metadata": {},
   "outputs": [],
   "source": [
    "#4. Develop a program that finds the factorial of a given number using a `for` loop."
   ]
  },
  {
   "cell_type": "code",
   "execution_count": 3,
   "id": "8e95b697-63cc-49f3-843b-7bd73338047e",
   "metadata": {},
   "outputs": [
    {
     "name": "stdin",
     "output_type": "stream",
     "text": [
      "Please enter a number 5\n"
     ]
    },
    {
     "name": "stdout",
     "output_type": "stream",
     "text": [
      "120\n"
     ]
    }
   ],
   "source": [
    "def fact(n):\n",
    "    if n<0:\n",
    "        return 'Input number is less than \"0\"'\n",
    "    elif n == 0:\n",
    "        return 1\n",
    "    else:\n",
    "        my_fact = 1\n",
    "    for i in range(1,n+1):\n",
    "        my_fact *= i\n",
    "    return my_fact\n",
    "\n",
    "#user input\n",
    "Int_Fact = int(input('Please enter a number'))\n",
    "\n",
    "result = fact(Int_Fact)\n",
    "\n",
    "print(result)\n",
    "    "
   ]
  },
  {
   "cell_type": "code",
   "execution_count": 4,
   "id": "193fd19f-bde7-4bb9-8387-a00f2da1268f",
   "metadata": {},
   "outputs": [],
   "source": [
    "#5. Create a program to print the multiplication table of a given number using a `for` loop."
   ]
  },
  {
   "cell_type": "code",
   "execution_count": 12,
   "id": "873c75fd-6cbf-4063-b46c-515ff4e5a516",
   "metadata": {},
   "outputs": [
    {
     "name": "stdin",
     "output_type": "stream",
     "text": [
      "Please enter a number 3\n"
     ]
    },
    {
     "name": "stdout",
     "output_type": "stream",
     "text": [
      "[3, 6, 9, 12, 15, 18, 21, 24, 27, 30]\n"
     ]
    }
   ],
   "source": [
    "#provide the number\n",
    "MN = int(input(\"Please enter a number\"))\n",
    "#append the result\n",
    "Table = []\n",
    "for i in range(1,11):\n",
    "    Table.append(i*MN)\n",
    "print(Table)    \n",
    "    "
   ]
  },
  {
   "cell_type": "code",
   "execution_count": 11,
   "id": "b917ced2-21ec-4efd-ba54-a387db759420",
   "metadata": {},
   "outputs": [],
   "source": [
    "#6. Write a program that counts the number of even and odd numbers in a list using a `for` loop."
   ]
  },
  {
   "cell_type": "code",
   "execution_count": 17,
   "id": "4a2d10a9-75f3-439e-86bc-b5789cde90af",
   "metadata": {},
   "outputs": [
    {
     "name": "stdout",
     "output_type": "stream",
     "text": [
      "Total Even Numbers: 2\n",
      "Total Odd Numbers:  3\n"
     ]
    }
   ],
   "source": [
    "def odd_even(number):\n",
    "    \n",
    "    even_num = 0\n",
    "    odd_num = 0\n",
    "    \n",
    "    for i in number:\n",
    "        if i % 2 == 0:\n",
    "            even_num +=1\n",
    "        else:\n",
    "            odd_num +=1\n",
    "    return even_num, odd_num\n",
    "\n",
    "Num_list = [1,2,3,4,5]\n",
    "\n",
    "even,odd = odd_even(Num_list)\n",
    "\n",
    "print('Total Even Numbers:', even)\n",
    "print('Total Odd Numbers: ',odd)\n",
    "\n"
   ]
  },
  {
   "cell_type": "code",
   "execution_count": 28,
   "id": "8075e2cc-51b3-43e4-9e2b-87daca53b7b9",
   "metadata": {},
   "outputs": [],
   "source": [
    "#7. Develop a program that prints the squares of numbers from 1 to 5 using a `for` loop."
   ]
  },
  {
   "cell_type": "code",
   "execution_count": 43,
   "id": "06654cb9-72fa-4846-ad0c-c7d507da29f0",
   "metadata": {},
   "outputs": [
    {
     "name": "stdin",
     "output_type": "stream",
     "text": [
      "Please provide the Number 5\n"
     ]
    },
    {
     "name": "stdout",
     "output_type": "stream",
     "text": [
      "1\n",
      "4\n",
      "9\n",
      "16\n",
      "25\n"
     ]
    }
   ],
   "source": [
    "def square(n):\n",
    "    for i in range(1,n+1):\n",
    "        print(i*i)\n",
    "        \n",
    "num = int(input('Please provide the Number'))\n",
    "\n",
    "Final_Result = square(num)"
   ]
  },
  {
   "cell_type": "code",
   "execution_count": 44,
   "id": "ae6d18e3-d3b7-4d47-a09d-10d3376bbb54",
   "metadata": {},
   "outputs": [],
   "source": [
    "#8. Create a program to find the length of a string without using the `len()` function."
   ]
  },
  {
   "cell_type": "code",
   "execution_count": 14,
   "id": "71e37c36-5176-4999-bdf3-1ae697b2ad2e",
   "metadata": {},
   "outputs": [
    {
     "name": "stdin",
     "output_type": "stream",
     "text": [
      "Please enter the str India\n"
     ]
    },
    {
     "name": "stdout",
     "output_type": "stream",
     "text": [
      "Length of string is: 5\n"
     ]
    }
   ],
   "source": [
    "def length(s):\n",
    "    \n",
    "    length = 0\n",
    "    \n",
    "    for i in s:\n",
    "        length +=1\n",
    "    return length\n",
    "\n",
    "input_str = input('Please enter the str')\n",
    "\n",
    "l = length(input_str)\n",
    "\n",
    "print('Length of string is:', l)\n"
   ]
  },
  {
   "cell_type": "code",
   "execution_count": 18,
   "id": "5567f0a5-2bc4-485b-b9b1-c0dea86c9466",
   "metadata": {},
   "outputs": [],
   "source": [
    "#9. Write a program that calculates the average of a list of numbers using a `for` loop."
   ]
  },
  {
   "cell_type": "code",
   "execution_count": 59,
   "id": "b5eefbc2-ff47-444d-9693-ae5ac5cc67d4",
   "metadata": {},
   "outputs": [
    {
     "name": "stdout",
     "output_type": "stream",
     "text": [
      "22.0\n"
     ]
    }
   ],
   "source": [
    "def avg_list(n):\n",
    "   \n",
    "    #To count the sum of list\n",
    "    \n",
    "    sumofn = 0\n",
    "\n",
    "    # To count the count of number from list\n",
    "\n",
    "    countofn = 0\n",
    "    \n",
    "    # for loop\n",
    "    \n",
    "    for i in n:\n",
    "        \n",
    "        sumofn += i\n",
    "        \n",
    "        countofn += 1\n",
    "        \n",
    "    if countofn == 0:\n",
    "        \n",
    "        return 0\n",
    "    \n",
    "    else:\n",
    "        \n",
    "        avg = sumofn / countofn\n",
    "        \n",
    "        return avg\n",
    "# list    \n",
    "n = [1,2,3,4,100]\n",
    "\n",
    "Avg = avg_list(n)\n",
    "\n",
    "print(Avg)  "
   ]
  },
  {
   "cell_type": "code",
   "execution_count": 60,
   "id": "77b5a5a7-3b34-46d3-8950-76cdf3e3be31",
   "metadata": {},
   "outputs": [],
   "source": [
    "#10. Develop a program that prints the first `n` Fibonacci numbers using a `for` loop."
   ]
  },
  {
   "cell_type": "code",
   "execution_count": 83,
   "id": "f97a012c-cbaa-40d6-a654-c12a8ff95456",
   "metadata": {},
   "outputs": [
    {
     "name": "stdout",
     "output_type": "stream",
     "text": [
      "First 10 Fibonacci numbers:\n",
      "0 1 1 2 3 5 8 13 21 34 "
     ]
    }
   ],
   "source": [
    "def generate_fibonacci(n):\n",
    "    fibonacci_sequence = []\n",
    "    \n",
    "    \n",
    "    if n >= 1:\n",
    "        fibonacci_sequence.append(0)\n",
    "    if n >= 2:\n",
    "        fibonacci_sequence.append(1)\n",
    "    \n",
    "    # Generate the rest of the Fibonacci numbers using a for loop\n",
    "    for i in range(2, n):\n",
    "        next_fib = fibonacci_sequence[i-1] + fibonacci_sequence[i-2]\n",
    "        fibonacci_sequence.append(next_fib)\n",
    "\n",
    "    return fibonacci_sequence\n",
    "\n",
    "n = 10 \n",
    "fibonacci_numbers = generate_fibonacci(n)\n",
    "\n",
    "print(\"First\", n, \"Fibonacci numbers:\")\n",
    "for num in fibonacci_numbers:\n",
    "    print(num, end= \" \" )\n"
   ]
  },
  {
   "cell_type": "code",
   "execution_count": 69,
   "id": "23c8b446-b32c-427b-95d4-62eea5e0ec1c",
   "metadata": {},
   "outputs": [],
   "source": [
    "#11. Write a program to check if a given list contains any duplicates using a `for` loop."
   ]
  },
  {
   "cell_type": "code",
   "execution_count": 96,
   "id": "f9b37270-7dc2-4ede-98b1-1d8f2ec797e7",
   "metadata": {},
   "outputs": [
    {
     "name": "stdout",
     "output_type": "stream",
     "text": [
      "List contain the duplicate\n"
     ]
    }
   ],
   "source": [
    "def dup_list(n):\n",
    "    \n",
    "    for i in range(len(n)):\n",
    "        for t in range(i+1, len(n)):\n",
    "            if n[i] == n[t]:\n",
    "                \n",
    "                return True\n",
    "\n",
    "n = [4,2,4,]\n",
    "\n",
    "g = dup_list(n)\n",
    "\n",
    "if g == True:\n",
    "    \n",
    "    print('List contain the duplicate')\n",
    "else:\n",
    "    \n",
    "    print('There is no duplicate in list')\n",
    "        \n",
    "        "
   ]
  },
  {
   "cell_type": "code",
   "execution_count": 97,
   "id": "90a4e33a-a712-4e2e-b950-fd7bec0a8b14",
   "metadata": {},
   "outputs": [],
   "source": [
    "#12. Create a program that prints the prime numbers in a given range using a `for` loop."
   ]
  },
  {
   "cell_type": "code",
   "execution_count": 105,
   "id": "e8a23208-b330-4a8e-994c-8532df9486a3",
   "metadata": {},
   "outputs": [
    {
     "name": "stdin",
     "output_type": "stream",
     "text": [
      "Enter the start of the range:  2\n",
      "Enter the end of the range:  15\n"
     ]
    },
    {
     "name": "stdout",
     "output_type": "stream",
     "text": [
      "Prime numbers in the range 2 to 15:\n",
      "2\n",
      "3\n",
      "5\n",
      "7\n",
      "11\n",
      "13\n"
     ]
    }
   ],
   "source": [
    "def is_prime(number):\n",
    "    if number <= 1:\n",
    "        return False\n",
    "    if number <= 3:\n",
    "        return True\n",
    "    if number % 2 == 0 or number % 3 == 0:\n",
    "        return False\n",
    "    i = 5\n",
    "    while i * i <= number:\n",
    "        if number % i == 0 or number % (i + 2) == 0:\n",
    "            return False\n",
    "        i += 6\n",
    "    return True\n",
    "\n",
    "def prime_numbers_in_range(start, end):\n",
    "    if start < 2:\n",
    "        start = 2  \n",
    "\n",
    "    print(f\"Prime numbers in the range {start} to {end}:\")\n",
    "    for num in range(start, end + 1):\n",
    "        if is_prime(num):\n",
    "            print(num)\n",
    "\n",
    "# Input the range from the user\n",
    "start = int(input(\"Enter the start of the range: \"))\n",
    "end = int(input(\"Enter the end of the range: \"))\n",
    "\n",
    "prime_numbers_in_range(start, end)\n"
   ]
  },
  {
   "cell_type": "code",
   "execution_count": 106,
   "id": "95ace817-9027-4f51-938e-807bf229a41a",
   "metadata": {},
   "outputs": [],
   "source": [
    "#13. Develop a program that counts the number of vowels in a string using a `for` loop."
   ]
  },
  {
   "cell_type": "code",
   "execution_count": 2,
   "id": "0a4a3669-db0d-45b5-a391-db1a6ecb8884",
   "metadata": {},
   "outputs": [
    {
     "name": "stdin",
     "output_type": "stream",
     "text": [
      "Enter a string:  pune\n"
     ]
    },
    {
     "name": "stdout",
     "output_type": "stream",
     "text": [
      "Number of vowels in the string: 2\n"
     ]
    }
   ],
   "source": [
    "def count_vowels(string):\n",
    "    vowels = \"aeiouAEIOU\"  # Define a string of vowels\n",
    "    vowel_count = 0  # Initialize a count for vowels to 0\n",
    "\n",
    "    for i in string:\n",
    "        if i in vowels:\n",
    "            vowel_count += 1\n",
    "\n",
    "    return vowel_count\n",
    "\n",
    "# Input a string from the user\n",
    "input_string = input(\"Enter a string: \")\n",
    "\n",
    "# Call the count_vowels function and display the result\n",
    "result = count_vowels(input_string)\n",
    "print(f\"Number of vowels in the string: {result}\")\n"
   ]
  },
  {
   "cell_type": "code",
   "execution_count": 3,
   "id": "a4ee27b6-fdb5-4349-a75a-bee4b102e400",
   "metadata": {},
   "outputs": [],
   "source": [
    "#14. Write a program to find the maximum element in a 2D list using a nested `for` loop."
   ]
  },
  {
   "cell_type": "code",
   "execution_count": 5,
   "id": "2ca691f5-665f-4e2b-bafb-728be82cd799",
   "metadata": {},
   "outputs": [
    {
     "name": "stdout",
     "output_type": "stream",
     "text": [
      "The maximum element in the 2D list is: 9\n"
     ]
    }
   ],
   "source": [
    "def find_max_2d_list(input_list):\n",
    "    if not input_list:\n",
    "        return None  \n",
    "    \n",
    "    max_element = input_list[0][0]  \n",
    "    \n",
    "    for row in input_list:\n",
    "        for element in row:\n",
    "            if element > max_element:\n",
    "                max_element = element  \n",
    "    \n",
    "    return max_element\n",
    "\n",
    "# Example usage:\n",
    "two_d_list = [\n",
    "    [3, 7, 1],\n",
    "    [8, 4, 9],\n",
    "    [2, 6, 5]\n",
    "]\n",
    "\n",
    "max_element = find_max_2d_list(two_d_list)\n",
    "print(\"The maximum element in the 2D list is:\", max_element)"
   ]
  },
  {
   "cell_type": "code",
   "execution_count": 6,
   "id": "f563ade2-e9ec-4084-bc45-8e6c8014e341",
   "metadata": {},
   "outputs": [],
   "source": [
    "#15. Create a program that removes all occurrences of a specific element from a list using a `for` loop."
   ]
  },
  {
   "cell_type": "code",
   "execution_count": 10,
   "id": "bfe3f5a3-cdb6-4395-9c5c-184d5ff732cd",
   "metadata": {},
   "outputs": [
    {
     "name": "stdout",
     "output_type": "stream",
     "text": [
      "[1, 3, 4, 5]\n"
     ]
    }
   ],
   "source": [
    "def remove_element(list1, remove_ele):\n",
    "    \n",
    "    new_list = []\n",
    "    \n",
    "    for i in list1:\n",
    "        if i != remove_ele:\n",
    "            new_list.append(i)\n",
    "            \n",
    "    return new_list\n",
    "\n",
    "list1 = [1,2,3,4,5,2]\n",
    "remove_ele = 2\n",
    "\n",
    "Result = remove_element(list1,remove_ele)\n",
    "\n",
    "print(Result)"
   ]
  },
  {
   "cell_type": "code",
   "execution_count": 11,
   "id": "64adeecc-2f10-4d22-837a-8a0b602ed2ad",
   "metadata": {},
   "outputs": [],
   "source": [
    "#16. Develop a program that generates a multiplication table for numbers from 1 to 5 using a nested `for` loop."
   ]
  },
  {
   "cell_type": "code",
   "execution_count": 50,
   "id": "86cb8ca9-9fc5-48c8-bd62-1007816ff3f8",
   "metadata": {},
   "outputs": [
    {
     "name": "stdout",
     "output_type": "stream",
     "text": [
      "Table of 1\n",
      "--------------------\n",
      "1 X 1 =  1\n",
      "1 X 2 =  2\n",
      "1 X 3 =  3\n",
      "1 X 4 =  4\n",
      "1 X 5 =  5\n",
      "1 X 6 =  6\n",
      "1 X 7 =  7\n",
      "1 X 8 =  8\n",
      "1 X 9 =  9\n",
      "1 X 10 =  10\n",
      "\n",
      "Table of 2\n",
      "--------------------\n",
      "2 X 1 =  2\n",
      "2 X 2 =  4\n",
      "2 X 3 =  6\n",
      "2 X 4 =  8\n",
      "2 X 5 =  10\n",
      "2 X 6 =  12\n",
      "2 X 7 =  14\n",
      "2 X 8 =  16\n",
      "2 X 9 =  18\n",
      "2 X 10 =  20\n",
      "\n",
      "Table of 3\n",
      "--------------------\n",
      "3 X 1 =  3\n",
      "3 X 2 =  6\n",
      "3 X 3 =  9\n",
      "3 X 4 =  12\n",
      "3 X 5 =  15\n",
      "3 X 6 =  18\n",
      "3 X 7 =  21\n",
      "3 X 8 =  24\n",
      "3 X 9 =  27\n",
      "3 X 10 =  30\n",
      "\n",
      "Table of 4\n",
      "--------------------\n",
      "4 X 1 =  4\n",
      "4 X 2 =  8\n",
      "4 X 3 =  12\n",
      "4 X 4 =  16\n",
      "4 X 5 =  20\n",
      "4 X 6 =  24\n",
      "4 X 7 =  28\n",
      "4 X 8 =  32\n",
      "4 X 9 =  36\n",
      "4 X 10 =  40\n",
      "\n",
      "Table of 5\n",
      "--------------------\n",
      "5 X 1 =  5\n",
      "5 X 2 =  10\n",
      "5 X 3 =  15\n",
      "5 X 4 =  20\n",
      "5 X 5 =  25\n",
      "5 X 6 =  30\n",
      "5 X 7 =  35\n",
      "5 X 8 =  40\n",
      "5 X 9 =  45\n",
      "5 X 10 =  50\n",
      "\n"
     ]
    }
   ],
   "source": [
    "for a in range(1,6):\n",
    "    \n",
    "    print(f\"Table of {a}\")\n",
    "    print(\"-\"*20)\n",
    "    \n",
    "    for b in range(1,11):\n",
    "        \n",
    "        result = a * b\n",
    "        \n",
    "        print(f\"{a} X {b} = \",result)\n",
    "    print( )\n",
    "    \n",
    "        "
   ]
  },
  {
   "cell_type": "code",
   "execution_count": 51,
   "id": "8f8525a1-80a5-4ff6-b14c-916cc13841c6",
   "metadata": {},
   "outputs": [],
   "source": [
    "#17. Write a program that converts a list of Fahrenheit temperatures to Celsius using a `for` loop."
   ]
  },
  {
   "cell_type": "code",
   "execution_count": 34,
   "id": "d2da2416-e90c-463b-b34e-0f369bb83d71",
   "metadata": {},
   "outputs": [
    {
     "name": "stdout",
     "output_type": "stream",
     "text": [
      "[42.22222222222222]\n"
     ]
    }
   ],
   "source": [
    "def celsius(list2):\n",
    "    \n",
    "    cel_list = []\n",
    "    \n",
    "    for i in list2:\n",
    "        cel_list.append((i - 32) * 5/9)\n",
    "    return cel_list\n",
    "\n",
    "list2 = [108]\n",
    "\n",
    "result = celsius(list2)\n",
    "print(result)\n"
   ]
  },
  {
   "cell_type": "code",
   "execution_count": 1,
   "id": "cda46b40-e612-4025-9307-612e9e40c5eb",
   "metadata": {},
   "outputs": [],
   "source": [
    "#18. Create a program to print the common elements from two lists using a `for` loop."
   ]
  },
  {
   "cell_type": "code",
   "execution_count": 49,
   "id": "c05ad05b-8e4a-4bcc-a1e5-88873482726d",
   "metadata": {},
   "outputs": [
    {
     "name": "stdout",
     "output_type": "stream",
     "text": [
      "[1, 2, 3, 101]\n"
     ]
    }
   ],
   "source": [
    "def common_elements(l1, l2):\n",
    "    common = []\n",
    "    for a in l1:\n",
    "        for b in l2:\n",
    "            \n",
    "            if a == b :\n",
    "                common.append(a)\n",
    "    return common\n",
    "\n",
    "l1 = [1,2,3,4,101]\n",
    "l2 = [1,3,2,101]\n",
    "\n",
    "result = common_elements(l1, l2)\n",
    "\n",
    "print(result)\n",
    "            "
   ]
  },
  {
   "cell_type": "code",
   "execution_count": 51,
   "id": "256c419c-2f92-46ba-a0dc-d590148d16be",
   "metadata": {},
   "outputs": [],
   "source": [
    "#9. Develop a program that prints the pattern of right-angled triangles using a `for` loop. Use ‘*’ to draw the \n",
    "#pattern"
   ]
  },
  {
   "cell_type": "code",
   "execution_count": 54,
   "id": "018bec0f-069d-4c70-bb9a-22772a8f0101",
   "metadata": {},
   "outputs": [
    {
     "name": "stdout",
     "output_type": "stream",
     "text": [
      "*\n",
      "**\n",
      "***\n",
      "****\n",
      "*****\n"
     ]
    }
   ],
   "source": [
    "def print_start(n):\n",
    "    for i in range(n):\n",
    "        print('*'*(i+1))\n",
    "print_start(5)"
   ]
  },
  {
   "cell_type": "code",
   "execution_count": 55,
   "id": "12e56393-a716-404c-8572-f403f6cdb2e2",
   "metadata": {},
   "outputs": [],
   "source": [
    "#20. Write a program to find the greatest common divisor (GCD) of two numbers using a `for` loop."
   ]
  },
  {
   "cell_type": "code",
   "execution_count": 58,
   "id": "90ebd427-eb15-4afb-882f-627c70e10b9d",
   "metadata": {},
   "outputs": [
    {
     "name": "stdout",
     "output_type": "stream",
     "text": [
      "gcd of 12 and 15: 3\n"
     ]
    }
   ],
   "source": [
    "def gcd(a, b):\n",
    "    while b:\n",
    "        a, b = b, a%b\n",
    "    return a\n",
    "\n",
    "n1 = 12\n",
    "n2 = 15\n",
    "\n",
    "result = gcd(n1, n2)\n",
    "print(f\"gcd of {n1} and {n2}:\", result)        "
   ]
  },
  {
   "cell_type": "code",
   "execution_count": 59,
   "id": "6406d300-d226-4cd2-898b-e00f4267fa2c",
   "metadata": {},
   "outputs": [],
   "source": [
    "#21. Create a program that calculates the sum of the digits of numbers in a list using a list comprehension.\n"
   ]
  },
  {
   "cell_type": "code",
   "execution_count": 74,
   "id": "5212326e-5858-46f8-b887-e72bd916f859",
   "metadata": {},
   "outputs": [
    {
     "name": "stdout",
     "output_type": "stream",
     "text": [
      "[1, 2, 9, 10]\n"
     ]
    }
   ],
   "source": [
    "def digit_sum(num):\n",
    "    return sum(int(d) for d in str(num) )\n",
    "\n",
    "numbers = [100,1001,333,55]\n",
    "\n",
    "result = [digit_sum(num) for num in numbers]\n",
    "\n",
    "print(result)"
   ]
  },
  {
   "cell_type": "code",
   "execution_count": 75,
   "id": "e1a2398c-b7f3-4937-8ee3-1e03fe21a28c",
   "metadata": {},
   "outputs": [],
   "source": [
    "#22. Write a program to find the prime factors of a given number using a `for` loop and list comprehension."
   ]
  },
  {
   "cell_type": "code",
   "execution_count": 4,
   "id": "167737f3-78e9-4b45-bd1c-9e54a25b5754",
   "metadata": {},
   "outputs": [
    {
     "name": "stdout",
     "output_type": "stream",
     "text": [
      "The prime factors of 9 are: [3, 3]\n"
     ]
    }
   ],
   "source": [
    "def find_prime_factors(n):\n",
    "    factors = []\n",
    "    for i in range(2, n+1):\n",
    "        while n % i == 0:\n",
    "            factors.append(i)\n",
    "            n //= i\n",
    "        if n == 1:\n",
    "            break\n",
    "    return factors\n",
    "\n",
    "# Example usage\n",
    "num = 9\n",
    "\n",
    "prime_factors = find_prime_factors(num)\n",
    "\n",
    "print(f\"The prime factors of {num} are: {prime_factors}\")\n"
   ]
  },
  {
   "cell_type": "code",
   "execution_count": 5,
   "id": "8b8cee3d-028b-4c0b-820d-21bd966e8697",
   "metadata": {},
   "outputs": [],
   "source": [
    "#23. Develop a program that extracts unique elements from a list and stores them in a new list using a list \n",
    "#comprehension."
   ]
  },
  {
   "cell_type": "code",
   "execution_count": 21,
   "id": "08ba5465-ce78-4ece-9410-d7291d49d1e3",
   "metadata": {},
   "outputs": [
    {
     "name": "stdout",
     "output_type": "stream",
     "text": [
      "[1, 2, 3, 4, 5, 11]\n"
     ]
    }
   ],
   "source": [
    "def unique_ele(list1):\n",
    "    return list(set(list1))\n",
    "my_list = [1,4,5,1,2,3,4,11,2,3]\n",
    "\n",
    "result = unique_ele(my_list)\n",
    "print(result)"
   ]
  },
  {
   "cell_type": "code",
   "execution_count": 22,
   "id": "abd6ce1c-03cc-40d0-8441-0c4c1d0b07ef",
   "metadata": {},
   "outputs": [],
   "source": [
    "#24. Create a program that generates a list of all palindromic numbers up to a specified limit using a list \n",
    "#comprehension."
   ]
  },
  {
   "cell_type": "code",
   "execution_count": 27,
   "id": "bd13dad5-2d07-495c-afa0-553f31ba368b",
   "metadata": {},
   "outputs": [
    {
     "name": "stdout",
     "output_type": "stream",
     "text": [
      "[0, 1, 2, 3, 4, 5, 6, 7, 8, 9]\n"
     ]
    }
   ],
   "source": [
    "def is_palindrome(num):\n",
    "    return str(num) == str(num)[::-1]\n",
    "\n",
    "def palindromic_numbers(limit):\n",
    "    return [num for num in range(limit + 1) if is_palindrome(num)]\n",
    "\n",
    "\n",
    "limit = 10\n",
    "\n",
    "palindromic_nums = palindromic_numbers(limit)\n",
    "\n",
    "print(palindromic_nums)\n"
   ]
  },
  {
   "cell_type": "code",
   "execution_count": 28,
   "id": "455b1565-8b19-49b0-83a1-d0f3211c998a",
   "metadata": {},
   "outputs": [],
   "source": [
    "#25. Write a program to flatten a nested list using list comprehension."
   ]
  },
  {
   "cell_type": "code",
   "execution_count": 31,
   "id": "cbcdcea5-6ff3-43e5-b8f0-bdac9faa6204",
   "metadata": {},
   "outputs": [
    {
     "name": "stdout",
     "output_type": "stream",
     "text": [
      "[1, 2, 3, 4, 5, 6, 7, 8, 9]\n"
     ]
    }
   ],
   "source": [
    "def flatten_nested_list(nested_list):\n",
    "    return [item for sublist in nested_list for item in sublist]\n",
    "\n",
    "\n",
    "nested_list = [[1, 2, 3], [4, 5], [6, 7, 8, 9]]\n",
    "\n",
    "flattened_list = flatten_nested_list(nested_list)\n",
    "\n",
    "print(flattened_list)\n"
   ]
  },
  {
   "cell_type": "code",
   "execution_count": 32,
   "id": "e7b5d844-e05c-4e50-a4ef-7cf86633e06a",
   "metadata": {},
   "outputs": [],
   "source": [
    "#26. Develop a program that computes the sum of even and odd numbers in a list separately using list \n",
    "#comprehension."
   ]
  },
  {
   "cell_type": "code",
   "execution_count": 37,
   "id": "0c915b0d-0b4e-4805-a2c9-217fb1e5abf8",
   "metadata": {},
   "outputs": [
    {
     "name": "stdout",
     "output_type": "stream",
     "text": [
      "sum of even number 6\n",
      "sum of odd number 9\n"
     ]
    }
   ],
   "source": [
    "def even_odd(numbers):\n",
    "    \n",
    "    even_sum = sum(i for i in numbers if i % 2 == 0)\n",
    "    odd_sum = sum(i for i in numbers if i % 2 != 0)\n",
    "    return even_sum , odd_sum\n",
    "\n",
    "numbers = [1,2,3,4,5]\n",
    "\n",
    "even_sum, odd_sum = even_odd(numbers)\n",
    "\n",
    "print(f\"sum of even number\", even_sum)\n",
    "print(f\"sum of odd number\", odd_sum)   "
   ]
  },
  {
   "cell_type": "code",
   "execution_count": 39,
   "id": "c82bc90b-8554-47d3-9091-669214ea6704",
   "metadata": {},
   "outputs": [],
   "source": [
    "#27. Create a program that generates a list of squares of odd numbers between 1 and 10 using list \n",
    "#comprehension."
   ]
  },
  {
   "cell_type": "code",
   "execution_count": 47,
   "id": "97c63647-952b-4d72-bb6b-50a8910cb473",
   "metadata": {},
   "outputs": [
    {
     "name": "stdout",
     "output_type": "stream",
     "text": [
      "[9, 25]\n"
     ]
    }
   ],
   "source": [
    "def squares(n):\n",
    "    \n",
    "    odd_num = [i ** 2 for i in n if i % 2 != 0] \n",
    "    return odd_num\n",
    "\n",
    "number = [2,3,4,5]\n",
    "\n",
    "result = squares(number)\n",
    "print(result)    "
   ]
  },
  {
   "cell_type": "code",
   "execution_count": 48,
   "id": "11197e8e-df92-403e-a145-86f5ec1f270f",
   "metadata": {},
   "outputs": [],
   "source": [
    "#28. Write a program that combines two lists into a dictionary using list comprehension."
   ]
  },
  {
   "cell_type": "code",
   "execution_count": 51,
   "id": "edff812f-61a2-499b-bb5f-562f148ab2a2",
   "metadata": {},
   "outputs": [
    {
     "name": "stdout",
     "output_type": "stream",
     "text": [
      "{'E_name': 'Swarup', 'E_salary': 45000, 'E_dept': 'BI'}\n"
     ]
    }
   ],
   "source": [
    "def combine_list(keys, values):\n",
    "    return {keys[i]: values[i] for i in range(min(len(keys),len(values))) }\n",
    "\n",
    "keys = [\"E_name\",\"E_salary\",\"E_dept\"]\n",
    "values = [\"Swarup\",45000,'BI']\n",
    "\n",
    "result = combine_list(keys, values)\n",
    "print(result)"
   ]
  },
  {
   "cell_type": "code",
   "execution_count": 52,
   "id": "04a8f1dc-f11d-4e90-8b53-237fce9142b9",
   "metadata": {},
   "outputs": [],
   "source": [
    "#29. Develop a program that extracts the vowels from a string and stores them in a list using list comprehension."
   ]
  },
  {
   "cell_type": "code",
   "execution_count": 69,
   "id": "97fe8b6e-073f-41f3-a16d-234aa12e4dbf",
   "metadata": {},
   "outputs": [
    {
     "name": "stdout",
     "output_type": "stream",
     "text": [
      "['I', 'i', 'e', 'o']\n"
     ]
    }
   ],
   "source": [
    "def vowles(string):\n",
    "    vo = \"aeiouAEIOU\"\n",
    "    extract_vo = [c for c in string if c in vo]\n",
    "    return extract_vo\n",
    "\n",
    "string = \"I like python\"\n",
    "result = vowles(string) \n",
    "print(result)"
   ]
  },
  {
   "cell_type": "code",
   "execution_count": 70,
   "id": "926347f9-fc58-471b-9e49-97a53c68afa3",
   "metadata": {},
   "outputs": [],
   "source": [
    "#30. Create a program that removes all non-numeric characters from a list of strings using list comprehension."
   ]
  },
  {
   "cell_type": "code",
   "execution_count": 8,
   "id": "c9991ca3-58ea-4ac0-a745-fc5b26626a1d",
   "metadata": {},
   "outputs": [
    {
     "name": "stdout",
     "output_type": "stream",
     "text": [
      "['123', '295', '789']\n"
     ]
    }
   ],
   "source": [
    "def remove_non_numeric(strings):\n",
    "    return [''.join(char for char in string if char.isdigit()) for string in strings]\n",
    "\n",
    "# Example usage\n",
    "string_list = [\"abc123\", \"ibj295\", \"Alex789\"]\n",
    "\n",
    "numeric_strings = remove_non_numeric(string_list)\n",
    "\n",
    "print(numeric_strings)\n"
   ]
  },
  {
   "cell_type": "code",
   "execution_count": 1,
   "id": "5c24ead8-982b-4b2c-be4f-679af77346ca",
   "metadata": {},
   "outputs": [],
   "source": [
    "#31. Write a program to generate a list of prime numbers using the Sieve of Eratosthenes algorithm and list \n",
    "#comprehension"
   ]
  },
  {
   "cell_type": "code",
   "execution_count": 1,
   "id": "20e58fb9-8ff3-4d65-b260-771bf5ec7593",
   "metadata": {},
   "outputs": [
    {
     "name": "stdin",
     "output_type": "stream",
     "text": [
      "Enter a number to find prime numbers:  13\n"
     ]
    },
    {
     "name": "stdout",
     "output_type": "stream",
     "text": [
      "[2, 3, 4, 5, 6, 7, 8, 9, 10, 11, 12, 13]\n"
     ]
    }
   ],
   "source": [
    "def sieve_of(n):\n",
    "    sieve = [True] * (n + 1)\n",
    "    sieve[0] = sieve[1] = False\n",
    "    prime_numbers = [i for i in range(2, n + 1) if sieve[i]]\n",
    "    \n",
    "    for p in prime_numbers:\n",
    "        for i in range(p * p, n + 1, p):\n",
    "            sieve[i] = False\n",
    "\n",
    "    return prime_numbers\n",
    "\n",
    "n = int(input(\"Enter a number to find prime numbers: \"))\n",
    "prime_list = sieve_of(n)\n",
    "print(prime_list)"
   ]
  },
  {
   "cell_type": "code",
   "execution_count": 9,
   "id": "5572243f-d5da-4adb-a98c-4f75912ec065",
   "metadata": {},
   "outputs": [],
   "source": [
    "#32. Create a program that generates a list of all Pythagorean triplets up to a specified limit using list \n",
    "#comprehension."
   ]
  },
  {
   "cell_type": "code",
   "execution_count": 2,
   "id": "8f8f418f-0c63-4449-a584-16805c609f20",
   "metadata": {},
   "outputs": [
    {
     "name": "stdin",
     "output_type": "stream",
     "text": [
      "Enter a limit to find Pythagorean triplets up to that limit:  12\n"
     ]
    },
    {
     "name": "stdout",
     "output_type": "stream",
     "text": [
      "Pythagorean triplets up to 12 are:\n",
      "[(3, 4, 5), (6, 8, 10)]\n"
     ]
    }
   ],
   "source": [
    "def generate_pythagorean_triplets(limit):\n",
    "    triplets = [(a, b, c) for a in range(1, limit + 1) for b in range(a, limit + 1) for c in range(b, limit + 1) if a**2 + b**2 == c**2]\n",
    "    return triplets\n",
    "\n",
    "limit = int(input(\"Enter a limit to find Pythagorean triplets up to that limit: \"))\n",
    "pythagorean_triplets = generate_pythagorean_triplets(limit)\n",
    "print(\"Pythagorean triplets up to\", limit, \"are:\")\n",
    "print(pythagorean_triplets)\n"
   ]
  },
  {
   "cell_type": "code",
   "execution_count": 3,
   "id": "ed0066b0-8152-4f04-ade5-742ecb9da13e",
   "metadata": {},
   "outputs": [],
   "source": [
    "#33. Develop a program that generates a list of all possible combinations of two lists using list comprehension."
   ]
  },
  {
   "cell_type": "code",
   "execution_count": 6,
   "id": "2770f60a-b3ef-4d3a-9202-c86c224ae675",
   "metadata": {},
   "outputs": [
    {
     "name": "stdout",
     "output_type": "stream",
     "text": [
      "All possible combinations are :\n",
      "[(1, 'x'), (1, 'y'), (1, 'z'), (2, 'x'), (2, 'y'), (2, 'z'), (3, 'x'), (3, 'y'), (3, 'z'), (4, 'x'), (4, 'y'), (4, 'z')]\n"
     ]
    }
   ],
   "source": [
    "list1 = [1,2,3,4]\n",
    "list2 = ['x','y','z']\n",
    "\n",
    "combination = [(x,y) for x in list1 for y in list2 ]\n",
    "\n",
    "print(\"All possible combinations are :\")\n",
    "print(combination)\n"
   ]
  },
  {
   "cell_type": "code",
   "execution_count": 7,
   "id": "85f338de-000e-4bf2-90b9-5a77b9799444",
   "metadata": {},
   "outputs": [],
   "source": [
    "#34. Write a program that calculates the mean, median, and mode of a list of numbers using list \n",
    "#comprehension."
   ]
  },
  {
   "cell_type": "code",
   "execution_count": 9,
   "id": "cc4ceec9-b79d-4a6b-aeb6-e387437244c9",
   "metadata": {},
   "outputs": [
    {
     "name": "stdout",
     "output_type": "stream",
     "text": [
      "List of numbers: [3, 1, 4, 1, 5, 9, 2, 6, 5, 3, 5]\n",
      "Mean: 4.0\n",
      "Median: 4\n",
      "Mode: 5\n"
     ]
    }
   ],
   "source": [
    "from collections import Counter\n",
    "\n",
    "# Function to calculate the mean\n",
    "def calculate_mean(numbers):\n",
    "    return sum(numbers) / len(numbers)\n",
    "\n",
    "# Function to calculate the median\n",
    "def calculate_median(numbers):\n",
    "    sorted_numbers = sorted(numbers)\n",
    "    n = len(sorted_numbers)\n",
    "    if n % 2 == 1:\n",
    "        return sorted_numbers[n // 2]\n",
    "    else:\n",
    "        mid1 = sorted_numbers[(n - 1) // 2]\n",
    "        mid2 = sorted_numbers[n // 2]\n",
    "        return (mid1 + mid2) / 2\n",
    "\n",
    "# Function to calculate the mode\n",
    "def calculate_mode(numbers):\n",
    "    counts = Counter(numbers)\n",
    "    mode = max(counts, key=counts.get)\n",
    "    return mode\n",
    "\n",
    "# Input list of numbers\n",
    "numbers = [3, 1, 4, 1, 5, 9, 2, 6, 5, 3, 5]\n",
    "\n",
    "# Calculate mean using list comprehension\n",
    "mean = calculate_mean(numbers)\n",
    "\n",
    "# Calculate median using list comprehension\n",
    "median = calculate_median(numbers)\n",
    "\n",
    "# Calculate mode using list comprehension\n",
    "mode = calculate_mode(numbers)\n",
    "\n",
    "# Print the results\n",
    "print(\"List of numbers:\", numbers)\n",
    "print(\"Mean:\", mean)\n",
    "print(\"Median:\", median)\n",
    "print(\"Mode:\", mode)\n"
   ]
  },
  {
   "cell_type": "code",
   "execution_count": 10,
   "id": "f321062d-c62a-4b9c-8c2f-4bdbafbc49b3",
   "metadata": {},
   "outputs": [],
   "source": [
    "#35. Create a program that generates Pascal's triangle up to a specified number of rows using list \n",
    "#comprehension."
   ]
  },
  {
   "cell_type": "code",
   "execution_count": 12,
   "id": "73ddc57d-e203-4bf5-bc6a-9c315db54ae9",
   "metadata": {},
   "outputs": [
    {
     "name": "stdin",
     "output_type": "stream",
     "text": [
      "Enter the number of rows for Pascal's triangle:  5\n"
     ]
    },
    {
     "name": "stdout",
     "output_type": "stream",
     "text": [
      "       1       \n",
      "      1 1      \n",
      "     1 2 1     \n",
      "    1 3 3 1    \n",
      "   1 4 6 4 1   \n"
     ]
    }
   ],
   "source": [
    "def generate_pascals_triangle(num_rows):\n",
    "    if num_rows <= 0:\n",
    "        return []\n",
    "\n",
    "    triangle = [[1]]\n",
    "    \n",
    "    for i in range(1, num_rows):\n",
    "        previous_row = triangle[-1]\n",
    "        new_row = [1] + [previous_row[j] + previous_row[j + 1] for j in range(len(previous_row) - 1)] + [1]\n",
    "        triangle.append(new_row)\n",
    "    \n",
    "    return triangle\n",
    "\n",
    "num_rows = int(input(\"Enter the number of rows for Pascal's triangle: \"))\n",
    "pascals_triangle = generate_pascals_triangle(num_rows)\n",
    "\n",
    "# Print Pascal's triangle\n",
    "for row in pascals_triangle:\n",
    "    print(\" \".join(map(str, row)).center(num_rows * 3))\n"
   ]
  },
  {
   "cell_type": "code",
   "execution_count": 13,
   "id": "507bc996-3a8c-4164-a291-ad3c88b8f838",
   "metadata": {},
   "outputs": [],
   "source": [
    "#36. Develop a program that calculates the sum of the digits of a factorial of numbers from 1 to 5 using list \n",
    "#comprehension."
   ]
  },
  {
   "cell_type": "code",
   "execution_count": 15,
   "id": "0784d34e-013c-4e2e-a487-91ed83059c4d",
   "metadata": {},
   "outputs": [
    {
     "name": "stdout",
     "output_type": "stream",
     "text": [
      "Factorial of 1 is 1, and the sum of its digits is 1\n",
      "Factorial of 2 is 2, and the sum of its digits is 2\n",
      "Factorial of 3 is 6, and the sum of its digits is 6\n",
      "Factorial of 4 is 24, and the sum of its digits is 6\n",
      "Factorial of 5 is 120, and the sum of its digits is 3\n"
     ]
    }
   ],
   "source": [
    "# Function to calculate the factorial of a number\n",
    "def factorial(n):\n",
    "    if n == 0 or n == 1:\n",
    "        return 1\n",
    "    else:\n",
    "        return n * factorial(n - 1)\n",
    "\n",
    "# Use list comprehension to generate factorials for numbers from 1 to 5\n",
    "n_values = range(1, 6)\n",
    "factorials = [factorial(n) for n in n_values]\n",
    "\n",
    "# Calculate the sum of the digits of each factorial using list comprehension\n",
    "digit_sums = [sum(map(int, str(factorial))) for factorial in factorials]\n",
    "\n",
    "# Print the results\n",
    "for n, factorial, digit_sum in zip(n_values, factorials, digit_sums):\n",
    "    print(f\"Factorial of {n} is {factorial}, and the sum of its digits is {digit_sum}\")\n"
   ]
  },
  {
   "cell_type": "code",
   "execution_count": 16,
   "id": "dee6b0ef-da12-43b6-b97d-d351e9e1f478",
   "metadata": {},
   "outputs": [],
   "source": [
    "#37. Write a program that finds the longest word in a sentence using list comprehension."
   ]
  },
  {
   "cell_type": "code",
   "execution_count": 24,
   "id": "9557f5eb-4e6c-48ae-a0a4-944dee22cedc",
   "metadata": {},
   "outputs": [
    {
     "name": "stdin",
     "output_type": "stream",
     "text": [
      "Please enter a text india is my country\n"
     ]
    },
    {
     "name": "stdout",
     "output_type": "stream",
     "text": [
      "longest word in provided sentenceis : country\n"
     ]
    }
   ],
   "source": [
    "input_text = input(\"Please enter a text\")\n",
    "\n",
    "splt = input_text.split()\n",
    "\n",
    "long_word = max(splt,key = lambda splt: len(splt))\n",
    "\n",
    "print(f\"longest word in provided sentenceis : {long_word}\")"
   ]
  },
  {
   "cell_type": "code",
   "execution_count": 25,
   "id": "b59c71c7-4dd0-4a35-b598-a185f572a788",
   "metadata": {},
   "outputs": [],
   "source": [
    "#38. Create a program that filters a list of strings to include only those with more than three vowels using list \n",
    "#comprehension."
   ]
  },
  {
   "cell_type": "code",
   "execution_count": 26,
   "id": "f9c6c846-791b-4574-b204-e061a31f1ee5",
   "metadata": {},
   "outputs": [
    {
     "name": "stdout",
     "output_type": "stream",
     "text": [
      "Strings with more than three vowels: ['grapefruit', 'watermelon']\n"
     ]
    }
   ],
   "source": [
    "# Function to count the number of vowels in a string\n",
    "def count_vowels(string):\n",
    "    vowels = \"AEIOUaeiou\"\n",
    "    return sum(1 for char in string if char in vowels)\n",
    "\n",
    "# Input list of strings\n",
    "string_list = [\"apple\", \"banana\", \"cherry\", \"date\", \"grapefruit\", \"kiwi\", \"lemon\", \"orange\", \"strawberry\", \"watermelon\"]\n",
    "\n",
    "# Use list comprehension to filter strings with more than three vowels\n",
    "filtered_strings = [string for string in string_list if count_vowels(string) > 3]\n",
    "\n",
    "# Print the filtered strings\n",
    "print(\"Strings with more than three vowels:\", filtered_strings)\n"
   ]
  },
  {
   "cell_type": "code",
   "execution_count": 27,
   "id": "7824a8b5-f249-4ef7-9873-5af0d873a621",
   "metadata": {},
   "outputs": [],
   "source": [
    "#39. Develop a program that calculates the sum of the digits of numbers from 1 to 1000 using list \n",
    "#comprehension."
   ]
  },
  {
   "cell_type": "code",
   "execution_count": 29,
   "id": "38e918fa-60cb-4473-aaa6-5462508676c2",
   "metadata": {},
   "outputs": [
    {
     "name": "stdout",
     "output_type": "stream",
     "text": [
      "The sum of the digits of numbers from 1 to 1000 is: 13501\n"
     ]
    }
   ],
   "source": [
    "# Function to calculate the sum of the digits of a number\n",
    "def digit_sum(n):\n",
    "    return sum(int(digit) for digit in str(n))\n",
    "\n",
    "# Use list comprehension to generate numbers from 1 to 1000 and calculate their digit sums\n",
    "numbers = range(1, 1001)\n",
    "digit_sums = [digit_sum(number) for number in numbers]\n",
    "\n",
    "# Calculate the total sum of the digit sums using sum()\n",
    "total_sum = sum(digit_sums)\n",
    "\n",
    "# Print the total sum\n",
    "print(\"The sum of the digits of numbers from 1 to 1000 is:\", total_sum)"
   ]
  },
  {
   "cell_type": "code",
   "execution_count": 30,
   "id": "78d346d0-c1c5-4c9a-af9f-1f86fd7e4f34",
   "metadata": {},
   "outputs": [],
   "source": [
    "#40. Write a program that generates a list of prime palindromic numbers using list comprehension."
   ]
  },
  {
   "cell_type": "code",
   "execution_count": 31,
   "id": "4a9237b4-f473-4181-9972-22135457cb47",
   "metadata": {},
   "outputs": [
    {
     "name": "stdout",
     "output_type": "stream",
     "text": [
      "Prime palindromic numbers up to 1000:\n",
      "[2, 3, 5, 7, 11, 101, 131, 151, 181, 191, 313, 353, 373, 383, 727, 757, 787, 797, 919, 929]\n"
     ]
    }
   ],
   "source": [
    "# Function to check if a number is prime\n",
    "def is_prime(n):\n",
    "    if n <= 1:\n",
    "        return False\n",
    "    if n <= 3:\n",
    "        return True\n",
    "    if n % 2 == 0 or n % 3 == 0:\n",
    "        return False\n",
    "    i = 5\n",
    "    while i * i <= n:\n",
    "        if n % i == 0 or n % (i + 2) == 0:\n",
    "            return False\n",
    "        i += 6\n",
    "    return True\n",
    "\n",
    "# Function to check if a number is a palindrome\n",
    "def is_palindrome(n):\n",
    "    return str(n) == str(n)[::-1]\n",
    "\n",
    "# Use list comprehension to generate prime palindromic numbers\n",
    "prime_palindromes = [num for num in range(2, 1000) if is_prime(num) and is_palindrome(num)]\n",
    "\n",
    "# Print the list of prime palindromic numbers\n",
    "print(\"Prime palindromic numbers up to 1000:\")\n",
    "print(prime_palindromes)"
   ]
  }
 ],
 "metadata": {
  "kernelspec": {
   "display_name": "Python 3 (ipykernel)",
   "language": "python",
   "name": "python3"
  },
  "language_info": {
   "codemirror_mode": {
    "name": "ipython",
    "version": 3
   },
   "file_extension": ".py",
   "mimetype": "text/x-python",
   "name": "python",
   "nbconvert_exporter": "python",
   "pygments_lexer": "ipython3",
   "version": "3.10.8"
  }
 },
 "nbformat": 4,
 "nbformat_minor": 5
}
