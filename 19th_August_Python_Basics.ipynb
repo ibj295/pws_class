{
 "cells": [
  {
   "cell_type": "code",
   "execution_count": 1,
   "id": "f7cb841a-a91f-4d13-a237-e48c9469da5e",
   "metadata": {},
   "outputs": [],
   "source": [
    "#Python Basics Variable"
   ]
  },
  {
   "cell_type": "code",
   "execution_count": 1,
   "id": "bf729904-a4a7-4ff5-a8ca-dc33e7ca37ba",
   "metadata": {},
   "outputs": [
    {
     "name": "stdout",
     "output_type": "stream",
     "text": [
      "X= 10\n",
      "y = 5\n"
     ]
    }
   ],
   "source": [
    "'''Q1. Declare two variables, `x` and `y`, and assign them integer values. Swap the\n",
    "values of these variables without using any temporary variable.'''\n",
    "\n",
    "x = 5\n",
    "y = 10\n",
    "\n",
    "x,y = y,x\n",
    "\n",
    "print('X=',x)\n",
    "print('y =', y )"
   ]
  },
  {
   "cell_type": "code",
   "execution_count": 5,
   "id": "514f06e6-cdfb-4182-a12f-166e05c34384",
   "metadata": {},
   "outputs": [
    {
     "name": "stdin",
     "output_type": "stream",
     "text": [
      "Please enter length 1\n",
      "Please enter width 3\n"
     ]
    },
    {
     "name": "stdout",
     "output_type": "stream",
     "text": [
      "Area of rectangle is 3\n"
     ]
    }
   ],
   "source": [
    "'''2. Create a program that calculates the area of a rectangle. Take the length and\n",
    "width as inputs from the user and store them in variables. Calculate and\n",
    "display the area.'''\n",
    "\n",
    "L = int(input('Please enter length'))\n",
    "W = int(input('Please enter width'))\n",
    "print('Area of rectangle is',L*W)"
   ]
  },
  {
   "cell_type": "code",
   "execution_count": 2,
   "id": "6dda3dbe-11a9-4a03-aaf2-31890a9f9a8f",
   "metadata": {},
   "outputs": [
    {
     "name": "stdin",
     "output_type": "stream",
     "text": [
      "Please enter Temperatures 23\n"
     ]
    },
    {
     "name": "stdout",
     "output_type": "stream",
     "text": [
      "The Temperature in Fahrenheit is 73.4\n"
     ]
    }
   ],
   "source": [
    "'''3. Write a Python program that converts temperatures from Celsius to\n",
    "Fahrenheit. Take the temperature in Celsius as input, store it in a variable,\n",
    "convert it to Fahrenheit, and display the result.'''\n",
    "\n",
    "\n",
    "Tem_Celsius = int(input('Please enter Temperatures'))\n",
    "print('The Temperature in Fahrenheit is',((Tem_Celsius*9/5)+32))"
   ]
  },
  {
   "cell_type": "code",
   "execution_count": null,
   "id": "2f8ec162-dadb-4fff-b58d-fa1fec394ad6",
   "metadata": {},
   "outputs": [],
   "source": [
    "#String Based Questions"
   ]
  },
  {
   "cell_type": "code",
   "execution_count": 3,
   "id": "38e67640-acd0-4a96-95f4-0da3aee82e09",
   "metadata": {},
   "outputs": [
    {
     "name": "stdin",
     "output_type": "stream",
     "text": [
      "Please enter country_name india\n"
     ]
    },
    {
     "name": "stdout",
     "output_type": "stream",
     "text": [
      "5\n"
     ]
    }
   ],
   "source": [
    "'''1. Write a Python program that takes a string as input and prints the length of\n",
    "the string. '''\n",
    "\n",
    "Country = input('Please enter country_name')\n",
    "print(len(Country))"
   ]
  },
  {
   "cell_type": "code",
   "execution_count": 8,
   "id": "98a1037b-eaf1-4e03-b43b-3ef7036ae496",
   "metadata": {},
   "outputs": [
    {
     "name": "stdin",
     "output_type": "stream",
     "text": [
      "Please enter text:  I love my country\n"
     ]
    },
    {
     "name": "stdout",
     "output_type": "stream",
     "text": [
      "There is  5 vowles in provided text\n"
     ]
    }
   ],
   "source": [
    "'''2. Create a program that takes a sentence from the user and counts the number\n",
    "of vowels (a, e, i, o, u) in the string.'''\n",
    "\n",
    "texta = input('Please enter text: ')\n",
    "vowle1 = 'aeiuoAEIUO'\n",
    "\n",
    "counta = 0\n",
    "\n",
    "for t in texta:\n",
    "    if t in vowle1:\n",
    "        counta +=1\n",
    "print('There is ',counta,'vowles in provided text')          "
   ]
  },
  {
   "cell_type": "code",
   "execution_count": 9,
   "id": "e09c6fd4-66eb-4347-9e75-f7e10738f091",
   "metadata": {},
   "outputs": [
    {
     "data": {
      "text/plain": [
       "'aidnI'"
      ]
     },
     "execution_count": 9,
     "metadata": {},
     "output_type": "execute_result"
    }
   ],
   "source": [
    "'''3. Given a string, reverse the order of characters using string slicing and print\n",
    "the reversed string.'''\n",
    "    \n",
    "\n",
    "A = 'India'\n",
    "A[::-1]"
   ]
  },
  {
   "cell_type": "code",
   "execution_count": 20,
   "id": "cbff83de-5809-489e-89fe-45075097b3cf",
   "metadata": {},
   "outputs": [
    {
     "name": "stdin",
     "output_type": "stream",
     "text": [
      "please enter a text:  3003\n"
     ]
    },
    {
     "name": "stdout",
     "output_type": "stream",
     "text": [
      "This is a palindrome\n"
     ]
    }
   ],
   "source": [
    "'''4. Write a program that takes a string as input and checks if it is a palindrome\n",
    "(reads the same forwards and backwards).'''\n",
    "\n",
    "t1 = input('please enter a text: ')\n",
    "\n",
    "t2 = t1[::-1]\n",
    "\n",
    "if t1 == t2:\n",
    "    print('This is a palindrome')\n",
    "else:\n",
    "    print('This is not a palindrome')\n",
    "    \n",
    "    \n"
   ]
  },
  {
   "cell_type": "code",
   "execution_count": 23,
   "id": "19565dd8-3f6d-448c-8e88-a89e060417ec",
   "metadata": {},
   "outputs": [
    {
     "name": "stdin",
     "output_type": "stream",
     "text": [
      "Please enter a str:  my name is sandip pawar\n"
     ]
    },
    {
     "name": "stdout",
     "output_type": "stream",
     "text": [
      "mynameissandippawar\n"
     ]
    }
   ],
   "source": [
    "'''5. Create a program that takes a string as input and removes all the spaces from\n",
    "it. Print the modified string without spaces.'''\n",
    "\n",
    "t9 = input('Please enter a str: ')\n",
    "print(t9.replace(' ',''))\n"
   ]
  }
 ],
 "metadata": {
  "kernelspec": {
   "display_name": "Python 3 (ipykernel)",
   "language": "python",
   "name": "python3"
  },
  "language_info": {
   "codemirror_mode": {
    "name": "ipython",
    "version": 3
   },
   "file_extension": ".py",
   "mimetype": "text/x-python",
   "name": "python",
   "nbconvert_exporter": "python",
   "pygments_lexer": "ipython3",
   "version": "3.10.8"
  }
 },
 "nbformat": 4,
 "nbformat_minor": 5
}
