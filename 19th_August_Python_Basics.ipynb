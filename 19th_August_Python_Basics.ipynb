{
 "cells": [
  {
   "cell_type": "code",
   "execution_count": 1,
   "id": "f7cb841a-a91f-4d13-a237-e48c9469da5e",
   "metadata": {},
   "outputs": [],
   "source": [
    "#Python Basics Variable"
   ]
  },
  {
   "cell_type": "code",
   "execution_count": 46,
   "id": "bf729904-a4a7-4ff5-a8ca-dc33e7ca37ba",
   "metadata": {},
   "outputs": [
    {
     "name": "stdout",
     "output_type": "stream",
     "text": [
      "X= 10\n",
      "y = 5\n"
     ]
    }
   ],
   "source": [
    "#Q.1\n",
    "x = 5\n",
    "y = 10\n",
    "\n",
    "x,y = y,x\n",
    "\n",
    "print('X=',x)\n",
    "print('y =', y )"
   ]
  },
  {
   "cell_type": "code",
   "execution_count": 10,
   "id": "514f06e6-cdfb-4182-a12f-166e05c34384",
   "metadata": {},
   "outputs": [
    {
     "name": "stdin",
     "output_type": "stream",
     "text": [
      "Please enter length 2\n",
      "Please enter width 3\n"
     ]
    },
    {
     "name": "stdout",
     "output_type": "stream",
     "text": [
      "Area of rectangle is 6\n"
     ]
    }
   ],
   "source": [
    "#Q.2\n",
    "L = int(input('Please enter length'))\n",
    "W = int(input('Please enter width'))\n",
    "print('Area of rectangle is',L*W)"
   ]
  },
  {
   "cell_type": "code",
   "execution_count": 17,
   "id": "6dda3dbe-11a9-4a03-aaf2-31890a9f9a8f",
   "metadata": {},
   "outputs": [
    {
     "name": "stdin",
     "output_type": "stream",
     "text": [
      "Please enter Temperatures 39\n"
     ]
    },
    {
     "name": "stdout",
     "output_type": "stream",
     "text": [
      "The Temperature in Fahrenheit is 102.2\n"
     ]
    }
   ],
   "source": [
    "#Q. 3\n",
    "\n",
    "Tem_Celsius = int(input('Please enter Temperatures'))\n",
    "print('The Temperature in Fahrenheit is',((Tem_Celsius*9/5)+32))"
   ]
  },
  {
   "cell_type": "code",
   "execution_count": null,
   "id": "2f8ec162-dadb-4fff-b58d-fa1fec394ad6",
   "metadata": {},
   "outputs": [],
   "source": [
    "#String Based Questions"
   ]
  },
  {
   "cell_type": "code",
   "execution_count": 3,
   "id": "38e67640-acd0-4a96-95f4-0da3aee82e09",
   "metadata": {},
   "outputs": [
    {
     "name": "stdin",
     "output_type": "stream",
     "text": [
      "Please enter country_name india\n"
     ]
    },
    {
     "name": "stdout",
     "output_type": "stream",
     "text": [
      "5\n"
     ]
    }
   ],
   "source": [
    "#Q. 1\n",
    "Country = input('Please enter country_name')\n",
    "print(len(Country))"
   ]
  },
  {
   "cell_type": "code",
   "execution_count": null,
   "id": "98a1037b-eaf1-4e03-b43b-3ef7036ae496",
   "metadata": {},
   "outputs": [],
   "source": [
    "#Q. 2\n",
    "#I don't know how to do\n"
   ]
  },
  {
   "cell_type": "code",
   "execution_count": 7,
   "id": "e09c6fd4-66eb-4347-9e75-f7e10738f091",
   "metadata": {},
   "outputs": [
    {
     "data": {
      "text/plain": [
       "'aidnI'"
      ]
     },
     "execution_count": 7,
     "metadata": {},
     "output_type": "execute_result"
    }
   ],
   "source": [
    "#Q. 3\n",
    "\n",
    "A = 'India'\n",
    "A[::-1]"
   ]
  },
  {
   "cell_type": "code",
   "execution_count": 8,
   "id": "cbff83de-5809-489e-89fe-45075097b3cf",
   "metadata": {},
   "outputs": [],
   "source": [
    "#Q. 4\n",
    "# I don't know how to do"
   ]
  },
  {
   "cell_type": "code",
   "execution_count": 19,
   "id": "19565dd8-3f6d-448c-8e88-a89e060417ec",
   "metadata": {},
   "outputs": [
    {
     "name": "stdin",
     "output_type": "stream",
     "text": [
      "Enter input text  india\n"
     ]
    }
   ],
   "source": [
    "#Q. 5\n",
    "Test = input('Enter input text')\n",
    "output = Test.strip()"
   ]
  }
 ],
 "metadata": {
  "kernelspec": {
   "display_name": "Python 3 (ipykernel)",
   "language": "python",
   "name": "python3"
  },
  "language_info": {
   "codemirror_mode": {
    "name": "ipython",
    "version": 3
   },
   "file_extension": ".py",
   "mimetype": "text/x-python",
   "name": "python",
   "nbconvert_exporter": "python",
   "pygments_lexer": "ipython3",
   "version": "3.10.8"
  }
 },
 "nbformat": 4,
 "nbformat_minor": 5
}
