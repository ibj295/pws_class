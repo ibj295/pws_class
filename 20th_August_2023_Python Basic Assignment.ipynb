{
 "cells": [
  {
   "cell_type": "code",
   "execution_count": 33,
   "id": "1d739a55-76ef-47fd-845f-46d881372e27",
   "metadata": {},
   "outputs": [],
   "source": [
    "#TOPIC: String Based Assignment Problem\n",
    "\n",
    "# 1. Write a program to reverse a string.\n"
   ]
  },
  {
   "cell_type": "code",
   "execution_count": 34,
   "id": "ad3859b4-d62a-4b93-8aa8-b4e16a5c040c",
   "metadata": {},
   "outputs": [
    {
     "name": "stdin",
     "output_type": "stream",
     "text": [
      "Enter Test india\n"
     ]
    },
    {
     "name": "stdout",
     "output_type": "stream",
     "text": [
      "aidni\n"
     ]
    }
   ],
   "source": [
    "Test = input('Enter Test')\n",
    "print(Test[::-1])\n"
   ]
  },
  {
   "cell_type": "code",
   "execution_count": 35,
   "id": "2c48af25-7671-4480-acb3-2630ed267a33",
   "metadata": {},
   "outputs": [],
   "source": [
    "#2. Check if a string is a palindrome."
   ]
  },
  {
   "cell_type": "code",
   "execution_count": 1,
   "id": "cdf91b83-6324-4c21-b88b-94ff90817706",
   "metadata": {},
   "outputs": [
    {
     "name": "stdin",
     "output_type": "stream",
     "text": [
      " mom\n"
     ]
    },
    {
     "name": "stdout",
     "output_type": "stream",
     "text": [
      "Its Palindrome\n"
     ]
    }
   ],
   "source": [
    "Enter_text = input()\n",
    "T1 = Enter_text\n",
    "T2 = Enter_text[::-1]\n",
    "if T1 == T2:\n",
    "    print('Its Palindrome')\n",
    "else:\n",
    "    print('Its not Palindrome')"
   ]
  },
  {
   "cell_type": "code",
   "execution_count": null,
   "id": "9d70b83a-8e4c-410d-b8b0-8527626459c1",
   "metadata": {},
   "outputs": [],
   "source": [
    "#3. Convert a string to uppercase.\n"
   ]
  },
  {
   "cell_type": "code",
   "execution_count": null,
   "id": "f00ea7c8-495d-49b6-8e00-09bd5f6ba8c8",
   "metadata": {},
   "outputs": [],
   "source": [
    "Enter_Text = input(\"Enter Text to convert in upper case:\")\n",
    "print(Enter_Text.upper())"
   ]
  },
  {
   "cell_type": "code",
   "execution_count": null,
   "id": "083867a3-168c-4550-b876-6a5111e332e2",
   "metadata": {},
   "outputs": [],
   "source": [
    "#4. Convert a string to lowercase."
   ]
  },
  {
   "cell_type": "code",
   "execution_count": null,
   "id": "a0a8fde7-6514-4bac-891b-e2fdfe67d7fd",
   "metadata": {},
   "outputs": [],
   "source": [
    "Enter_Text = input(\"Enter Text to convert in upper case:\")\n",
    "print(Enter_Text.lower())"
   ]
  },
  {
   "cell_type": "code",
   "execution_count": null,
   "id": "e8db5158-d608-4ef7-9b06-ed3e43af0b22",
   "metadata": {},
   "outputs": [],
   "source": [
    "#5. Count the number of vowels in a string."
   ]
  },
  {
   "cell_type": "code",
   "execution_count": null,
   "id": "e819b7c1-30da-4464-89d6-0668bcb0cf83",
   "metadata": {},
   "outputs": [],
   "source": [
    "Texta = input('Please enter str to count vowles: ')\n",
    "vowels = \"AEIOUaeiou\"\n",
    "v_count = 0\n",
    "\n",
    "for t in Texta:\n",
    "    if t in vowels:\n",
    "        v_count +=1\n",
    "        \n",
    "print('There are ', v_count ,' vowles in provided text')        "
   ]
  },
  {
   "cell_type": "code",
   "execution_count": null,
   "id": "e0cbb2a1-53ab-4198-8837-17730b8b4b23",
   "metadata": {},
   "outputs": [],
   "source": [
    "#6. Count the number of consonants in a string."
   ]
  },
  {
   "cell_type": "code",
   "execution_count": null,
   "id": "39cbfffb-b796-435f-9a44-ad4794243b1b",
   "metadata": {},
   "outputs": [],
   "source": [
    "str1 = input('Please enter a text')\n",
    "vow1 = 'aeiouAEIOU'\n",
    "count1 = 0\n",
    "\n",
    "for c in str1:\n",
    "    if c not in vow1:\n",
    "        count1 +=1\n",
    "        \n",
    "print(count1)        "
   ]
  },
  {
   "cell_type": "code",
   "execution_count": null,
   "id": "d484a54c-ef57-4bca-b544-ce408530e055",
   "metadata": {},
   "outputs": [],
   "source": [
    "#8. Find the length of a string without using the `len()` function.\n"
   ]
  },
  {
   "cell_type": "code",
   "execution_count": null,
   "id": "dd6f86e5-34f4-428c-9a87-46405a4c801d",
   "metadata": {},
   "outputs": [],
   "source": [
    "str2 = input('Please enter the Text: ')\n",
    "D= ''\n",
    "count3 = 0\n",
    "\n",
    "for c in str2:\n",
    "    if c not in D:\n",
    "        count3 +=1\n",
    "        \n",
    "print(count3)        "
   ]
  },
  {
   "cell_type": "code",
   "execution_count": null,
   "id": "abc9331a-e7eb-4669-b3cb-ae34cf35cd0e",
   "metadata": {},
   "outputs": [],
   "source": [
    "#9. Check if a string contains a specific word."
   ]
  },
  {
   "cell_type": "code",
   "execution_count": null,
   "id": "278f1280-f8b8-4b5a-bae7-c7d9732a6e3b",
   "metadata": {},
   "outputs": [],
   "source": [
    "yourstr = input(\"Please enter your str: \")\n",
    "\n",
    "word1 = input('Please enter word your want to search: ')\n",
    "\n",
    "TF = word1 in yourstr\n",
    "\n",
    "if TF == True: \n",
    "    print('Getting search word in input text')\n",
    "else:\n",
    "    print('Not getting search word in input text')\n"
   ]
  },
  {
   "cell_type": "code",
   "execution_count": null,
   "id": "629aa28d-763d-4e3b-9b43-69ffa020abc2",
   "metadata": {},
   "outputs": [],
   "source": [
    "#10. Replace a word in a string with another word."
   ]
  },
  {
   "cell_type": "code",
   "execution_count": null,
   "id": "6e289efb-bffc-43a3-a998-0ff1323219b7",
   "metadata": {},
   "outputs": [],
   "source": [
    "str5 = input('please enter a str: ')\n",
    "searchword = input(\"search word: \")\n",
    "replaceword = input(\"replace word: \")\n",
    "\n",
    "str5.replace(searchword,replaceword)"
   ]
  },
  {
   "cell_type": "code",
   "execution_count": null,
   "id": "fc13b926-1429-4bd1-b8c5-91d7e8f46f0b",
   "metadata": {},
   "outputs": [],
   "source": [
    "#11. Count the occurrences of a word in a string."
   ]
  },
  {
   "cell_type": "code",
   "execution_count": null,
   "id": "d2049bab-5476-4797-a9c2-ca93772b620b",
   "metadata": {},
   "outputs": [],
   "source": [
    "word8 = \"as well as\"\n",
    "\n",
    "word8.find('as')+1"
   ]
  },
  {
   "cell_type": "code",
   "execution_count": null,
   "id": "de1a82ea-b266-4045-bc23-9a29b7eb14e1",
   "metadata": {},
   "outputs": [],
   "source": [
    "#13. Find the last occurrence of a word in a string.\n",
    "\n",
    "word9 = 'I love mango as well as orange'\n",
    "word9.rfind('as')+1\n"
   ]
  },
  {
   "cell_type": "code",
   "execution_count": null,
   "id": "a3b9fd65-99d3-4b6f-860f-11c0a8ef0407",
   "metadata": {},
   "outputs": [],
   "source": [
    "#14. Split a string into a list of words."
   ]
  },
  {
   "cell_type": "code",
   "execution_count": null,
   "id": "13716faa-fe6e-4a12-b60b-2ba7ec32eeaf",
   "metadata": {},
   "outputs": [],
   "source": [
    "state = 'Maharshtra'\n",
    "print([*state])"
   ]
  },
  {
   "cell_type": "code",
   "execution_count": null,
   "id": "45c486c8-f687-4cbf-9a48-81859d90a070",
   "metadata": {},
   "outputs": [],
   "source": [
    "#15. Join a list of words into a string."
   ]
  },
  {
   "cell_type": "code",
   "execution_count": null,
   "id": "59246cb0-b958-4808-aafe-cb482060d02e",
   "metadata": {},
   "outputs": [],
   "source": [
    "lst1 = ['A',3,5,'u','i']\n",
    "\n",
    "lst2 = ['b',72,6,'pune']\n",
    "\n",
    "lst3 = lst1+lst2\n",
    "\n",
    "lst3"
   ]
  },
  {
   "cell_type": "code",
   "execution_count": null,
   "id": "b57dd7d1-d8da-480f-80de-2dc8c5abf394",
   "metadata": {},
   "outputs": [],
   "source": [
    "#16. Convert a string where words are separated by spaces to one where words\n",
    "#are separated by underscores."
   ]
  },
  {
   "cell_type": "code",
   "execution_count": null,
   "id": "94028344-a203-4c7f-90eb-c7d14ee848c9",
   "metadata": {},
   "outputs": [],
   "source": [
    "Strz = 'Mumbai is the financial capital of india'\n",
    "newstr = Strz.replace(' ','_')\n",
    "\n",
    "print(newstr)"
   ]
  },
  {
   "cell_type": "code",
   "execution_count": null,
   "id": "84ef6f56-9cc0-4919-ae51-fc9b295a6754",
   "metadata": {},
   "outputs": [],
   "source": [
    "#17. Check if a string starts with a specific word or phrase."
   ]
  },
  {
   "cell_type": "code",
   "execution_count": null,
   "id": "b2621d61-8bfe-4ca2-9ed5-e1a4680ec6fd",
   "metadata": {},
   "outputs": [],
   "source": [
    "Testword = \"I love my india\"\n",
    "print(Testword.startswith('I'))"
   ]
  },
  {
   "cell_type": "code",
   "execution_count": null,
   "id": "2b50c933-c8dc-4921-b62b-b3d2899e84b4",
   "metadata": {},
   "outputs": [],
   "source": [
    "#18. Check if a string ends with a specific word or phrase."
   ]
  },
  {
   "cell_type": "code",
   "execution_count": null,
   "id": "b9ec915e-28b0-423d-8c53-84b2cc2cc612",
   "metadata": {},
   "outputs": [],
   "source": [
    "Testword = \"I love my india\"\n",
    "print(Testword.endswith('india'))"
   ]
  },
  {
   "cell_type": "code",
   "execution_count": null,
   "id": "5f39d205-a49c-44bf-9b27-2186efbe7561",
   "metadata": {},
   "outputs": [],
   "source": [
    "#19. Convert a string to title case (e.g., \"hello world\" to \"Hello World\")."
   ]
  },
  {
   "cell_type": "code",
   "execution_count": null,
   "id": "602ed4f8-6212-4168-a3a6-2acc4fbbc97d",
   "metadata": {},
   "outputs": [],
   "source": [
    "title = 'I love india'\n",
    "title.title()"
   ]
  },
  {
   "cell_type": "code",
   "execution_count": null,
   "id": "6117d1d3-51d3-406c-8f8a-7b779aa6b6d4",
   "metadata": {},
   "outputs": [],
   "source": [
    "#20. Find the longest word in a string."
   ]
  },
  {
   "cell_type": "code",
   "execution_count": null,
   "id": "f908911f-d5a5-4ed3-a632-b8fb4fbc59bf",
   "metadata": {},
   "outputs": [],
   "source": [
    "string11 = input('please enter text')\n",
    "wlst  = string11.split()\n",
    "longWord = max(wlst, key = len)\n",
    "\n",
    "print('The long word in provide text is : ',longWord)\n"
   ]
  },
  {
   "cell_type": "code",
   "execution_count": null,
   "id": "7fce3c22-669b-4c77-a7d2-9b676dcc4034",
   "metadata": {},
   "outputs": [],
   "source": [
    "#21. Find the shortest word in a string."
   ]
  },
  {
   "cell_type": "code",
   "execution_count": null,
   "id": "f1e910f7-e338-45fd-86bd-65a9a36566a4",
   "metadata": {},
   "outputs": [],
   "source": [
    "str12 = input('please provide the text')\n",
    "splt12 = str12.split()\n",
    "shortword = min(splt12, key = len)\n",
    "print('The short word in provide text is : ',shortword)"
   ]
  },
  {
   "cell_type": "code",
   "execution_count": null,
   "id": "09a0f00b-f31f-48e3-9ed6-ef3c144df540",
   "metadata": {},
   "outputs": [],
   "source": [
    "#22. Reverse the order of words in a string."
   ]
  },
  {
   "cell_type": "code",
   "execution_count": null,
   "id": "08f36058-40cc-4a84-b59b-00a09c52f31c",
   "metadata": {},
   "outputs": [],
   "source": [
    "str22 = 'The bombay is the financial capital of india'\n",
    "word22 = str22.split()\n",
    "word23 = list(reversed(word22))\n",
    "print(\" \".join(word23))"
   ]
  },
  {
   "cell_type": "code",
   "execution_count": null,
   "id": "cddf884c-3631-4a65-b579-ab08f9e01f5c",
   "metadata": {},
   "outputs": [],
   "source": [
    "#23. Check if a string is alphanumeric."
   ]
  },
  {
   "cell_type": "code",
   "execution_count": null,
   "id": "be0307ca-6a76-4c55-8d51-78441e51b582",
   "metadata": {},
   "outputs": [],
   "source": [
    "str23 = '4q1f4rpune'\n",
    "word23 = str23.isalnum()\n",
    "\n",
    "if word23 == True:\n",
    "    print('String is alphanumeric ')\n",
    "else:\n",
    "    print('String is not alphanumeric')"
   ]
  },
  {
   "cell_type": "code",
   "execution_count": null,
   "id": "2f97a851-728a-47cb-bcba-fd6e5cf0093a",
   "metadata": {},
   "outputs": [],
   "source": [
    "#24. Extract all digits from a string."
   ]
  },
  {
   "cell_type": "code",
   "execution_count": null,
   "id": "b2bc53b5-969b-4899-9a84-3e53c1af06b2",
   "metadata": {},
   "outputs": [],
   "source": [
    "str24 = 'my pin code is 411001'\n",
    "d =  \"\"\n",
    "splt = str24.split()\n",
    "for i in splt:\n",
    "    if i.isnumeric():\n",
    "        d = \" \".join([d,i])\n",
    "print(d)        "
   ]
  },
  {
   "cell_type": "code",
   "execution_count": null,
   "id": "cb995f4c-7f6b-4ae2-b83f-d99e064c62b4",
   "metadata": {},
   "outputs": [],
   "source": [
    "#25. Extract all alphabets from a string."
   ]
  },
  {
   "cell_type": "code",
   "execution_count": null,
   "id": "64a988e8-da53-4456-8630-b5dc200cdd8d",
   "metadata": {},
   "outputs": [],
   "source": [
    "str25 = 'my pin code is 411001 and country code is 91'\n",
    "d =  \" \"\n",
    "splt = str25.split()\n",
    "for i in splt:\n",
    "    if i.isalpha():\n",
    "        d = \" \".join([d,i])\n",
    "print(d)        "
   ]
  },
  {
   "cell_type": "code",
   "execution_count": null,
   "id": "a5444129-13f2-4541-9b67-037281cf380a",
   "metadata": {},
   "outputs": [],
   "source": [
    "#26. Count the number of uppercase letters in a string."
   ]
  },
  {
   "cell_type": "code",
   "execution_count": null,
   "id": "90f0fd29-2c9a-4bb6-8ffd-90b06f7811f2",
   "metadata": {},
   "outputs": [],
   "source": [
    "str26 = 'PWSkill'\n",
    "uppercase = 0\n",
    "\n",
    "for i in str26:\n",
    "    if (i.isupper()):\n",
    "        uppercase+=1\n",
    "print(uppercase)              "
   ]
  },
  {
   "cell_type": "code",
   "execution_count": null,
   "id": "f35a6f23-3909-47e7-a61d-4dd8ec01aa1c",
   "metadata": {},
   "outputs": [],
   "source": [
    "#27. Count the number of lowercase letters in a string."
   ]
  },
  {
   "cell_type": "code",
   "execution_count": null,
   "id": "e4aa1484-b330-4ba4-b003-058f64dae782",
   "metadata": {},
   "outputs": [],
   "source": [
    "str27 = 'PWSkills'\n",
    "lowercase = 0\n",
    "for i in str27:\n",
    "    if (i.islower()):\n",
    "        lowercase+=1\n",
    "print(lowercase)        "
   ]
  },
  {
   "cell_type": "code",
   "execution_count": null,
   "id": "ec27e1c2-b403-4377-aa97-b6db6a064c80",
   "metadata": {},
   "outputs": [],
   "source": [
    "#28. Swap the case of each character in a string."
   ]
  },
  {
   "cell_type": "code",
   "execution_count": null,
   "id": "1133d581-1da9-47c0-a729-b826b4c99e06",
   "metadata": {},
   "outputs": [],
   "source": [
    "str28 = 'PWSkills'\n",
    "str1 = print(str28.swapcase())\n",
    "Txt = str1"
   ]
  },
  {
   "cell_type": "code",
   "execution_count": null,
   "id": "15306151-60ef-486b-b704-8754ebfc62cc",
   "metadata": {},
   "outputs": [],
   "source": [
    "#29. Remove a specific word from a string."
   ]
  },
  {
   "cell_type": "code",
   "execution_count": null,
   "id": "10232de9-066a-4536-9a3b-0adbe5e0c253",
   "metadata": {},
   "outputs": [],
   "source": [
    "str29 = 'I love india'\n",
    "rword = input('Enter word which you want to remove: ')\n",
    "print(str29.replace(rword,''))"
   ]
  },
  {
   "cell_type": "code",
   "execution_count": null,
   "id": "8fca8cc9-ff08-4bc5-8456-cdc6e2be5d89",
   "metadata": {},
   "outputs": [],
   "source": [
    "#30. Check if a string is a valid email address."
   ]
  },
  {
   "cell_type": "code",
   "execution_count": null,
   "id": "d19e61c2-24d2-4eea-8402-8eb476cbdde9",
   "metadata": {},
   "outputs": [],
   "source": [
    "em = input('Please enter a your email')\n",
    "em1 = \"@\" in em and '.' in em\n",
    "em2 = em1\n",
    "if em2 == True:\n",
    "    print('This is valid email id')\n",
    "else:\n",
    "    print('This is not valid email id')"
   ]
  },
  {
   "cell_type": "code",
   "execution_count": null,
   "id": "8be74684-c7f8-43e4-a012-938d0a15306f",
   "metadata": {},
   "outputs": [],
   "source": [
    "#31. Extract the username from an email address string."
   ]
  },
  {
   "cell_type": "code",
   "execution_count": null,
   "id": "e9740b26-4dbe-42ea-b703-03270483e189",
   "metadata": {},
   "outputs": [],
   "source": [
    "\n",
    "str31 = input('please enter a email id')\n",
    "res = str31.split('@')[0]\n",
    "print(\"The extracted domain name : \" + str(res))"
   ]
  },
  {
   "cell_type": "code",
   "execution_count": null,
   "id": "0e06abee-8713-4351-b150-8e72969f8f0a",
   "metadata": {},
   "outputs": [],
   "source": [
    "#32. Extract the domain name from an email address string."
   ]
  },
  {
   "cell_type": "code",
   "execution_count": null,
   "id": "310b7a23-0b76-4091-ae42-fec397ef6c54",
   "metadata": {},
   "outputs": [],
   "source": [
    "str32 = input('please enter a email id')\n",
    "print(str32.split('@')[-1])"
   ]
  },
  {
   "cell_type": "code",
   "execution_count": null,
   "id": "e6472aca-a063-4ac8-b633-48038dab833e",
   "metadata": {},
   "outputs": [],
   "source": [
    "#33. Replace multiple spaces in a string with a single space."
   ]
  },
  {
   "cell_type": "code",
   "execution_count": null,
   "id": "7a2ece9c-cbe0-45d6-ab7b-433cc24a0fe8",
   "metadata": {},
   "outputs": [],
   "source": [
    "Str33 = 'my name  is  Sam'\n",
    "Y = Str33.replace(\"  \",\" \")\n",
    "print(Y)"
   ]
  },
  {
   "cell_type": "code",
   "execution_count": null,
   "id": "d457a999-f161-4fce-962c-56e870881a2f",
   "metadata": {},
   "outputs": [],
   "source": [
    "#34. Check if a string is a valid URL."
   ]
  },
  {
   "cell_type": "code",
   "execution_count": null,
   "id": "218f781b-076f-4a04-845d-b1f2f1091f20",
   "metadata": {},
   "outputs": [],
   "source": [
    "str34 = 'https://blue-musician-cbhxi.pwskills.app/lab/tree/work/20th_August.ipynb'\n",
    "X = \"https:\" in str34 or 'http:' in str34\n",
    "Y = X\n",
    "if Y == True:\n",
    "    print('string has valid url')\n",
    "else:\n",
    "    print('string has not valid url')"
   ]
  },
  {
   "cell_type": "code",
   "execution_count": null,
   "id": "bce88ad6-043d-4297-821f-3ece1821efc3",
   "metadata": {},
   "outputs": [],
   "source": [
    "#35. Extract the protocol (http or https) from a URL string."
   ]
  },
  {
   "cell_type": "code",
   "execution_count": null,
   "id": "733a1792-8958-410f-ae11-2ae0841fe6e6",
   "metadata": {},
   "outputs": [],
   "source": [
    "Str35 = 'https://blue-musician-cbhxi.pwskills.app/lab/tree/work/20th_August.ipynb'\n",
    "splt35 = Str35.split(':')[0]\n",
    "print(splt35)"
   ]
  },
  {
   "cell_type": "code",
   "execution_count": null,
   "id": "bae7c0a4-954e-4c29-82de-0d5c7aec8fea",
   "metadata": {},
   "outputs": [],
   "source": [
    "#36. Find the frequency of each character in a string."
   ]
  },
  {
   "cell_type": "code",
   "execution_count": null,
   "id": "086d41fe-3d58-45c1-b44d-7716693f5521",
   "metadata": {},
   "outputs": [],
   "source": [
    "str36 = input('Please enter a text: ')\n",
    "set1 = {}\n",
    "\n",
    "for i in str36:\n",
    "    set1[i] = set1.get(i, 0) + 1\n",
    "print(str(set1))"
   ]
  },
  {
   "cell_type": "code",
   "execution_count": null,
   "id": "d6fa7bfb-b63e-46e3-b0b9-4c738c2c1df5",
   "metadata": {},
   "outputs": [],
   "source": [
    "#37. Remove all punctuation from a string."
   ]
  },
  {
   "cell_type": "code",
   "execution_count": null,
   "id": "1d9b25f7-2a70-4ff6-97fc-cc5c77f0a81c",
   "metadata": {},
   "outputs": [],
   "source": [
    "str37 = 'Wow! thank you. how are you ?'\n",
    "pun = '''!()-[]{};:'\"\\,<>./?@#$%^&*_~'''\n",
    "newstr = \" \"\n",
    "for p in str37:\n",
    "    if p not in pun:\n",
    "        newstr +=p\n",
    "        \n",
    "print(newstr)        \n",
    "        "
   ]
  },
  {
   "cell_type": "code",
   "execution_count": null,
   "id": "050f70ea-9d06-41ff-bd7a-c0abca3f2c56",
   "metadata": {},
   "outputs": [],
   "source": [
    "#38. Check if a string contains only digits."
   ]
  },
  {
   "cell_type": "code",
   "execution_count": null,
   "id": "e8500c56-a7fa-4829-a2e5-b5021b3072e6",
   "metadata": {},
   "outputs": [],
   "source": [
    "str38 = '12345a'\n",
    "if str38.isdigit():\n",
    "    print('string contain digit')\n",
    "else:\n",
    "    print('string done not contain digit')"
   ]
  },
  {
   "cell_type": "code",
   "execution_count": null,
   "id": "c265d7f6-a4d1-482d-af2c-87d6a2bfc080",
   "metadata": {},
   "outputs": [],
   "source": [
    "#39. Check if a string contains only alphabets."
   ]
  },
  {
   "cell_type": "code",
   "execution_count": null,
   "id": "113ef2bc-58ee-417e-a749-44209793c9ac",
   "metadata": {},
   "outputs": [],
   "source": [
    "str39 = 'abcdefg'\n",
    "if str39.isalpha():\n",
    "    print('string contains only alphabets')\n",
    "else:\n",
    "    print('string does not contains only alphabets')"
   ]
  },
  {
   "cell_type": "code",
   "execution_count": null,
   "id": "47feab52-ae67-43f2-862f-ea0d21a3ff83",
   "metadata": {},
   "outputs": [],
   "source": [
    "#40. Convert a string to a list of characters."
   ]
  },
  {
   "cell_type": "code",
   "execution_count": null,
   "id": "df0c873e-b7da-4b3c-b209-b0551af0fcfa",
   "metadata": {},
   "outputs": [],
   "source": [
    "str40 = 'india'\n",
    "list(str40)"
   ]
  },
  {
   "cell_type": "code",
   "execution_count": null,
   "id": "e96fa054-ba57-4cde-aa68-8f1d6059a204",
   "metadata": {},
   "outputs": [],
   "source": [
    "#41. Check if two strings are anagrams."
   ]
  },
  {
   "cell_type": "code",
   "execution_count": null,
   "id": "0b0a50bf-2f3a-4f66-8299-8d31a9c9269e",
   "metadata": {},
   "outputs": [],
   "source": [
    "str_one = 'act'\n",
    "str_two = 'cat'\n",
    "new_one = list(str_one).sort()\n",
    "\n",
    "new_two = list(str_two).sort()\n",
    "\n",
    "if new_one == new_two:\n",
    "    print(\"The strings are anagrams\")\n",
    "else:\n",
    "    print(\"The strings are not anagrams\")"
   ]
  },
  {
   "cell_type": "code",
   "execution_count": null,
   "id": "b7072922-1602-44e0-b3fd-57641f1b88a8",
   "metadata": {},
   "outputs": [],
   "source": [
    "#42. Encode a string using a Caesar cipher."
   ]
  },
  {
   "cell_type": "code",
   "execution_count": null,
   "id": "1d36a7aa-3cd5-4483-ac1c-198c2be58ffd",
   "metadata": {},
   "outputs": [],
   "source": [
    "def caesar_cipher_encode(text, shift):\n",
    "    result = ''.join([chr((ord(char) - 65 + shift) % 26 + 65) if char.isupper() else \n",
    "                      chr((ord(char) - 97 + shift) % 26 + 97) if char.islower() else char \n",
    "                      for char in text])\n",
    "    return result\n",
    "\n",
    "original_text = \"pwskills\"\n",
    "shift_value = 1\n",
    "\n",
    "encoded_text = caesar_cipher_encode(original_text, shift_value)\n",
    "print(f\"Encoded text: {encoded_text}\")\n"
   ]
  },
  {
   "cell_type": "code",
   "execution_count": null,
   "id": "c3090853-0818-421e-b01f-30d465db8d61",
   "metadata": {},
   "outputs": [],
   "source": [
    "#43. Decode a Caesar cipher encoded string."
   ]
  },
  {
   "cell_type": "code",
   "execution_count": null,
   "id": "92d0d269-6fdf-44d5-be6d-3492a85653a9",
   "metadata": {},
   "outputs": [],
   "source": [
    "def caesar_cipher_decode(text, shift):\n",
    "    result = ''.join([chr((ord(char) - 65 + shift) % 26 + 65) if char.isupper() else \n",
    "                      chr((ord(char) - 97 + shift) % 26 + 97) if char.islower() else char \n",
    "                      for char in text])\n",
    "    return result\n",
    "\n",
    "original_text = \"qxtljmmt\"\n",
    "shift_value = -1\n",
    "\n",
    "encoded_text = caesar_cipher_encode(original_text, shift_value)\n",
    "print(f\"Encoded text: {encoded_text}\")\n"
   ]
  },
  {
   "cell_type": "code",
   "execution_count": null,
   "id": "ea0fead5-a85e-4d71-ada5-e6b65353dd61",
   "metadata": {},
   "outputs": [],
   "source": [
    "#44. Find the most frequent word in a string."
   ]
  },
  {
   "cell_type": "code",
   "execution_count": null,
   "id": "4d5220dc-0a59-4115-8bfb-141e7fafd7fe",
   "metadata": {},
   "outputs": [],
   "source": [
    "#45. Find all unique words in a string."
   ]
  },
  {
   "cell_type": "code",
   "execution_count": null,
   "id": "ae9b3485-cd2f-47ec-a576-2793dbc00f42",
   "metadata": {},
   "outputs": [],
   "source": [
    "str = \"a and a a and b b and c\"\n",
    "s = set(str.split(\" \"))\n",
    "for i in s:\n",
    "\t\tprint(i)"
   ]
  },
  {
   "cell_type": "code",
   "execution_count": null,
   "id": "6444b2ed-5efd-413f-8ef2-291c169e6699",
   "metadata": {},
   "outputs": [],
   "source": [
    "#46. Count the number of syllables in a string."
   ]
  },
  {
   "cell_type": "code",
   "execution_count": null,
   "id": "b41b026e-69a4-44e9-88c5-a751aac8864f",
   "metadata": {},
   "outputs": [],
   "source": [
    "new_word = 'python-dev'\n",
    "count_syllables = new_word.split('-')\n",
    "X = len(count_syllables)\n",
    "print(X)"
   ]
  },
  {
   "cell_type": "code",
   "execution_count": null,
   "id": "f5103e85-8b20-48f6-b466-226417281ecc",
   "metadata": {},
   "outputs": [],
   "source": [
    "#47. Check if a string contains any special characters."
   ]
  },
  {
   "cell_type": "code",
   "execution_count": null,
   "id": "9ffcc115-fe07-4883-8f5a-c012783d29cb",
   "metadata": {},
   "outputs": [],
   "source": [
    "str47 = 'sandip@pws#skills%'\n",
    "spclchar = '[@_!#$%^&*()<>?/\\|}{~:]'\n",
    "c = 0\n",
    "\n",
    "str47.split()\n",
    "for i in range(len(str47)):\n",
    "    if str47[i] in spclchar:\n",
    "        c +=1\n",
    "if c:\n",
    "    print('string contains special characters')\n",
    "else:\n",
    "    print('string does not contains any special characters')"
   ]
  },
  {
   "cell_type": "code",
   "execution_count": null,
   "id": "164c25d8-5107-435c-9902-238222394107",
   "metadata": {},
   "outputs": [],
   "source": [
    "#48. Remove the nth word from a string."
   ]
  },
  {
   "cell_type": "code",
   "execution_count": null,
   "id": "9f7dfdd7-4430-40e2-b2c0-953b4f4a0fbb",
   "metadata": {},
   "outputs": [],
   "source": [
    "str48 = 'I like to code in python'\n",
    "splt = str48.split()\n",
    "nth_word = int(input('Give the index number of word which you want to remove: '))-1\n",
    "Removed_word = print('remove word: ',splt[nth_word])\n",
    "new_word = str48.replace(splt[nth_word],\"\")\n",
    "print(new_word)\n"
   ]
  },
  {
   "cell_type": "code",
   "execution_count": null,
   "id": "e2ef4d77-268a-48be-bd5f-8b2f7e5f7fe9",
   "metadata": {},
   "outputs": [],
   "source": [
    "#49. Insert a word at the nth position in a string."
   ]
  },
  {
   "cell_type": "code",
   "execution_count": null,
   "id": "db8ed5ce-b898-4bfe-82f5-29107db22072",
   "metadata": {},
   "outputs": [],
   "source": [
    "str49 = 'I like to code in python'\n",
    "splt = str49.split()\n",
    "nth_word = int(input('Give the index number of word which you want to remove: '))-1\n",
    "new_word = input('Please insert new word: ')\n",
    "Res = list(splt)\n",
    "X = Res.insert(nth_word,new_word)\n",
    "Res = ' '.join(Res)\n",
    "print(Res)"
   ]
  },
  {
   "cell_type": "code",
   "execution_count": null,
   "id": "0fe5aaa9-2c4c-48eb-837a-5595a1ebcb48",
   "metadata": {},
   "outputs": [],
   "source": [
    "#50. Convert a CSV string to a list of lists."
   ]
  },
  {
   "cell_type": "code",
   "execution_count": null,
   "id": "56b6643a-70f0-4a88-8211-12e44bda9471",
   "metadata": {},
   "outputs": [],
   "source": [
    "csv_str = 'python,sql,excel'\n",
    "new_str = csv_str.split(',')\n",
    "print(new_str)"
   ]
  },
  {
   "cell_type": "code",
   "execution_count": null,
   "id": "0bb4c789-1484-49d7-9e42-e99dede45c70",
   "metadata": {},
   "outputs": [],
   "source": [
    "#List Based Practice Problem :"
   ]
  },
  {
   "cell_type": "code",
   "execution_count": null,
   "id": "bcdafa8e-cad8-42dd-aac1-5df48e16c3df",
   "metadata": {},
   "outputs": [],
   "source": [
    "#1. Create a list with integers from 1 to 10."
   ]
  },
  {
   "cell_type": "code",
   "execution_count": null,
   "id": "1630bf1c-2b17-428b-98d0-8d96dc7e54c3",
   "metadata": {},
   "outputs": [],
   "source": [
    "list_1 = range(1,11)\n",
    "print(list(list_1))"
   ]
  },
  {
   "cell_type": "code",
   "execution_count": null,
   "id": "983a2015-f898-49e4-b233-f0345674b1bb",
   "metadata": {},
   "outputs": [],
   "source": [
    "#2. Find the length of a list without using the `len()` function."
   ]
  },
  {
   "cell_type": "code",
   "execution_count": null,
   "id": "87e14e3f-76cc-47ed-8430-7f625811ba5d",
   "metadata": {},
   "outputs": [],
   "source": [
    "#list\n",
    "List_2 = [1,2,3,4,5]\n",
    "\n",
    "#blank list\n",
    "D= ['']\n",
    "\n",
    "#count length\n",
    "count3 = 0\n",
    "\n",
    "#for loop\n",
    "for c in List_2:\n",
    "    if c not in D:\n",
    "        count3 +=1\n",
    "        \n",
    "print('Length of list is: ',count3)        "
   ]
  },
  {
   "cell_type": "code",
   "execution_count": null,
   "id": "62d95589-74d0-47da-a32e-0f5e0ebb644e",
   "metadata": {},
   "outputs": [],
   "source": [
    "#3. Append an element to the end of a list."
   ]
  },
  {
   "cell_type": "code",
   "execution_count": null,
   "id": "3cdd8d9e-7de0-4188-b576-8a841b3cdcdc",
   "metadata": {},
   "outputs": [],
   "source": [
    "l3 = [1,2,3,4]\n",
    "ele = int(input('enter new element: '))\n",
    "l3.append(ele)\n",
    "l3"
   ]
  },
  {
   "cell_type": "code",
   "execution_count": null,
   "id": "d87603e9-d3e3-44fc-8838-d67fe74ad97c",
   "metadata": {},
   "outputs": [],
   "source": [
    "#4. Insert an element at a specific index in a list."
   ]
  },
  {
   "cell_type": "code",
   "execution_count": null,
   "id": "117d50b7-9818-41b7-a429-9a262cb50f1b",
   "metadata": {},
   "outputs": [],
   "source": [
    "l4 = [1,2,3,4]\n",
    "index = int(input('Please provide a index number: '))-1\n",
    "inset = int(input('Please insert element: ')) \n",
    "new_list = l4.insert(index,inset)\n",
    "print(l4)"
   ]
  },
  {
   "cell_type": "code",
   "execution_count": null,
   "id": "cdafac5e-8677-40e6-b7d2-2e3f8cfba058",
   "metadata": {},
   "outputs": [],
   "source": [
    "#5. Remove an element from a list by its value."
   ]
  },
  {
   "cell_type": "code",
   "execution_count": null,
   "id": "509932a3-fd9b-4f15-9cf8-822d85e0b78a",
   "metadata": {},
   "outputs": [],
   "source": [
    "l5 = ['a','b','d','f','r']\n",
    "RV = input('Tell me which value wants to remove: ')\n",
    "l5.remove(RV)\n",
    "print(l5)"
   ]
  },
  {
   "cell_type": "code",
   "execution_count": null,
   "id": "9f847e71-d50f-445f-bd15-01b892a31613",
   "metadata": {},
   "outputs": [],
   "source": [
    "#6. Remove an element from a list by its index."
   ]
  },
  {
   "cell_type": "code",
   "execution_count": null,
   "id": "b6db0b25-d111-434d-b8b7-a8817675d617",
   "metadata": {},
   "outputs": [],
   "source": [
    "l6 = [1,3,4,6,7,9]\n",
    "index = int(input('Please enter index num: ')) \n",
    "del l6[index]\n",
    "print(l6)"
   ]
  },
  {
   "cell_type": "code",
   "execution_count": null,
   "id": "7db200d5-cb09-41b6-b3f2-cf3469337cfd",
   "metadata": {},
   "outputs": [],
   "source": [
    "#7. Check if an element exists in a list."
   ]
  },
  {
   "cell_type": "code",
   "execution_count": null,
   "id": "d320e1a7-69bf-49d2-9a5b-74a4dd7e18da",
   "metadata": {},
   "outputs": [],
   "source": [
    "l7 = ['a','b',1,2,4,3.5]\n",
    "'a' in l7"
   ]
  },
  {
   "cell_type": "code",
   "execution_count": null,
   "id": "796ff9f2-dbd6-4c3d-990c-9e789be7f868",
   "metadata": {},
   "outputs": [],
   "source": [
    "#8. Find the index of the first occurrence of an element in a list."
   ]
  },
  {
   "cell_type": "code",
   "execution_count": null,
   "id": "30143d57-6c8c-43b9-83aa-e352866a6ea3",
   "metadata": {},
   "outputs": [],
   "source": [
    "mylist = [52, 5, 8, 52, 21, 87, 52]\n",
    "mylist.index(52)+1"
   ]
  },
  {
   "cell_type": "code",
   "execution_count": null,
   "id": "e090d8ae-8445-49f9-8537-e24c81dc19a5",
   "metadata": {},
   "outputs": [],
   "source": [
    "#9. Count the occurrences of an element in a list."
   ]
  },
  {
   "cell_type": "code",
   "execution_count": null,
   "id": "2c0b966a-b27f-498f-8e2a-6b7611aa3f0f",
   "metadata": {},
   "outputs": [],
   "source": [
    "l9 = [52, 5, 8, 52, 21, 87, 52]\n",
    "l9.count(52)"
   ]
  },
  {
   "cell_type": "code",
   "execution_count": null,
   "id": "4c221b1f-c4c3-442e-bdb3-252fa24cdbf1",
   "metadata": {},
   "outputs": [],
   "source": [
    "#10. Reverse the order of elements in a list."
   ]
  },
  {
   "cell_type": "code",
   "execution_count": null,
   "id": "aee8e859-e735-412f-a7ea-66a17d57d6bb",
   "metadata": {},
   "outputs": [],
   "source": [
    "l10 = ['a','b','c','d','e','f']\n",
    "l10[:: -1]"
   ]
  },
  {
   "cell_type": "code",
   "execution_count": null,
   "id": "7dbca879-0481-44ab-96de-7b65c210204a",
   "metadata": {},
   "outputs": [],
   "source": [
    "#11. Sort a list in ascending order."
   ]
  },
  {
   "cell_type": "code",
   "execution_count": null,
   "id": "df937552-99f5-4c3d-af7a-c5b285912ab0",
   "metadata": {},
   "outputs": [],
   "source": [
    "l11 = ['java','python','Dax','Excel','power bi']\n",
    "l11.sort()\n",
    "print(l11)"
   ]
  },
  {
   "cell_type": "code",
   "execution_count": null,
   "id": "47b5dcca-5dc2-45bb-84a0-7953c41146bd",
   "metadata": {},
   "outputs": [],
   "source": [
    "#12. Sort a list in descending order."
   ]
  },
  {
   "cell_type": "code",
   "execution_count": null,
   "id": "ac35419e-0074-430f-a770-27425f540be9",
   "metadata": {},
   "outputs": [],
   "source": [
    "l12 = ['java','python','Dax','Excel','power bi']\n",
    "l12.sort(reverse = True)\n",
    "l12"
   ]
  },
  {
   "cell_type": "code",
   "execution_count": null,
   "id": "c5cb6b73-4a56-4bd6-8c63-42224a7ed91b",
   "metadata": {},
   "outputs": [],
   "source": [
    "#13. Create a list of even numbers from 1 to 20."
   ]
  },
  {
   "cell_type": "code",
   "execution_count": null,
   "id": "d4443e45-b375-4d46-a18c-eb984bbeb761",
   "metadata": {},
   "outputs": [],
   "source": [
    "l13 = []\n",
    "\n",
    "for i in range(20):\n",
    "    if i%2 == 0:\n",
    "        l13.append(i)\n",
    "print(l13)        "
   ]
  },
  {
   "cell_type": "code",
   "execution_count": null,
   "id": "0a4ce6f5-ebb9-4f33-b208-c92febdf7670",
   "metadata": {},
   "outputs": [],
   "source": [
    "#14. Create a list of odd numbers from 1 to 20."
   ]
  },
  {
   "cell_type": "code",
   "execution_count": null,
   "id": "35bd7d01-9894-4152-ba35-cc317c8ef9d8",
   "metadata": {},
   "outputs": [],
   "source": [
    "l14 = []\n",
    "\n",
    "for i in range(20):\n",
    "    if i%2 != 0:\n",
    "        l14.append(i)\n",
    "print(l14)        "
   ]
  },
  {
   "cell_type": "code",
   "execution_count": null,
   "id": "7ff81166-bc15-4e3c-942d-a8c549a5f8d4",
   "metadata": {},
   "outputs": [],
   "source": [
    "#15. Find the sum of all elements in a list."
   ]
  },
  {
   "cell_type": "code",
   "execution_count": null,
   "id": "4db72dbf-09a9-4192-96ee-498f5d81d36b",
   "metadata": {},
   "outputs": [],
   "source": [
    "l15 = [1,2,3,4,5,6]\n",
    "ac = sum(l15)\n",
    "print(ac)"
   ]
  },
  {
   "cell_type": "code",
   "execution_count": null,
   "id": "6be31bdb-e296-4994-a30f-79bc30e3742e",
   "metadata": {},
   "outputs": [],
   "source": [
    "#16. Find the maximum value in a list."
   ]
  },
  {
   "cell_type": "code",
   "execution_count": null,
   "id": "ec1f013e-c45c-4b7a-b183-8da2330649fc",
   "metadata": {},
   "outputs": [],
   "source": [
    "l16 = [1,2,3,4,5,6]\n",
    "ac = max(l16)\n",
    "print(ac)"
   ]
  },
  {
   "cell_type": "code",
   "execution_count": null,
   "id": "537a1922-11ed-4f8f-9277-f81c7fda8c52",
   "metadata": {},
   "outputs": [],
   "source": [
    "#17. Find the minimum value in a list."
   ]
  },
  {
   "cell_type": "code",
   "execution_count": null,
   "id": "7f83be2a-65d9-4eee-a29f-94644a4d72a3",
   "metadata": {},
   "outputs": [],
   "source": [
    "l17 = [58,79,85,90,35,78,46]\n",
    "m = min(l17)\n",
    "print(m)"
   ]
  },
  {
   "cell_type": "code",
   "execution_count": null,
   "id": "66af61ff-4618-420f-af28-230ded82622b",
   "metadata": {},
   "outputs": [],
   "source": [
    "#18. Create a list of squares of numbers from 1 to 10."
   ]
  },
  {
   "cell_type": "code",
   "execution_count": null,
   "id": "0b0aee7e-af32-426a-9407-84fbca2a557c",
   "metadata": {},
   "outputs": [],
   "source": [
    "l18 = [1,2,3,4,5,6,7,8,9,10]\n",
    "S_list = []\n",
    "for i in l18:\n",
    "    S_list.append(i**2)\n",
    "print(S_list)    "
   ]
  },
  {
   "cell_type": "code",
   "execution_count": null,
   "id": "2ff99f8e-89af-45f8-a5ea-3ae905525628",
   "metadata": {},
   "outputs": [],
   "source": [
    "#19. Create a list of random numbers."
   ]
  },
  {
   "cell_type": "code",
   "execution_count": null,
   "id": "ee25aae4-9656-4de3-84ca-13bf695623a0",
   "metadata": {},
   "outputs": [],
   "source": [
    "import random\n",
    "L_19 = []\n",
    "for i in range(0,5):\n",
    "    n = random.randint(1,20)\n",
    "    L_19.append(n)\n",
    "print(L_19)"
   ]
  },
  {
   "cell_type": "code",
   "execution_count": null,
   "id": "d52976e4-ca8d-4a5d-92fd-d8521ef2ccce",
   "metadata": {},
   "outputs": [],
   "source": [
    "#20. Remove duplicates from a list."
   ]
  },
  {
   "cell_type": "code",
   "execution_count": null,
   "id": "576dda9d-bcb6-45b5-a895-c1a29bcddec0",
   "metadata": {},
   "outputs": [],
   "source": [
    "# using set\n",
    "l20 = ['a',2,4,'a',2]\n",
    "n_i20 = set(l20)\n",
    "print(list(n_i20))\n",
    "\n",
    "#using if\n",
    "\n",
    "lx = [1,3,4,5,2,3,5,2,4]\n",
    "n_lx = []\n",
    "\n",
    "for i in lx:\n",
    "    if not i in n_lx:\n",
    "        n_lx.append(i)\n",
    "print(n_lx)        \n"
   ]
  },
  {
   "cell_type": "code",
   "execution_count": null,
   "id": "e79b5b3f-12d0-44b1-841f-3966bf57f688",
   "metadata": {},
   "outputs": [],
   "source": [
    "#21. Find the common elements between two lists."
   ]
  },
  {
   "cell_type": "code",
   "execution_count": null,
   "id": "2417b757-b636-4cb3-aec0-a50b3cac6b5a",
   "metadata": {},
   "outputs": [],
   "source": [
    "l21_1 = [1,2,3,4,5]\n",
    "l_21_2 = [5,3,1]\n",
    "C_list = []\n",
    "\n",
    "for i in l21_1:\n",
    "    if i in l_21_2:\n",
    "        C_list.append(i)\n",
    "print(C_list)               "
   ]
  },
  {
   "cell_type": "code",
   "execution_count": null,
   "id": "ebcfd5fd-9f25-46f7-9d40-89889cb699a7",
   "metadata": {},
   "outputs": [],
   "source": [
    "#22. Find the difference between two lists."
   ]
  },
  {
   "cell_type": "code",
   "execution_count": null,
   "id": "b3134c60-8f4c-4e11-b1c3-9c7ed3b88b60",
   "metadata": {},
   "outputs": [],
   "source": [
    "li1 = [10, 15,25, 30, 35, 40]\n",
    "li2 = [25, 40,35,2,8]\n",
    "\n",
    "set_dif = set(li1).symmetric_difference(set(li2))\n",
    "temp3 = list(set_dif)\n",
    "print(temp3)\n"
   ]
  },
  {
   "cell_type": "code",
   "execution_count": null,
   "id": "51aeddfa-0668-4783-ab2b-9bb19c1e7b3f",
   "metadata": {},
   "outputs": [],
   "source": [
    "#23. Merge two lists."
   ]
  },
  {
   "cell_type": "code",
   "execution_count": null,
   "id": "0ed5142a-5038-481b-bd06-9e0b837fe574",
   "metadata": {},
   "outputs": [],
   "source": [
    "LT = ['a',2,5,'a']\n",
    "LM = ['d',3,6,8]\n",
    "\n",
    "print( LT+LM)"
   ]
  },
  {
   "cell_type": "code",
   "execution_count": null,
   "id": "6196d8c9-f622-464f-b4df-c03d585c3cce",
   "metadata": {},
   "outputs": [],
   "source": [
    "#24. Multiply all elements in a list by 2."
   ]
  },
  {
   "cell_type": "code",
   "execution_count": null,
   "id": "29b98f01-0d2a-440f-8338-cbf113856c34",
   "metadata": {},
   "outputs": [],
   "source": [
    "L24 = [2,4,6,9]\n",
    "N_24 = []\n",
    "for i in L24:\n",
    "    N_24.append(i*2)\n",
    "print(N_24)    "
   ]
  },
  {
   "cell_type": "code",
   "execution_count": null,
   "id": "8b32d838-41d5-4ae3-8e12-d9c4f95110a9",
   "metadata": {},
   "outputs": [],
   "source": [
    "#25. Filter out all even numbers from a list."
   ]
  },
  {
   "cell_type": "code",
   "execution_count": null,
   "id": "cef8f506-8143-47f4-9b7c-eaaa25fea708",
   "metadata": {},
   "outputs": [],
   "source": [
    "L25 = [1,2,3,4,5,6,7,8,9,10,11]\n",
    "N_25 = []\n",
    "\n",
    "for i in L25:\n",
    "    if i%2 == 0:\n",
    "        N_25.append(i)\n",
    "print(N_25)        \n",
    "        \n"
   ]
  },
  {
   "cell_type": "code",
   "execution_count": null,
   "id": "47250ecd-a86b-4b3f-8285-791435704a7d",
   "metadata": {},
   "outputs": [],
   "source": [
    "#26. Convert a list of strings to a list of integers."
   ]
  },
  {
   "cell_type": "code",
   "execution_count": null,
   "id": "8d9ef1c6-427e-4d10-8c82-4ddf39899de9",
   "metadata": {},
   "outputs": [],
   "source": [
    "l_26 = ['1','3','5','2']\n",
    "print(list(map(int, l_26)))"
   ]
  },
  {
   "cell_type": "code",
   "execution_count": null,
   "id": "87020a3b-cb2d-4d89-a983-5eeb996d6cba",
   "metadata": {},
   "outputs": [],
   "source": [
    "#27. Convert a list of integers to a list of strings."
   ]
  },
  {
   "cell_type": "code",
   "execution_count": null,
   "id": "487deb15-33a3-48c3-bca0-65ffd9836173",
   "metadata": {},
   "outputs": [],
   "source": [
    "l_27 = [1,2,3,4,5]\n",
    "print(list(map(str, l_27)))"
   ]
  },
  {
   "cell_type": "code",
   "execution_count": null,
   "id": "82170e6d-29f4-430b-8b1b-1db2b238ec49",
   "metadata": {},
   "outputs": [],
   "source": [
    "#28. Flatten a nested list."
   ]
  },
  {
   "cell_type": "code",
   "execution_count": null,
   "id": "96119ccd-999d-4e1a-9858-e1c5b024c445",
   "metadata": {},
   "outputs": [],
   "source": [
    "lis = [[11, 22, 33, 44], [55, 66, 77], [88, 99, 10]]\n",
    "\n",
    "flatList = [element for innerList in lis for element in innerList]\n",
    "\n",
    "print('Flat List', flatList)"
   ]
  },
  {
   "cell_type": "code",
   "execution_count": null,
   "id": "5cdd7cdc-6f87-482f-ab30-38bf931d1f74",
   "metadata": {},
   "outputs": [],
   "source": [
    "#29. Create a list of the first 10 Fibonacci numbers."
   ]
  },
  {
   "cell_type": "code",
   "execution_count": null,
   "id": "1533a17e-c98f-4f93-bb81-bf2c1d0538bb",
   "metadata": {},
   "outputs": [],
   "source": [
    "def fibonacci_nums(n):\n",
    "  if n <= 0:\n",
    "    return [0]\n",
    "  sequence = [0, 1]\n",
    "  while len(sequence) <= n:\n",
    "    next_value = sequence[len(sequence) - 1] + sequence[len(sequence) - 2]\n",
    "    sequence.append(next_value)\n",
    "  return sequence"
   ]
  },
  {
   "cell_type": "code",
   "execution_count": null,
   "id": "45b33e48-184f-4fbe-b92c-cf82dd6f8aae",
   "metadata": {},
   "outputs": [],
   "source": [
    "fibonacci_nums(10)"
   ]
  },
  {
   "cell_type": "code",
   "execution_count": null,
   "id": "2ea5f368-24e4-44cf-a067-4fe8b1dd719d",
   "metadata": {},
   "outputs": [],
   "source": [
    "#30. Check if a list is sorted."
   ]
  },
  {
   "cell_type": "code",
   "execution_count": null,
   "id": "40976f82-14d4-4626-8b01-5cc64160c1fa",
   "metadata": {},
   "outputs": [],
   "source": [
    "def is_sorted(lst):\n",
    "    return all(\n",
    "        lst[index] <= lst[index+1]\n",
    "        for index in range(len(lst) - 1)\n",
    "    )\n",
    "\n",
    "\n",
    "list_1 = [1, 2, 3, 4, 5]\n",
    "print(is_sorted_ascending(list_1))  \n",
    "\n",
    "list_2 = [5, 4, 3, 2, 1]\n",
    "print(is_sorted_ascending(list_2)) \n",
    "\n",
    "if is_sorted_ascending(list_1):\n",
    "    print('The list is sorted in ascending order')\n",
    "else:\n",
    "    print('The list is not sorted in ascending order')"
   ]
  },
  {
   "cell_type": "code",
   "execution_count": null,
   "id": "6249b9ba-5180-42c7-b0d3-704eecd6707f",
   "metadata": {},
   "outputs": [],
   "source": [
    "#31. Rotate a list to the left by `n` positions."
   ]
  },
  {
   "cell_type": "code",
   "execution_count": null,
   "id": "5c828772-30b0-4f81-9e3b-e912dbc93b13",
   "metadata": {},
   "outputs": [],
   "source": [
    "N_num = int(input('Give nth positions: '))\n",
    "test_list = [1, 4, 6, 7, 2]\n",
    " \n",
    "test_list = test_list[N_num:] + test_list[:N_num]\n",
    " \n",
    "print (\"List after left rotate : \" + str(test_list))"
   ]
  },
  {
   "cell_type": "code",
   "execution_count": null,
   "id": "77bdec01-a77c-49fc-93b1-9b6b05c4a9ee",
   "metadata": {},
   "outputs": [],
   "source": [
    "#32. Rotate a list to the right by `n` positions."
   ]
  },
  {
   "cell_type": "code",
   "execution_count": null,
   "id": "092c714a-f726-4a0d-9ba4-5d947b3669af",
   "metadata": {},
   "outputs": [],
   "source": [
    "N_num = int(input('Give nth positions: '))\n",
    "test_list1 = [1, 4, 6, 7, 2]\n",
    " \n",
    "test_list = test_list1[-N_num:] + test_list1[:-N_num]\n",
    " \n",
    "print (\"List after right rotate : \" + str(test_list))"
   ]
  },
  {
   "cell_type": "code",
   "execution_count": null,
   "id": "f3cbc9bb-5e67-4a11-8130-05ef8b8ad9d1",
   "metadata": {},
   "outputs": [],
   "source": [
    "#33. Create a list of prime numbers up to 50."
   ]
  },
  {
   "cell_type": "code",
   "execution_count": null,
   "id": "a04d1581-2dc1-4849-a637-02cecdb14c46",
   "metadata": {},
   "outputs": [],
   "source": [
    "def prime_numbers(n):\n",
    "    primes = []\n",
    "    for i in range(2, n + 1):\n",
    "        for j in range(2, int(i ** 0.5) + 1):\n",
    "            if i%j == 0:\n",
    "                break\n",
    "        else:\n",
    "            primes.append(i)\n",
    "    return primes\n",
    "prime_list = prime_numbers(50)\n",
    "print(prime_list)"
   ]
  },
  {
   "cell_type": "code",
   "execution_count": null,
   "id": "c2702461-64aa-4d12-b273-b77aca454898",
   "metadata": {},
   "outputs": [],
   "source": [
    "#34. Split a list into chunks of size `n`."
   ]
  },
  {
   "cell_type": "code",
   "execution_count": null,
   "id": "cc8fe535-4957-41ed-b34c-b3ec6cb8293c",
   "metadata": {},
   "outputs": [],
   "source": [
    "def split(list_a, chunk_size):\n",
    "\n",
    "  for i in range(0, len(list_a), chunk_size):\n",
    "    yield list_a[i:i + chunk_size]\n",
    "\n",
    "chunk_size = int(input('Please enter chunk size: '))\n",
    "my_list = [1,2,3,4,5,6,7,8,9]\n",
    "print(list(split(my_list, chunk_size)))"
   ]
  },
  {
   "cell_type": "code",
   "execution_count": null,
   "id": "acff0cbd-687e-49c7-8b7a-712c73eb285b",
   "metadata": {},
   "outputs": [],
   "source": [
    "#35. Find the second largest number in a list."
   ]
  },
  {
   "cell_type": "code",
   "execution_count": null,
   "id": "48a53051-7f84-4e39-8c5e-70e25c7d2fd6",
   "metadata": {},
   "outputs": [],
   "source": [
    "l35 = [3,4,2,1,5,9,7]\n",
    "l35.sort()\n",
    "print('The second largest number is : ',l35[-2])"
   ]
  },
  {
   "cell_type": "code",
   "execution_count": null,
   "id": "57123cbe-32ce-430c-9cad-288180ba78eb",
   "metadata": {},
   "outputs": [],
   "source": [
    "#36. Replace every element in a list with its square."
   ]
  },
  {
   "cell_type": "code",
   "execution_count": null,
   "id": "8e8c8505-cbcc-4e7d-a77d-65bb5ff271b3",
   "metadata": {},
   "outputs": [],
   "source": [
    "n = [2,3,4,5,25,8]\n",
    "\n",
    "def replace_el(a):\n",
    "    Newlist = []\n",
    "    for i in a:\n",
    "        Newlist.append(i*i)\n",
    "    return Newlist    "
   ]
  },
  {
   "cell_type": "code",
   "execution_count": null,
   "id": "f4e4fcf8-f56b-4b75-8dfd-b4f04ac4841f",
   "metadata": {},
   "outputs": [],
   "source": [
    "replace_el(n)"
   ]
  },
  {
   "cell_type": "code",
   "execution_count": null,
   "id": "66059308-f668-4a52-8e22-9ea1f01f9ee9",
   "metadata": {},
   "outputs": [],
   "source": [
    "#37. Convert a list to a dictionary where list elements become keys and their\n",
    "#indices become values."
   ]
  },
  {
   "cell_type": "code",
   "execution_count": null,
   "id": "1231daf5-9f88-472a-99e3-f20ed7a804bf",
   "metadata": {},
   "outputs": [],
   "source": [
    "student_names = ['Ramesh', 'Mahesh', 'Kamlesh', 'Suresh','Sagar']\n",
    " \n",
    "Snames_dict = {}\n",
    "for i, name in enumerate(student_names):\n",
    "  Snames_dict[i] = name\n",
    " \n",
    "print(Snames_dict)"
   ]
  },
  {
   "cell_type": "code",
   "execution_count": null,
   "id": "3da8d78e-cde6-4515-b747-e836ca06ccfa",
   "metadata": {},
   "outputs": [],
   "source": [
    "#38. Shuffle the elements of a list randomly."
   ]
  },
  {
   "cell_type": "code",
   "execution_count": null,
   "id": "c061fdc2-496d-44f8-a44a-c5e00b001782",
   "metadata": {},
   "outputs": [],
   "source": [
    "import random\n",
    "l38 = [1,2,4,5]\n",
    "random.shuffle(l38)\n",
    "print(\"Shuffle list: \" , l38)"
   ]
  },
  {
   "cell_type": "code",
   "execution_count": null,
   "id": "333dbb69-66e7-4440-a47f-cba73d372ca5",
   "metadata": {},
   "outputs": [],
   "source": [
    "#39. Create a list of the first 10 factorial numbers."
   ]
  },
  {
   "cell_type": "code",
   "execution_count": null,
   "id": "134bc513-3294-40ec-8ff2-bc47a57cd565",
   "metadata": {},
   "outputs": [],
   "source": [
    "import math\n",
    "factorials = [math.factorial(x) for x in range(0,10)]\n",
    "\n",
    "print(factorials)"
   ]
  },
  {
   "cell_type": "code",
   "execution_count": null,
   "id": "284bc6c1-5696-4d97-95b3-e9cc247996a4",
   "metadata": {},
   "outputs": [],
   "source": [
    "#40. Check if two lists have at least one element in common."
   ]
  },
  {
   "cell_type": "code",
   "execution_count": null,
   "id": "fb1e8309-c187-45ae-b9bc-275bf399ab31",
   "metadata": {},
   "outputs": [],
   "source": [
    "M_list = [1,2,3]\n",
    "N_list = [4,5]\n",
    "\n",
    "def common(l1,l2):\n",
    "    for a in l1:\n",
    "        for b in l2:\n",
    "            if a == b:\n",
    "                return 'There is common element in both list'\n",
    "            else:\n",
    "                return 'There is no commmon elements in both list'\n",
    "            "
   ]
  },
  {
   "cell_type": "code",
   "execution_count": null,
   "id": "fd28ab84-31af-47cb-abb1-8d8724a00963",
   "metadata": {},
   "outputs": [],
   "source": [
    "common(M_list,N_list)"
   ]
  },
  {
   "cell_type": "code",
   "execution_count": null,
   "id": "5561cdb1-68e2-4908-ba0d-058fe7e3073e",
   "metadata": {},
   "outputs": [],
   "source": [
    "#41. Remove all elements from a list."
   ]
  },
  {
   "cell_type": "code",
   "execution_count": null,
   "id": "b0364191-232d-49bb-9dfc-b71201aff51e",
   "metadata": {},
   "outputs": [],
   "source": [
    "List_41 = [1,2,4]\n",
    "List_41.clear()\n",
    "print(List_41)"
   ]
  },
  {
   "cell_type": "code",
   "execution_count": null,
   "id": "bfb84e4b-f405-4545-8167-a5296b26446a",
   "metadata": {},
   "outputs": [],
   "source": [
    "#42. Replace negative numbers in a list with 0."
   ]
  },
  {
   "cell_type": "code",
   "execution_count": null,
   "id": "3f7ba43d-4d8c-4fa5-9b15-6ef60d5ef92e",
   "metadata": {},
   "outputs": [],
   "source": [
    "List_42 = [-2,2, 3, 4, -1, -4, 5, -6]\n",
    "\n",
    "\n",
    "for i in range(len(List_42)):\n",
    "    if List_42[i] < 0:\n",
    "        List_42[i] = 0\n",
    "print(List_42)"
   ]
  },
  {
   "cell_type": "code",
   "execution_count": null,
   "id": "ea9d4f51-53ba-4fc1-aa5e-0776c446b8c8",
   "metadata": {},
   "outputs": [],
   "source": [
    "#43. Convert a string into a list of words"
   ]
  },
  {
   "cell_type": "code",
   "execution_count": null,
   "id": "82ca242f-4399-4fac-bac5-326768e9d0f7",
   "metadata": {},
   "outputs": [],
   "source": [
    "NP = 'I love python'\n",
    "NP.split()"
   ]
  },
  {
   "cell_type": "code",
   "execution_count": null,
   "id": "850a094e-b6ec-4cf9-a362-70d1ee53d634",
   "metadata": {},
   "outputs": [],
   "source": [
    "#44. Convert a list of words into a string."
   ]
  },
  {
   "cell_type": "code",
   "execution_count": null,
   "id": "b0c9687a-54a3-4511-a0a3-952b11465e9c",
   "metadata": {},
   "outputs": [],
   "source": [
    "list_44 = ['I','Love','Python']\n",
    "NW = \" \".join(list_44)\n",
    "print(NW)"
   ]
  },
  {
   "cell_type": "code",
   "execution_count": null,
   "id": "9a26b826-e51d-4b9e-aca3-cc937cd1d2f8",
   "metadata": {},
   "outputs": [],
   "source": [
    "#45. Create a list of the first `n` powers of 2."
   ]
  },
  {
   "cell_type": "code",
   "execution_count": null,
   "id": "40e8ad0f-84ed-4b3a-901f-e64830e2b0ab",
   "metadata": {},
   "outputs": [],
   "source": [
    "n = 5\n",
    "List_n = []\n",
    "for i in range(n):\n",
    "    List_n.append(2**i)\n",
    "print(List_n)    \n",
    "    "
   ]
  },
  {
   "cell_type": "code",
   "execution_count": null,
   "id": "c6ded344-5c23-49c7-b1e8-3a429d4c435a",
   "metadata": {},
   "outputs": [],
   "source": [
    "n = 5\n",
    "news = [ 2**i for i in range(n) ]\n",
    "print(news)"
   ]
  },
  {
   "cell_type": "code",
   "execution_count": null,
   "id": "3dcbc2b7-0c1a-4880-92f3-305967cdf3e8",
   "metadata": {},
   "outputs": [],
   "source": [
    "#46. Find the longest string in a list of strings."
   ]
  },
  {
   "cell_type": "code",
   "execution_count": null,
   "id": "9a0d6fad-43d5-4a51-8f14-ef0e85b32238",
   "metadata": {},
   "outputs": [],
   "source": [
    "str_46 = ['India','USA','Argentina']\n",
    "longstr = 0\n",
    "for i in str_46:\n",
    "    if len(i)> 0:\n",
    "        longstr = i\n",
    "print(i)        \n",
    "        "
   ]
  },
  {
   "cell_type": "code",
   "execution_count": null,
   "id": "c1e3dc2e-c0c3-4a13-b37d-29d92e047f8c",
   "metadata": {},
   "outputs": [],
   "source": [
    "#47. Find the shortest string in a list of strings."
   ]
  },
  {
   "cell_type": "code",
   "execution_count": null,
   "id": "19f51af0-7c48-4aaf-aa00-6e0dd96088a4",
   "metadata": {},
   "outputs": [],
   "source": [
    "str_47 = ['India','USA','Argentina','UK']\n",
    "short_str = str_47[0]\n",
    "\n",
    "for i in str_47:\n",
    "    if len(i) < len(short_str):\n",
    "        short_str = i \n",
    "print(short_str)        "
   ]
  },
  {
   "cell_type": "code",
   "execution_count": null,
   "id": "da05cd91-a1cd-423e-b760-14b7a2f046fa",
   "metadata": {},
   "outputs": [],
   "source": [
    "#48. Create a list of the first `n` triangular numbers."
   ]
  },
  {
   "cell_type": "code",
   "execution_count": null,
   "id": "36d02f58-22d3-4872-8def-384063dba51e",
   "metadata": {},
   "outputs": [],
   "source": [
    "def triangular_numbers(k):\n",
    "    return [i * (i+1) //2  for i in range(1,k+1)]\n",
    "k = 7\n",
    "t_list = triangular_numbers(k)\n",
    "print(t_list)"
   ]
  },
  {
   "cell_type": "code",
   "execution_count": null,
   "id": "d8f2c4fe-0080-434b-865b-ca7d3654a154",
   "metadata": {},
   "outputs": [],
   "source": [
    "#49. Check if a list contains another list as a subsequence."
   ]
  },
  {
   "cell_type": "code",
   "execution_count": null,
   "id": "e5ccc590-51ad-4ed5-a4bf-f361b1cffb35",
   "metadata": {},
   "outputs": [],
   "source": [
    "def removeElements(A, B):\n",
    "    n = len(A)\n",
    "    return any(A == B[i:i + n] for i in range(len(B)-n + 1))\n",
    " \n",
    "A = [1,2,3]\n",
    "B = [1,2,3,1,1,2,2,3]\n",
    " \n",
    "print(removeElements(A, B))"
   ]
  },
  {
   "cell_type": "code",
   "execution_count": null,
   "id": "9fb336ab-744b-4677-8a27-15a0e6c0b22e",
   "metadata": {},
   "outputs": [],
   "source": [
    "#50. Swap two elements in a list by their indices."
   ]
  },
  {
   "cell_type": "code",
   "execution_count": null,
   "id": "0beb3915-c59b-4d67-96ef-015dad1dbcce",
   "metadata": {},
   "outputs": [],
   "source": [
    "def swap_po(list, p1,p2):\n",
    "    list[p1], list[p2] = list[p2], list[p1]\n",
    "    return list\n",
    "\n",
    "X = [1,2,3,4,5,6,7]\n",
    "\n",
    "p1,p2 = 2,3\n",
    "\n",
    "print(swap_po(X,p1-1,p2-1))"
   ]
  },
  {
   "cell_type": "code",
   "execution_count": null,
   "id": "1e57f249-01cc-4b89-ba5f-fee1aad0a408",
   "metadata": {},
   "outputs": [],
   "source": [
    "#Tuple Based Practice Problem :"
   ]
  },
  {
   "cell_type": "code",
   "execution_count": null,
   "id": "224dd422-3219-407e-bcbb-fcc6258cb074",
   "metadata": {},
   "outputs": [],
   "source": [
    "#1. Create a tuple with integers from 1 to 5."
   ]
  },
  {
   "cell_type": "code",
   "execution_count": null,
   "id": "2d6a3f68-9e0e-4436-bca5-8b4de7413eb6",
   "metadata": {},
   "outputs": [],
   "source": [
    "t = (1,2,3,4,5)"
   ]
  },
  {
   "cell_type": "code",
   "execution_count": null,
   "id": "de92f3c8-bb56-436a-82bc-5bd403e200dd",
   "metadata": {},
   "outputs": [],
   "source": [
    "#2. Access the third element of a tuple."
   ]
  },
  {
   "cell_type": "code",
   "execution_count": null,
   "id": "6880a34e-fbc9-4504-a375-cf84f32e86c0",
   "metadata": {},
   "outputs": [],
   "source": [
    "print('The 3rd element of tuple is : ',t[2])"
   ]
  },
  {
   "cell_type": "code",
   "execution_count": null,
   "id": "6a3e00de-5f5a-4611-b3af-e4c9e12f43b2",
   "metadata": {},
   "outputs": [],
   "source": [
    "#3. Find the length of a tuple without using the `len()` function."
   ]
  },
  {
   "cell_type": "code",
   "execution_count": null,
   "id": "adde4069-998f-40fe-96f3-5f058d6dd44c",
   "metadata": {},
   "outputs": [],
   "source": [
    "t3 = ('india','Aus','G-20','USA','Pune')\n",
    "\n",
    "d = ''\n",
    "count_len = 0\n",
    "for i in t3:\n",
    "    if i not in d:\n",
    "        count_len +=1\n",
    "print(count_len) "
   ]
  },
  {
   "cell_type": "code",
   "execution_count": null,
   "id": "52e86e04-b997-4b12-92b4-e16c0a79e425",
   "metadata": {},
   "outputs": [],
   "source": [
    "#4. Count the occurrences of an element in a tuple."
   ]
  },
  {
   "cell_type": "code",
   "execution_count": null,
   "id": "10a3f791-24be-4e17-beb9-4cc777444662",
   "metadata": {},
   "outputs": [],
   "source": [
    "t4 = ('i','n','d','i','a','n')\n",
    "from collections import Counter\n",
    "TC = Counter(t4)\n",
    "TD = (TC.values())\n",
    "\n",
    "#printed in tuple\n",
    "print(tuple(TD))\n",
    "\n",
    "print(TC)"
   ]
  },
  {
   "cell_type": "code",
   "execution_count": null,
   "id": "1fd973ea-b288-43ad-be5b-907d4d75e0f3",
   "metadata": {},
   "outputs": [],
   "source": [
    "#5. Find the index of the first occurrence of an element in a tuple."
   ]
  },
  {
   "cell_type": "code",
   "execution_count": null,
   "id": "c385e13c-9364-430c-8a91-4ce5954b9d21",
   "metadata": {},
   "outputs": [],
   "source": [
    "t5 = ('python','Pearl','Java','python')\n",
    "t5.index('python') + 1"
   ]
  },
  {
   "cell_type": "code",
   "execution_count": null,
   "id": "56ef810d-894c-44a1-82fe-70de43f5143e",
   "metadata": {},
   "outputs": [],
   "source": [
    "E_text = input('Please enter a string :' )\n",
    "\n",
    "if E_text in t5:\n",
    "    idx = t5.index(E_text)\n",
    "    print(idx + 1)"
   ]
  },
  {
   "cell_type": "code",
   "execution_count": null,
   "id": "e3991806-4a5f-4d40-a615-2778c8a803b3",
   "metadata": {},
   "outputs": [],
   "source": [
    "#6. Check if an element exists in a tuple."
   ]
  },
  {
   "cell_type": "code",
   "execution_count": null,
   "id": "4d737d46-9ad9-459c-8973-d9086dc95cd0",
   "metadata": {},
   "outputs": [],
   "source": [
    "'python' in t5"
   ]
  },
  {
   "cell_type": "code",
   "execution_count": null,
   "id": "21716311-0b61-4e31-9e97-e9d26402bf6f",
   "metadata": {},
   "outputs": [],
   "source": [
    "#7. Convert a tuple to a list."
   ]
  },
  {
   "cell_type": "code",
   "execution_count": null,
   "id": "11deae21-714e-4d7f-b745-195c20b137d0",
   "metadata": {},
   "outputs": [],
   "source": [
    "DF = list(t5)\n",
    "print(DF)"
   ]
  },
  {
   "cell_type": "code",
   "execution_count": null,
   "id": "b4e335df-ada8-4a8f-98e9-fcfadbf1f5f2",
   "metadata": {},
   "outputs": [],
   "source": [
    "#8. Convert a list to a tuple."
   ]
  },
  {
   "cell_type": "code",
   "execution_count": null,
   "id": "b59f04af-d5a9-43b5-b13b-f0ddae19d78b",
   "metadata": {},
   "outputs": [],
   "source": [
    "tuple(DF)"
   ]
  },
  {
   "cell_type": "code",
   "execution_count": null,
   "id": "59b8d6d1-5b4f-447b-952b-863f3bf69ab0",
   "metadata": {},
   "outputs": [],
   "source": [
    "#9. Unpack the elements of a tuple into variables."
   ]
  },
  {
   "cell_type": "code",
   "execution_count": null,
   "id": "fa468b94-9530-402f-a04a-bc8ba10cee85",
   "metadata": {},
   "outputs": [],
   "source": [
    "t9 = ('Sandip','25','Germany')\n",
    "\n",
    "(Name,Age,Country) = t9\n",
    "print(Name)\n",
    "print(Age)\n",
    "print(Country)"
   ]
  },
  {
   "cell_type": "code",
   "execution_count": null,
   "id": "47a69924-219f-499c-a232-3f9604e360df",
   "metadata": {},
   "outputs": [],
   "source": [
    "#10. Create a tuple of even numbers from 1 to 10."
   ]
  },
  {
   "cell_type": "code",
   "execution_count": null,
   "id": "8b4a4a10-6a62-42c7-a201-9d58ad863b3f",
   "metadata": {},
   "outputs": [],
   "source": [
    "def even_num(n,x):\n",
    "    for i in range(n,x):\n",
    "        if i % 2 == 0:\n",
    "            print(i)"
   ]
  },
  {
   "cell_type": "code",
   "execution_count": null,
   "id": "bc34bfdf-088b-4d07-af98-51cc460c8840",
   "metadata": {},
   "outputs": [],
   "source": [
    "even_num(1,10)"
   ]
  },
  {
   "cell_type": "code",
   "execution_count": null,
   "id": "d415b55b-7ed1-4bb0-be09-8d377bcc763d",
   "metadata": {},
   "outputs": [],
   "source": [
    "X = [i for i in range(1,10) if i % 2 == 0]"
   ]
  },
  {
   "cell_type": "code",
   "execution_count": null,
   "id": "02bbd36a-0601-45e1-abaa-43a03218d57f",
   "metadata": {},
   "outputs": [],
   "source": [
    "tuple(X)"
   ]
  },
  {
   "cell_type": "code",
   "execution_count": null,
   "id": "fc0a5ab7-9f3f-4e10-a120-af34bd71d68e",
   "metadata": {},
   "outputs": [],
   "source": [
    "#11. Create a tuple of odd numbers from 1 to 10."
   ]
  },
  {
   "cell_type": "code",
   "execution_count": null,
   "id": "23a36377-7ddc-405c-bd7f-2fb264ab5c84",
   "metadata": {},
   "outputs": [],
   "source": [
    "y=[i for i in range(1,10) if i%2 != 0]\n",
    "tuple(y)"
   ]
  },
  {
   "cell_type": "code",
   "execution_count": null,
   "id": "fd572e06-c622-4e6a-af34-139aefb8959a",
   "metadata": {},
   "outputs": [],
   "source": [
    "#12. Concatenate two tuples."
   ]
  },
  {
   "cell_type": "code",
   "execution_count": null,
   "id": "a533d14a-f136-4b48-a595-3dc6c8fcf669",
   "metadata": {},
   "outputs": [],
   "source": [
    "tu1 = (1,2,3,4)\n",
    "tu2 = (5,6,7)\n",
    "print(tu1+tu2)"
   ]
  },
  {
   "cell_type": "code",
   "execution_count": null,
   "id": "30dd08ea-9aad-48e5-b73e-b5a7053a7fbf",
   "metadata": {},
   "outputs": [],
   "source": [
    "#13. Repeat a tuple three times."
   ]
  },
  {
   "cell_type": "code",
   "execution_count": null,
   "id": "67fd4f79-cffe-4877-a1d9-5352ba03f3f1",
   "metadata": {},
   "outputs": [],
   "source": [
    "t13 = ('a','b','c')\n",
    "t13*3"
   ]
  },
  {
   "cell_type": "code",
   "execution_count": null,
   "id": "b83a82d1-319c-494f-9f70-9d4f2ebb02f0",
   "metadata": {},
   "outputs": [],
   "source": [
    "#14. Check if a tuple is empty."
   ]
  },
  {
   "cell_type": "code",
   "execution_count": null,
   "id": "69210d99-4919-495a-83d4-6ef5a14ddd77",
   "metadata": {},
   "outputs": [],
   "source": [
    "t14 = ()\n",
    "if len(t14) == 0:\n",
    "    print('Tuple is empty')\n",
    "else:\n",
    "    print('Tuple is not empty')"
   ]
  },
  {
   "cell_type": "code",
   "execution_count": null,
   "id": "bf85ba58-c571-49c1-bf30-3b510093a2b3",
   "metadata": {},
   "outputs": [],
   "source": [
    "#15. Create a nested tuple."
   ]
  },
  {
   "cell_type": "code",
   "execution_count": null,
   "id": "159fa3c2-3ca6-40f6-9169-ebc699812556",
   "metadata": {},
   "outputs": [],
   "source": [
    "t15 = (1,2,3,(4,5,6),('A','B','C'))\n",
    "print(t15)"
   ]
  },
  {
   "cell_type": "code",
   "execution_count": null,
   "id": "eb74cc33-4fff-45bf-aae4-b91a6e979a56",
   "metadata": {},
   "outputs": [],
   "source": [
    "#16. Access the first element of a nested tuple."
   ]
  },
  {
   "cell_type": "code",
   "execution_count": null,
   "id": "bc934432-0c4f-4b2f-a253-19b07fdd497a",
   "metadata": {},
   "outputs": [],
   "source": [
    "t15[0]"
   ]
  },
  {
   "cell_type": "code",
   "execution_count": null,
   "id": "c01f7178-4028-4dfa-90be-742843280d74",
   "metadata": {},
   "outputs": [],
   "source": [
    "#17. Create a tuple with a single element."
   ]
  },
  {
   "cell_type": "code",
   "execution_count": null,
   "id": "6a4184c2-46f6-4c7a-b817-2316a285d680",
   "metadata": {},
   "outputs": [],
   "source": [
    "t17 = (1,)\n",
    "type(t17)"
   ]
  },
  {
   "cell_type": "code",
   "execution_count": null,
   "id": "ee52489d-18ae-4816-8efc-6e356b58de59",
   "metadata": {},
   "outputs": [],
   "source": [
    "#18. Compare two tuples."
   ]
  },
  {
   "cell_type": "code",
   "execution_count": null,
   "id": "9e31fcc0-5cb1-4332-91e1-8286db1c3d35",
   "metadata": {},
   "outputs": [],
   "source": [
    "tx = (1,2,3)\n",
    "ty = (3,2,1)\n",
    "\n",
    "if tx == ty:\n",
    "    print('Same tuple')\n",
    "else:\n",
    "    print('Not same')"
   ]
  },
  {
   "cell_type": "code",
   "execution_count": null,
   "id": "8be1547c-4b72-4c8d-af1e-43a52a8b847b",
   "metadata": {},
   "outputs": [],
   "source": [
    "#19. Delete a tuple."
   ]
  },
  {
   "cell_type": "code",
   "execution_count": null,
   "id": "daae5699-f7f8-4814-a54a-c2e987849862",
   "metadata": {},
   "outputs": [],
   "source": [
    "t19 = (1,2,3)\n",
    "del t19"
   ]
  },
  {
   "cell_type": "code",
   "execution_count": null,
   "id": "eead74d8-2777-4f6e-9f57-e6920c1eddbe",
   "metadata": {},
   "outputs": [],
   "source": [
    "#20. Slice a tuple."
   ]
  },
  {
   "cell_type": "code",
   "execution_count": null,
   "id": "483b132f-a8fa-4a15-a96e-424e06e31019",
   "metadata": {},
   "outputs": [],
   "source": [
    "t20 = (1,2,3)\n",
    "t20[0]"
   ]
  },
  {
   "cell_type": "code",
   "execution_count": null,
   "id": "a4fea479-d098-4e78-9cac-825b398922f4",
   "metadata": {},
   "outputs": [],
   "source": [
    "#21. Find the maximum value in a tuple."
   ]
  },
  {
   "cell_type": "code",
   "execution_count": null,
   "id": "71c95a0c-171c-4e2f-97fc-00d2db811ada",
   "metadata": {},
   "outputs": [],
   "source": [
    "t21 = (1,2,3)\n",
    "TY = max(t21)\n",
    "print('Max number in t21 is : ',TY)"
   ]
  },
  {
   "cell_type": "code",
   "execution_count": null,
   "id": "070b31d8-277e-4bc0-af76-76ca1d69bd8e",
   "metadata": {},
   "outputs": [],
   "source": [
    "#22. Find the minimum value in a tuple."
   ]
  },
  {
   "cell_type": "code",
   "execution_count": null,
   "id": "f8841df7-fe9c-4d90-89b6-3edbe6556cb6",
   "metadata": {},
   "outputs": [],
   "source": [
    "t22 = (1,2,3)\n",
    "p1 = min(t22)\n",
    "print('Min number in t22 is : ',p1)"
   ]
  },
  {
   "cell_type": "code",
   "execution_count": null,
   "id": "6dbf9a0c-3f95-4e25-8c8f-ba2776812767",
   "metadata": {},
   "outputs": [],
   "source": [
    "#23. Convert a string to a tuple of characters."
   ]
  },
  {
   "cell_type": "code",
   "execution_count": null,
   "id": "304cec11-817f-453b-a475-ead453e7ab9b",
   "metadata": {},
   "outputs": [],
   "source": [
    "t23 = 'abc'\n",
    "tuple(t23)"
   ]
  },
  {
   "cell_type": "code",
   "execution_count": null,
   "id": "c079b4fe-4e3a-4976-926a-12ef9f3042ee",
   "metadata": {},
   "outputs": [],
   "source": [
    "#24. Convert a tuple of characters to a string."
   ]
  },
  {
   "cell_type": "code",
   "execution_count": null,
   "id": "f623d483-93de-4f56-b783-dc4cfb255224",
   "metadata": {},
   "outputs": [],
   "source": [
    "t24 = (1,2,3)\n",
    "str(t24)"
   ]
  },
  {
   "cell_type": "code",
   "execution_count": null,
   "id": "9c5e78fa-01f4-47ab-be29-4642ade87bc5",
   "metadata": {},
   "outputs": [],
   "source": [
    "#25. Create a tuple from multiple data types."
   ]
  },
  {
   "cell_type": "code",
   "execution_count": null,
   "id": "395cb2f0-2542-4ded-bbdb-741a0c39c2ab",
   "metadata": {},
   "outputs": [],
   "source": [
    "a = ('a',2,3,4j)\n",
    "type(a)"
   ]
  },
  {
   "cell_type": "code",
   "execution_count": null,
   "id": "f573c988-4aaf-435f-ad44-d962438544bc",
   "metadata": {},
   "outputs": [],
   "source": [
    "#26. Check if two tuples are identical."
   ]
  },
  {
   "cell_type": "code",
   "execution_count": null,
   "id": "d9070e0c-8524-4de7-af22-eeaaddee1633",
   "metadata": {},
   "outputs": [],
   "source": [
    "t1 = ('a','b','c')\n",
    "t2 = ('a','b','c')\n",
    "\n",
    "if t1 == t2:\n",
    "    print(\"tuples are identical\")\n",
    "else:\n",
    "    print(\"tuples are not identical\")"
   ]
  },
  {
   "cell_type": "code",
   "execution_count": null,
   "id": "43769a96-2b12-4c87-870d-89eb30524362",
   "metadata": {},
   "outputs": [],
   "source": [
    "#27. Sort the elements of a tuple."
   ]
  },
  {
   "cell_type": "code",
   "execution_count": null,
   "id": "16015225-8de0-4c98-9ada-3d0e498c45e9",
   "metadata": {},
   "outputs": [],
   "source": [
    "t27 = (2,3,5,7,1,9)\n",
    "l_27 = sorted(t27)\n",
    "print(tuple(l_27))"
   ]
  },
  {
   "cell_type": "code",
   "execution_count": null,
   "id": "a7866e00-669f-46ba-851d-3c65fce141c1",
   "metadata": {},
   "outputs": [],
   "source": [
    "#28. Convert a tuple of integers to a tuple of strings."
   ]
  },
  {
   "cell_type": "code",
   "execution_count": null,
   "id": "50dd2585-7022-4e7a-b0d4-8bc476fa3bec",
   "metadata": {},
   "outputs": [],
   "source": [
    "t28 = (1,2,3,4,5)\n",
    "\n",
    "SST = tuple(i for i in t28)\n",
    "print(SST)"
   ]
  },
  {
   "cell_type": "code",
   "execution_count": null,
   "id": "9868361f-4484-4651-8499-e3c7ce292358",
   "metadata": {},
   "outputs": [],
   "source": [
    "#29. Convert a tuple of strings to a tuple of integers."
   ]
  },
  {
   "cell_type": "code",
   "execution_count": null,
   "id": "6f6958c1-ae7f-4306-875a-7130f69edba9",
   "metadata": {},
   "outputs": [],
   "source": [
    "t29 = ('1','2','3')\n",
    "\n",
    "XXT = tuple(int(i) for i in t29)\n",
    "print(XXT)"
   ]
  },
  {
   "cell_type": "code",
   "execution_count": null,
   "id": "44466275-bce0-4872-b60d-8a7d4208c047",
   "metadata": {},
   "outputs": [],
   "source": [
    "#30. Merge two tuples."
   ]
  },
  {
   "cell_type": "code",
   "execution_count": null,
   "id": "bb9b9f33-46cc-41eb-a2fa-91038e323d0a",
   "metadata": {},
   "outputs": [],
   "source": [
    "tl1 = (1,2,3)\n",
    "tl2 = (4,5,6)\n",
    "\n",
    "tm = tl1+tl2\n",
    "print(tm)"
   ]
  },
  {
   "cell_type": "code",
   "execution_count": null,
   "id": "1fea2380-e983-4c24-8e7c-f825f4e369c7",
   "metadata": {},
   "outputs": [],
   "source": [
    "#31. Flatten a nested tuple."
   ]
  },
  {
   "cell_type": "code",
   "execution_count": null,
   "id": "efb01f68-d296-42e5-a354-9599c26572bc",
   "metadata": {},
   "outputs": [],
   "source": [
    "def flatten_tuple(nested_tuple):\n",
    "    result = []\n",
    "    for i in nested_tuple:\n",
    "        if isinstance(i, tuple):\n",
    "            result.extend(flatten_tuple(i))\n",
    "        else:\n",
    "            result.append(i)\n",
    "    return tuple(result)\n",
    "\n",
    "nested_tuple = (1, (2, 3), (4, (5, 6)), 7)\n",
    "flattened_tuple = flatten_tuple(nested_tuple)\n",
    "\n",
    "print(\"Nested tuple:\", nested_tuple)\n",
    "print(\"Flattened tuple:\", flattened_tuple)\n"
   ]
  },
  {
   "cell_type": "code",
   "execution_count": null,
   "id": "acd834c0-8468-42c4-b2ba-9893de43e92e",
   "metadata": {},
   "outputs": [],
   "source": [
    "#32. Create a tuple of the first 5 prime numbers."
   ]
  },
  {
   "cell_type": "code",
   "execution_count": null,
   "id": "cf0cb434-d289-425a-ae00-c3e8e270461b",
   "metadata": {},
   "outputs": [],
   "source": [
    "prn = (2,3,5,7,11)\n",
    "print(prn)"
   ]
  },
  {
   "cell_type": "code",
   "execution_count": null,
   "id": "6165d37c-41bb-42b2-923b-99d36ad0731e",
   "metadata": {},
   "outputs": [],
   "source": [
    "#33. Check if a tuple is a palindrome."
   ]
  },
  {
   "cell_type": "code",
   "execution_count": null,
   "id": "43d4bc40-9302-423b-b308-702d868bca26",
   "metadata": {},
   "outputs": [],
   "source": [
    "t33 = ('mom')\n",
    "tf = t33[::-1]\n",
    "if t33 == tf:\n",
    "    print(\"yes, its palindrome\")\n",
    "else:\n",
    "    print(\"No its not palindrome\")"
   ]
  },
  {
   "cell_type": "code",
   "execution_count": null,
   "id": "0323cb28-da0c-4a60-b333-72e2330894ae",
   "metadata": {},
   "outputs": [],
   "source": [
    "#34. Create a tuple of squares of numbers from 1 to 5."
   ]
  },
  {
   "cell_type": "code",
   "execution_count": null,
   "id": "a3952294-c122-4124-9a6c-5f0c01c1c4ce",
   "metadata": {},
   "outputs": [],
   "source": [
    "def sq(n,b):\n",
    "    a = 1\n",
    "    t34 = []\n",
    "    while a<=5:\n",
    "        t34.append(a*a)\n",
    "        a = a+1\n",
    "    print(tuple(t34))"
   ]
  },
  {
   "cell_type": "code",
   "execution_count": null,
   "id": "4c119255-ceee-4565-a7a9-6ba4a20a3ab7",
   "metadata": {},
   "outputs": [],
   "source": [
    "sq(1,5)"
   ]
  },
  {
   "cell_type": "code",
   "execution_count": null,
   "id": "0b766104-627b-42ee-b324-31f99d1a6074",
   "metadata": {},
   "outputs": [],
   "source": [
    "#35. Filter out all even numbers from a tuple."
   ]
  },
  {
   "cell_type": "code",
   "execution_count": null,
   "id": "2d8fe09d-dd9b-49e8-aa6d-0e77bf88b45e",
   "metadata": {},
   "outputs": [],
   "source": [
    "t35 = (21,22,23,24,25,26,27,30,33,50,67,59)\n",
    "print35 = [i for i in t35 if i % 2 == 0]\n",
    "print(tuple(print35))"
   ]
  },
  {
   "cell_type": "code",
   "execution_count": null,
   "id": "e5adf834-5b63-49c7-854e-167a9ac4c949",
   "metadata": {},
   "outputs": [],
   "source": [
    "#36. Multiply all elements in a tuple by 2."
   ]
  },
  {
   "cell_type": "code",
   "execution_count": null,
   "id": "baded5aa-51d0-4d1d-8051-a793b49bb30f",
   "metadata": {},
   "outputs": [],
   "source": [
    "t36 = (10,2,3,4,5)\n",
    "MT = []\n",
    "for i in t36:\n",
    "    MT.append(i*2)\n",
    "print(tuple(MT))"
   ]
  },
  {
   "cell_type": "code",
   "execution_count": null,
   "id": "565c06fa-da05-4378-b97f-af3eb9f8edf1",
   "metadata": {},
   "outputs": [],
   "source": [
    "#37. Create a tuple of random numbers."
   ]
  },
  {
   "cell_type": "code",
   "execution_count": null,
   "id": "49a26ca1-8a13-4761-9331-904db9027d98",
   "metadata": {},
   "outputs": [],
   "source": [
    "import random\n",
    "\n",
    "random_sequence = [random.randint(1, 100) for _ in range(5)]\n",
    "\n",
    "print(tuple(random_sequence))"
   ]
  },
  {
   "cell_type": "code",
   "execution_count": null,
   "id": "e1ce4c66-8d95-450b-8253-2491bf142e3c",
   "metadata": {},
   "outputs": [],
   "source": [
    "#38. Check if a tuple is sorted."
   ]
  },
  {
   "cell_type": "code",
   "execution_count": null,
   "id": "7ad6b304-523c-4887-a1f2-a5f2db15aebf",
   "metadata": {},
   "outputs": [],
   "source": [
    "t38_1 = (1,2,3)\n",
    "\n",
    "# sorted the tuple \n",
    "sort_tuple = sorted(t38_1)\n",
    "\n",
    "#converted the list in tuple\n",
    "t38_2 = tuple(sort_tuple)\n",
    "\n",
    "if t38_1 == t38_2:\n",
    "    print('Tuple is sorted')\n",
    "else:\n",
    "    print('Tuple is not sorted')"
   ]
  },
  {
   "cell_type": "code",
   "execution_count": null,
   "id": "85c59f37-3038-4dc6-a4e0-7f6760dc0583",
   "metadata": {},
   "outputs": [],
   "source": [
    "#39. Rotate a tuple to the left by `n` positions."
   ]
  },
  {
   "cell_type": "code",
   "execution_count": null,
   "id": "6f1ab607-f2cc-445a-9c7a-4a8a6f1c282d",
   "metadata": {},
   "outputs": [],
   "source": [
    "def rotate_tuple(tup,n):\n",
    "    n = n % len(tup)\n",
    "    return tup[n:] + tup[:n]\n",
    "t_39 = (22,55,24)\n",
    "n = int(input('Left by n number'))\n",
    "new_rotate_tuple = rotate_tuple(t_39,n)\n",
    "print(new_rotate_tuple)\n"
   ]
  },
  {
   "cell_type": "code",
   "execution_count": null,
   "id": "9c7140b4-2190-46d8-9645-25ca96cdb9ae",
   "metadata": {},
   "outputs": [],
   "source": [
    "#40. Rotate a tuple to the right by `n` positions."
   ]
  },
  {
   "cell_type": "code",
   "execution_count": null,
   "id": "5e5e3003-de07-494f-84c7-1cd6e987ec32",
   "metadata": {},
   "outputs": [],
   "source": [
    "def rotate_tuple(tup,n):\n",
    "    n = n % len(tup)\n",
    "    return tup[-n:] + tup[:-n]\n",
    "t_39 = (22,55,24)\n",
    "n = int(input('Right by n number'))\n",
    "new_rotate_tuple = rotate_tuple(t_39,n)\n",
    "print(new_rotate_tuple)"
   ]
  },
  {
   "cell_type": "code",
   "execution_count": null,
   "id": "5f069701-b071-4a53-aacc-80aebb6ee154",
   "metadata": {},
   "outputs": [],
   "source": [
    "#41. Create a tuple of the first 5 Fibonacci numbers."
   ]
  },
  {
   "cell_type": "code",
   "execution_count": 11,
   "id": "d5f10ff6-3745-4e2d-b1da-787b58f9d90b",
   "metadata": {},
   "outputs": [
    {
     "name": "stdout",
     "output_type": "stream",
     "text": [
      "(0, 1, 1, 2, 3)\n"
     ]
    }
   ],
   "source": [
    "def generate_fibonacci(n):\n",
    "    fibonacci = [0, 1] \n",
    "\n",
    "    while len(fibonacci) < n:\n",
    "        next_number = fibonacci[-1] + fibonacci[-2]\n",
    "        fibonacci.append(next_number)\n",
    "\n",
    "    return tuple(fibonacci[:n])  \n",
    "V1 = generate_fibonacci(5)\n",
    "print(V1)"
   ]
  },
  {
   "cell_type": "code",
   "execution_count": 13,
   "id": "e0a8ce3d-2ebf-414d-bb8a-31bc3ba35253",
   "metadata": {},
   "outputs": [],
   "source": [
    "#42. Create a tuple from user input."
   ]
  },
  {
   "cell_type": "code",
   "execution_count": 19,
   "id": "7924a81b-17d8-4d84-8d6b-41e94e652ecb",
   "metadata": {},
   "outputs": [
    {
     "name": "stdin",
     "output_type": "stream",
     "text": [
      "Please provide input: a,b,d,f\n"
     ]
    },
    {
     "name": "stdout",
     "output_type": "stream",
     "text": [
      "('a', 'b', 'd', 'f')\n"
     ]
    }
   ],
   "source": [
    "Enter_value = input('Please provide input:')\n",
    "element = Enter_value.split(',')\n",
    "New_t = tuple(element)\n",
    "print(New_t)"
   ]
  },
  {
   "cell_type": "code",
   "execution_count": 20,
   "id": "96420aae-a09a-43f2-a0b0-77c025a5bfb0",
   "metadata": {},
   "outputs": [],
   "source": [
    "#43. Swap two elements in a tuple."
   ]
  },
  {
   "cell_type": "code",
   "execution_count": 25,
   "id": "07f812a8-e845-437e-9c4e-054157195734",
   "metadata": {},
   "outputs": [
    {
     "name": "stdout",
     "output_type": "stream",
     "text": [
      "(1, 4, 3, 2, 5)\n"
     ]
    }
   ],
   "source": [
    "t43 = (1,2,3,4,5)\n",
    "\n",
    "#tuple converted in list as tuple is not mutable.\n",
    "t_list = list(t43)\n",
    "\n",
    "#swap index number\n",
    "swap_1 = 2\n",
    "swap_2 = 4\n",
    "\n",
    "ind1 = t_list.index(swap_1)\n",
    "ind2 = t_list.index(swap_2)\n",
    "\n",
    "t_list[ind1],t_list[ind2] = t_list[ind2],t_list[ind1]\n",
    "print(tuple(t_list))"
   ]
  },
  {
   "cell_type": "code",
   "execution_count": 26,
   "id": "78bcadc2-05b6-4b8e-a7aa-a48e9807286e",
   "metadata": {},
   "outputs": [],
   "source": [
    "#44. Reverse the elements of a tuple."
   ]
  },
  {
   "cell_type": "code",
   "execution_count": 28,
   "id": "fef077d6-9fff-42c7-9a02-2658a49a8c22",
   "metadata": {},
   "outputs": [
    {
     "data": {
      "text/plain": [
       "(3, 2, 1)"
      ]
     },
     "execution_count": 28,
     "metadata": {},
     "output_type": "execute_result"
    }
   ],
   "source": [
    "t44 = (1,2,3)\n",
    "t44[::-1]"
   ]
  },
  {
   "cell_type": "code",
   "execution_count": 30,
   "id": "03238d84-628d-4232-a5d3-6653cf09ba0e",
   "metadata": {},
   "outputs": [],
   "source": [
    "#45. Create a tuple of the first `n` powers of 2."
   ]
  },
  {
   "cell_type": "code",
   "execution_count": 78,
   "id": "2b0c0be1-817f-4124-bd0e-445e1e0ae37b",
   "metadata": {},
   "outputs": [
    {
     "name": "stdout",
     "output_type": "stream",
     "text": [
      "(1, 2, 4, 8, 16)\n"
     ]
    }
   ],
   "source": [
    "\n",
    "def powers_of_2(n):\n",
    "    power_of_2 = []\n",
    "    for i in range(n):\n",
    "        power_of_2.append(2 ** i)\n",
    "    return tuple(power_of_2)\n",
    "\n",
    "# Example: Create a tuple of the first 5 powers of 2\n",
    "n = 5\n",
    "power_of_2_tuple = powers_of_2(n)\n",
    "\n",
    "print(power_of_2_tuple)"
   ]
  },
  {
   "cell_type": "code",
   "execution_count": 93,
   "id": "374bc235-1b3c-40e6-a9ca-38622384d821",
   "metadata": {},
   "outputs": [],
   "source": [
    "#46. Find the longest string in a tuple of strings."
   ]
  },
  {
   "cell_type": "code",
   "execution_count": 3,
   "id": "9bfcf2de-0fac-4224-94ae-7bb88fdcbe94",
   "metadata": {},
   "outputs": [
    {
     "name": "stdout",
     "output_type": "stream",
     "text": [
      "Long string in tuple is : Indonesia\n"
     ]
    }
   ],
   "source": [
    "t46 = ('india','France','Indonesia')\n",
    "long_string = max(t46, key = len)\n",
    "print(\"Long string in tuple is :\", long_string)"
   ]
  },
  {
   "cell_type": "code",
   "execution_count": 4,
   "id": "a574a405-b494-4798-937e-9e9c33af137c",
   "metadata": {},
   "outputs": [],
   "source": [
    "#47. Find the shortest string in a tuple of strings."
   ]
  },
  {
   "cell_type": "code",
   "execution_count": 8,
   "id": "d88bb0fd-e567-4662-a853-6b3a18c77694",
   "metadata": {},
   "outputs": [
    {
     "name": "stdout",
     "output_type": "stream",
     "text": [
      "Short word is :  Ram\n"
     ]
    }
   ],
   "source": [
    "t47 = ('Ram','Rohit','Rajan','Radhika')\n",
    "\n",
    "short_str = min(t47, key = len)\n",
    "\n",
    "print(\"Short word is : \",short_str)"
   ]
  },
  {
   "cell_type": "code",
   "execution_count": 9,
   "id": "5658786b-cad4-41de-b4c8-fec393a200b0",
   "metadata": {},
   "outputs": [],
   "source": [
    "#48. Create a tuple of the first `n` triangular numbers."
   ]
  },
  {
   "cell_type": "code",
   "execution_count": 13,
   "id": "f5d0d2c2-bddb-40eb-b1f0-a9941f47092c",
   "metadata": {},
   "outputs": [
    {
     "name": "stdout",
     "output_type": "stream",
     "text": [
      "(1, 3, 6, 10, 15)\n"
     ]
    }
   ],
   "source": [
    "def tri_num(n):\n",
    "    \n",
    "    tri_num = []\n",
    "    for i in range(1, n + 1):\n",
    "        tri_num.append(i * (i + 1) // 2)\n",
    "    return tuple(tri_num)\n",
    "n = 5\n",
    "triangular_tuple = tri_num(n)\n",
    "\n",
    "print(triangular_tuple)\n"
   ]
  },
  {
   "cell_type": "code",
   "execution_count": 14,
   "id": "2df8fdc9-8582-4b0e-a13d-b42dca00c646",
   "metadata": {},
   "outputs": [],
   "source": [
    "#49. Check if a tuple contains another tuple as a subsequence."
   ]
  },
  {
   "cell_type": "code",
   "execution_count": 16,
   "id": "a3f78b07-d03c-43df-a00a-cf0aa235f169",
   "metadata": {},
   "outputs": [
    {
     "name": "stdout",
     "output_type": "stream",
     "text": [
      "sub_tuple is a subsequence of larger_tuple.\n"
     ]
    }
   ],
   "source": [
    "def is_subsequence(sub, larger):\n",
    "    sub_len = len(sub)\n",
    "    larger_len = len(larger)\n",
    "\n",
    "    if sub_len == 0:\n",
    "        return True\n",
    "\n",
    "    i = 0\n",
    "    j = 0\n",
    "\n",
    "    while i < larger_len:\n",
    "        if sub[j] == larger[i]:\n",
    "            j += 1\n",
    "            if j == sub_len:\n",
    "                return True\n",
    "        i += 1\n",
    "\n",
    "    return False\n",
    "\n",
    "larger_tuple = (1, 2, 3, 4, 5, 6, 7)\n",
    "sub_tuple = (2, 4, 6)\n",
    "result = is_subsequence(sub_tuple, larger_tuple)\n",
    "\n",
    "if result:\n",
    "    print(\"sub_tuple is a subsequence of larger_tuple.\")\n",
    "else:\n",
    "    print(\"sub_tuple is not a subsequence of larger_tuple.\")\n"
   ]
  },
  {
   "cell_type": "code",
   "execution_count": 17,
   "id": "c1058607-69b7-4d2a-856a-a358d63be526",
   "metadata": {},
   "outputs": [],
   "source": [
    "#50. Create a tuple of alternating 1s and 0s of length `n`."
   ]
  },
  {
   "cell_type": "code",
   "execution_count": 7,
   "id": "c576d8d7-495b-436e-9287-984929547684",
   "metadata": {},
   "outputs": [
    {
     "name": "stdin",
     "output_type": "stream",
     "text": [
      "Enter a leangth of n 12\n"
     ]
    },
    {
     "name": "stdout",
     "output_type": "stream",
     "text": [
      "(1, 0, 1, 0, 1, 0, 1, 0, 1, 0, 1)\n"
     ]
    }
   ],
   "source": [
    "n = int(input(\"Enter a leangth of n\"))\n",
    "\n",
    "#new list to append\n",
    "new = []\n",
    "\n",
    "#for loop\n",
    "\n",
    "for i in range(1,n):\n",
    "    if i % 2 == 0:\n",
    "        new.append(0)\n",
    "    else:\n",
    "        new.append(1)\n",
    "print(tuple(new))        "
   ]
  },
  {
   "cell_type": "code",
   "execution_count": 8,
   "id": "f104500e-c4f6-4b42-afc0-809c08a05377",
   "metadata": {},
   "outputs": [],
   "source": [
    "#Set Based Practice Problem :"
   ]
  },
  {
   "cell_type": "code",
   "execution_count": 9,
   "id": "21fd96c6-47cf-4dda-8244-710218169c88",
   "metadata": {},
   "outputs": [],
   "source": [
    "#1. Create a set with integers from 1 to 5."
   ]
  },
  {
   "cell_type": "code",
   "execution_count": 67,
   "id": "9b146d97-8ebc-4442-a838-5dc515cc5858",
   "metadata": {},
   "outputs": [
    {
     "name": "stdout",
     "output_type": "stream",
     "text": [
      "{1, 2, 3, 4, 5}\n"
     ]
    }
   ],
   "source": [
    "my_set = []\n",
    "for i in range(1,6):\n",
    "    my_set.append(i)\n",
    "my_set = set(my_set)  \n",
    "print(my_set)"
   ]
  },
  {
   "cell_type": "code",
   "execution_count": 68,
   "id": "00fa4bde-8def-482b-a10b-745cf88dc9e3",
   "metadata": {},
   "outputs": [],
   "source": [
    "#2. Add an element to a set."
   ]
  },
  {
   "cell_type": "code",
   "execution_count": 72,
   "id": "ff9888ac-587f-4ac0-ba91-8a39501641c2",
   "metadata": {},
   "outputs": [
    {
     "name": "stdout",
     "output_type": "stream",
     "text": [
      "{1, 2}\n"
     ]
    }
   ],
   "source": [
    "\n",
    "set2 = {1}\n",
    "#adding 2 in set\n",
    "set2.add(2)\n",
    "print(set2)"
   ]
  },
  {
   "cell_type": "code",
   "execution_count": 73,
   "id": "13ea93de-e30f-4bd4-8861-9f54123ed2b1",
   "metadata": {},
   "outputs": [],
   "source": [
    "#3. Remove an element from a set."
   ]
  },
  {
   "cell_type": "code",
   "execution_count": 92,
   "id": "21c10788-9de7-4ff1-8ac8-a0e0f26b6385",
   "metadata": {},
   "outputs": [
    {
     "name": "stdout",
     "output_type": "stream",
     "text": [
      "{1, 4}\n"
     ]
    }
   ],
   "source": [
    "set3 = {1,2,4}\n",
    "#remove 2 from set\n",
    "set3.remove(2)\n",
    "print(set3)"
   ]
  },
  {
   "cell_type": "code",
   "execution_count": 93,
   "id": "cd3e47e4-586e-4898-b955-6a9da6803e26",
   "metadata": {},
   "outputs": [],
   "source": [
    "#4. Check if an element exists in a set."
   ]
  },
  {
   "cell_type": "code",
   "execution_count": 99,
   "id": "6ca1a66c-d6fe-49a4-8427-ce8d2bae5c9e",
   "metadata": {},
   "outputs": [
    {
     "name": "stdout",
     "output_type": "stream",
     "text": [
      "1 number exists in set4\n"
     ]
    }
   ],
   "source": [
    "set4 = {1,2,4}\n",
    "if 1 in set4:\n",
    "    print('1 number exists in set4')"
   ]
  },
  {
   "cell_type": "code",
   "execution_count": 100,
   "id": "7f29cc88-2db6-4756-b33e-5a6a6f112979",
   "metadata": {},
   "outputs": [],
   "source": [
    "#5. Find the length of a set without using the `len()` function."
   ]
  },
  {
   "cell_type": "code",
   "execution_count": 3,
   "id": "5c759423-c000-45ef-bcc7-650bddac4d83",
   "metadata": {},
   "outputs": [
    {
     "name": "stdout",
     "output_type": "stream",
     "text": [
      "5\n"
     ]
    }
   ],
   "source": [
    "set5 = {1,2,3,4,5}\n",
    "\n",
    "count = 0\n",
    "\n",
    "for i in set5:\n",
    "    count += 1\n",
    "print(count)    "
   ]
  },
  {
   "cell_type": "code",
   "execution_count": 4,
   "id": "7ba7f80f-779e-46ee-aefe-214ac19ceabe",
   "metadata": {},
   "outputs": [],
   "source": [
    "#6. Clear all elements from a set."
   ]
  },
  {
   "cell_type": "code",
   "execution_count": 11,
   "id": "54611770-683c-4a82-9dae-b47f4635d732",
   "metadata": {},
   "outputs": [
    {
     "name": "stdout",
     "output_type": "stream",
     "text": [
      "set()\n"
     ]
    }
   ],
   "source": [
    "set6 = {1,2,3,4,5}\n",
    "\n",
    "set6.clear()\n",
    "print(set6)"
   ]
  },
  {
   "cell_type": "code",
   "execution_count": 10,
   "id": "3755ee74-8f7b-4c5b-a6a7-6224cb7bab91",
   "metadata": {},
   "outputs": [],
   "source": [
    "#7. Create a set of even numbers from 1 to 10."
   ]
  },
  {
   "cell_type": "code",
   "execution_count": 40,
   "id": "7a34869f-2439-4262-90e6-d1795483a16e",
   "metadata": {},
   "outputs": [
    {
     "name": "stdout",
     "output_type": "stream",
     "text": [
      "{2, 4, 6, 8, 10}\n"
     ]
    }
   ],
   "source": [
    "even_num = []\n",
    "for i in range(1,11):\n",
    "    if i%2 == 0:\n",
    "        even_num.append(i)\n",
    "print(set(even_num))     "
   ]
  },
  {
   "cell_type": "code",
   "execution_count": 41,
   "id": "15d18207-77d4-4d17-add6-9160010324ef",
   "metadata": {},
   "outputs": [
    {
     "name": "stdout",
     "output_type": "stream",
     "text": [
      "{2, 4, 6, 8, 10}\n"
     ]
    }
   ],
   "source": [
    "#2nd method\n",
    "even_num = set(range(2,11,2))\n",
    "print(even_num)"
   ]
  },
  {
   "cell_type": "code",
   "execution_count": 42,
   "id": "deef7e69-3834-4ad9-824e-4b60b55bdadd",
   "metadata": {},
   "outputs": [],
   "source": [
    "#8. Create a set of odd numbers from 1 to 10."
   ]
  },
  {
   "cell_type": "code",
   "execution_count": 46,
   "id": "5d94652f-88ec-436e-a8df-8e88715ea453",
   "metadata": {},
   "outputs": [
    {
     "name": "stdout",
     "output_type": "stream",
     "text": [
      "{1, 3, 5, 7, 9}\n"
     ]
    }
   ],
   "source": [
    "odd_num = set(range(1,10,2))\n",
    "print(odd_num)"
   ]
  },
  {
   "cell_type": "code",
   "execution_count": 47,
   "id": "7d12a16a-ea8a-4546-be8c-84e28da48f12",
   "metadata": {},
   "outputs": [],
   "source": [
    "#9. Find the union of two sets."
   ]
  },
  {
   "cell_type": "code",
   "execution_count": 52,
   "id": "5b624553-3c61-4ddb-830d-aaacda9c523e",
   "metadata": {},
   "outputs": [
    {
     "name": "stdout",
     "output_type": "stream",
     "text": [
      "{1, 2, 3, 4, 5, 6, 9}\n"
     ]
    }
   ],
   "source": [
    "set1 = {1,2,3,4}\n",
    "\n",
    "set2 = {6,5,4,9}\n",
    "\n",
    "union_set = set1.union(set2)\n",
    "\n",
    "print(union_set)"
   ]
  },
  {
   "cell_type": "code",
   "execution_count": 1,
   "id": "594c40db-5af4-4706-9d86-a6ce3f0becd4",
   "metadata": {},
   "outputs": [],
   "source": [
    "#10. Find the intersection of two sets."
   ]
  },
  {
   "cell_type": "code",
   "execution_count": 6,
   "id": "62a49a80-11eb-4b60-a389-83a2848b5e94",
   "metadata": {},
   "outputs": [
    {
     "name": "stdout",
     "output_type": "stream",
     "text": [
      "{1, 3, 4}\n"
     ]
    }
   ],
   "source": [
    "a1 = {1,2,3,4}\n",
    "a2 = {3,4,5,1}\n",
    "\n",
    "set10 = a1.intersection(a2)\n",
    "\n",
    "print(set10)"
   ]
  },
  {
   "cell_type": "code",
   "execution_count": 7,
   "id": "885eea14-4f3b-47eb-a27d-3abd8dcf800c",
   "metadata": {},
   "outputs": [],
   "source": [
    "#11. Find the difference between two sets."
   ]
  },
  {
   "cell_type": "code",
   "execution_count": 13,
   "id": "aa3d5968-9518-4abe-93bb-ba081abe0919",
   "metadata": {},
   "outputs": [
    {
     "name": "stdout",
     "output_type": "stream",
     "text": [
      "{8, 1, 9}\n"
     ]
    }
   ],
   "source": [
    "b1 = {1,2,3,4,8,9}\n",
    "b2 = {2,3,4,5,7}\n",
    "\n",
    "set11 = b1-b2\n",
    "\n",
    "print(set11)"
   ]
  },
  {
   "cell_type": "code",
   "execution_count": 14,
   "id": "37306801-0fad-4916-87c8-93ec1521f2f3",
   "metadata": {},
   "outputs": [],
   "source": [
    "#12. Check if a set is a subset of another set."
   ]
  },
  {
   "cell_type": "code",
   "execution_count": 21,
   "id": "34bb8a91-c63c-4e5e-bf70-31b49a18e0cf",
   "metadata": {},
   "outputs": [
    {
     "name": "stdout",
     "output_type": "stream",
     "text": [
      "It is sub set of c1\n"
     ]
    }
   ],
   "source": [
    "c1 = {6,7,8}\n",
    "c2 = {5,6,7,8}\n",
    "\n",
    "set12 = c1.issubset(c2)\n",
    "\n",
    "if set12:\n",
    "    print(\"It is sub set of c1\")\n",
    "else:\n",
    "    print(\"It is not a sub set of c1\")"
   ]
  },
  {
   "cell_type": "code",
   "execution_count": 22,
   "id": "8d7e6eeb-fb5c-41a8-a2c4-166cccbaf37f",
   "metadata": {},
   "outputs": [],
   "source": [
    "#13. Check if a set is a superset of another set."
   ]
  },
  {
   "cell_type": "code",
   "execution_count": 26,
   "id": "053e53a2-17a3-4f2d-9935-8658c33ef4f9",
   "metadata": {},
   "outputs": [
    {
     "name": "stdout",
     "output_type": "stream",
     "text": [
      "its suberset\n"
     ]
    }
   ],
   "source": [
    "dax = {11,22,33}\n",
    "lax = {11,44,55}\n",
    "\n",
    "set13 = dax.issuperset(lax)\n",
    "\n",
    "if dax:\n",
    "    print(\"its suberset\")\n",
    "else:\n",
    "    print('It is not superset')"
   ]
  },
  {
   "cell_type": "code",
   "execution_count": 27,
   "id": "43bc0fa3-7074-4dc9-88e4-ffed88c58677",
   "metadata": {},
   "outputs": [],
   "source": [
    "#14. Create a set from a list."
   ]
  },
  {
   "cell_type": "code",
   "execution_count": 32,
   "id": "19a67cef-e267-40cd-ad65-646bd1c6fa8e",
   "metadata": {},
   "outputs": [
    {
     "name": "stdout",
     "output_type": "stream",
     "text": [
      "{'u', 'e', 'p', 'n'}\n"
     ]
    }
   ],
   "source": [
    "set14 = ['p','u','n','e']\n",
    "newset = set(set14)\n",
    "\n",
    "print(newset)"
   ]
  },
  {
   "cell_type": "code",
   "execution_count": 33,
   "id": "9bf4bd41-8627-46e1-b524-13e55d23a15c",
   "metadata": {},
   "outputs": [],
   "source": [
    "#15. Convert a set to a list."
   ]
  },
  {
   "cell_type": "code",
   "execution_count": 35,
   "id": "543e9cd1-fa53-4759-8d94-376a35ae6087",
   "metadata": {},
   "outputs": [
    {
     "name": "stdout",
     "output_type": "stream",
     "text": [
      "[1, 2, 3, 4]\n"
     ]
    }
   ],
   "source": [
    "set15 = {1,2,3,4}\n",
    "\n",
    "list1 = list(set15)\n",
    "\n",
    "print(list1)"
   ]
  },
  {
   "cell_type": "code",
   "execution_count": 36,
   "id": "0ce48df4-d0ad-4b20-a0dc-8c24688eb946",
   "metadata": {},
   "outputs": [],
   "source": [
    "#16. Remove a random element from a set."
   ]
  },
  {
   "cell_type": "code",
   "execution_count": 1,
   "id": "6a250d0c-aaef-4eb2-9447-29f2b724d6d7",
   "metadata": {},
   "outputs": [
    {
     "name": "stdout",
     "output_type": "stream",
     "text": [
      "Original List {2, 3, 4}\n",
      "random 1\n"
     ]
    }
   ],
   "source": [
    "set16 = {1,2,3,4}\n",
    "\n",
    "ran_list = set16.pop()\n",
    "\n",
    "print('Original List',set16)\n",
    "print('random',ran_list)"
   ]
  },
  {
   "cell_type": "code",
   "execution_count": 2,
   "id": "8ad1a9af-8d82-4bb0-8a7e-81f1a5a34b30",
   "metadata": {},
   "outputs": [],
   "source": [
    "#17. Pop an element from a set."
   ]
  },
  {
   "cell_type": "code",
   "execution_count": 10,
   "id": "63e18d44-7d76-48b7-a5c2-f6cbfd948b82",
   "metadata": {},
   "outputs": [
    {
     "name": "stdout",
     "output_type": "stream",
     "text": [
      "1\n"
     ]
    }
   ],
   "source": [
    "set17 = {1,2,3,4}\n",
    "newset17 = set17.pop()\n",
    "print(newset17)"
   ]
  },
  {
   "cell_type": "code",
   "execution_count": 11,
   "id": "74edcc7b-825a-4fcf-9970-66b250b51460",
   "metadata": {},
   "outputs": [],
   "source": [
    "#18. Check if two sets have no elements in common."
   ]
  },
  {
   "cell_type": "code",
   "execution_count": 19,
   "id": "0d995d12-96bf-4229-85cd-c8364b7b4958",
   "metadata": {},
   "outputs": [
    {
     "name": "stdout",
     "output_type": "stream",
     "text": [
      "there is no common elemant\n"
     ]
    }
   ],
   "source": [
    "set_1 = {1,2,3,4}\n",
    "set_2 = {6,7,8}\n",
    "\n",
    "if set_1.isdisjoint(set_2):\n",
    "    print(\"there is no common elemant\")\n",
    "else:\n",
    "    print(\"yes, there is common element\")\n",
    "    "
   ]
  },
  {
   "cell_type": "code",
   "execution_count": 20,
   "id": "60a5b487-a5f4-417f-9416-0242548de9c4",
   "metadata": {},
   "outputs": [],
   "source": [
    "#19. Find the symmetric difference between two sets."
   ]
  },
  {
   "cell_type": "code",
   "execution_count": 24,
   "id": "6f4264f9-41b7-4ab4-ba5c-108656172d42",
   "metadata": {},
   "outputs": [
    {
     "name": "stdout",
     "output_type": "stream",
     "text": [
      "{1, 2, 4, 5}\n"
     ]
    }
   ],
   "source": [
    "set1 = {1,2,3}\n",
    "set2 = {3,4,5}\n",
    "\n",
    "SD = set1.symmetric_difference(set2)\n",
    "\n",
    "print(SD)"
   ]
  },
  {
   "cell_type": "code",
   "execution_count": 25,
   "id": "0d2932a5-f69b-4b73-8c70-12e6e15a5473",
   "metadata": {},
   "outputs": [],
   "source": [
    "#20. Update a set with elements from another set."
   ]
  },
  {
   "cell_type": "code",
   "execution_count": 39,
   "id": "096afbc2-ae67-427d-9625-06d9f58bdeeb",
   "metadata": {},
   "outputs": [
    {
     "name": "stdout",
     "output_type": "stream",
     "text": [
      "{1, 2, 3, 4, 5, 6, 7, 8, 9}\n"
     ]
    }
   ],
   "source": [
    "set20_1 = {1,2,3,4,5}\n",
    "set20_2 = {6,7,8,9}\n",
    "\n",
    "set20_1.update(set20_2)\n",
    "\n",
    "print(set20_1)"
   ]
  },
  {
   "cell_type": "code",
   "execution_count": 40,
   "id": "e84e4e30-a472-4552-9adb-650d955c4fae",
   "metadata": {},
   "outputs": [],
   "source": [
    "#21. Create a set of the first 5 prime numbers."
   ]
  },
  {
   "cell_type": "code",
   "execution_count": 42,
   "id": "a1a43c1d-8ba8-4981-a182-bd3c90bd1c7a",
   "metadata": {},
   "outputs": [
    {
     "name": "stdout",
     "output_type": "stream",
     "text": [
      "{2, 3, 5, 7, 11}\n"
     ]
    }
   ],
   "source": [
    "prime_numbers = {2, 3, 5, 7, 11}\n",
    "print(prime_numbers)"
   ]
  },
  {
   "cell_type": "code",
   "execution_count": 43,
   "id": "f5921715-fc83-448c-ad6e-ea361dd00d79",
   "metadata": {},
   "outputs": [],
   "source": [
    "#22. Check if two sets are identical."
   ]
  },
  {
   "cell_type": "code",
   "execution_count": 48,
   "id": "c01baec5-48eb-483a-82c3-138e4d48d508",
   "metadata": {},
   "outputs": [
    {
     "name": "stdout",
     "output_type": "stream",
     "text": [
      "set is identical\n"
     ]
    }
   ],
   "source": [
    "set1 = {9,7,4}\n",
    "set2 = {4,7,9}\n",
    "\n",
    "if set1 == set2:\n",
    "    print('set is identical')\n",
    "else:\n",
    "    print('set is not a identical')"
   ]
  },
  {
   "cell_type": "code",
   "execution_count": 49,
   "id": "4132e200-4814-4579-996b-f8cb421bdf07",
   "metadata": {},
   "outputs": [],
   "source": [
    "#23. Create a frozen set."
   ]
  },
  {
   "cell_type": "code",
   "execution_count": 56,
   "id": "00491d00-958d-4213-aae4-7dac125d6687",
   "metadata": {},
   "outputs": [
    {
     "name": "stdout",
     "output_type": "stream",
     "text": [
      "frozenset({88, 66, 77})\n"
     ]
    }
   ],
   "source": [
    "set23 = {66,77,88}\n",
    "\n",
    "FS = frozenset(set23)\n",
    "print(FS)"
   ]
  },
  {
   "cell_type": "code",
   "execution_count": 57,
   "id": "e60daee4-c610-4008-bb93-6c15f192066e",
   "metadata": {},
   "outputs": [],
   "source": [
    "#24. Check if a set is disjoint with another set."
   ]
  },
  {
   "cell_type": "code",
   "execution_count": 64,
   "id": "5598819b-3478-43cd-9ed0-81b59e30bc17",
   "metadata": {},
   "outputs": [
    {
     "name": "stdout",
     "output_type": "stream",
     "text": [
      "The set is disjoint\n"
     ]
    }
   ],
   "source": [
    "s100 = {1,2,4}\n",
    "s200 = {3,6,8}\n",
    "\n",
    "if s100.isdisjoint(s200):\n",
    "    print(\"The set is disjoint\")\n",
    "else:\n",
    "    print(\"The set is not Disjoint\")"
   ]
  },
  {
   "cell_type": "code",
   "execution_count": 65,
   "id": "113e9a1e-c95f-47c3-845d-8219c672c5a5",
   "metadata": {},
   "outputs": [],
   "source": [
    "#25. Create a set of squares of numbers from 1 to 5."
   ]
  },
  {
   "cell_type": "code",
   "execution_count": 96,
   "id": "61508cf4-e540-46f1-ba47-ba33a58a3277",
   "metadata": {},
   "outputs": [
    {
     "data": {
      "text/plain": [
       "{2, 4, 6, 8, 10}"
      ]
     },
     "execution_count": 96,
     "metadata": {},
     "output_type": "execute_result"
    }
   ],
   "source": [
    "my_set = {i*2 for i in range(1,6)}\n",
    "my_set"
   ]
  },
  {
   "cell_type": "code",
   "execution_count": 97,
   "id": "b8c7a32e-7aac-47d9-87f5-a298ef0e63e0",
   "metadata": {},
   "outputs": [],
   "source": [
    "#26. Filter out all even numbers from a set."
   ]
  },
  {
   "cell_type": "code",
   "execution_count": 102,
   "id": "8055cf7d-ffa7-41de-ba58-e9c0b1ac7580",
   "metadata": {},
   "outputs": [
    {
     "name": "stdout",
     "output_type": "stream",
     "text": [
      "{0, 2, 4, 6, 8, 12, 14}\n"
     ]
    }
   ],
   "source": [
    "set26 = {1,2,3,4,5,6,7,8,9,0,11,12,13,14,15}\n",
    "\n",
    "even_set = {i for i in set26 if i%2 == 0}\n",
    "print(even_set)"
   ]
  },
  {
   "cell_type": "code",
   "execution_count": 103,
   "id": "b09ed8ba-7dc4-4e40-94f6-fae532c2bd44",
   "metadata": {},
   "outputs": [],
   "source": [
    "#27. Multiply all elements in a set by 2."
   ]
  },
  {
   "cell_type": "code",
   "execution_count": 111,
   "id": "cc86ed77-d630-4612-b624-d0f668fd53f7",
   "metadata": {},
   "outputs": [
    {
     "name": "stdout",
     "output_type": "stream",
     "text": [
      "{8, 2, 4}\n"
     ]
    }
   ],
   "source": [
    "set27 = {1,2,4}\n",
    "\n",
    "new27 = {i * 2 for i in set27}\n",
    "\n",
    "print(new27)"
   ]
  },
  {
   "cell_type": "code",
   "execution_count": 113,
   "id": "773af61f-ccb1-40df-9be9-58b1e1f4ebc0",
   "metadata": {},
   "outputs": [],
   "source": [
    "#28. Create a set of random numbers."
   ]
  },
  {
   "cell_type": "code",
   "execution_count": 138,
   "id": "9c909cb0-f159-4bea-b259-86057de00e10",
   "metadata": {},
   "outputs": [
    {
     "name": "stdout",
     "output_type": "stream",
     "text": [
      "{19552, 25185, 25094, 32775, 9735, 27750, 7210, 24138, 11728, 19090, 15735, 8377, 21788}\n"
     ]
    }
   ],
   "source": [
    "import random\n",
    "\n",
    "start_value = 333\n",
    "end_value = 33333\n",
    "set_size = 13\n",
    "\n",
    "#to store a result created the set\n",
    "random_set = set()\n",
    "\n",
    "# while loop \n",
    "while len(random_set)< set_size:\n",
    "    random_num = random.randint(start_value,end_value)\n",
    "    \n",
    "    random_set.add(random_num)\n",
    "print(random_set)    "
   ]
  },
  {
   "cell_type": "code",
   "execution_count": 139,
   "id": "29d64e0d-9c6f-4403-9832-804a5f598f46",
   "metadata": {},
   "outputs": [],
   "source": [
    "#29. Check if a set is empty."
   ]
  },
  {
   "cell_type": "code",
   "execution_count": 147,
   "id": "5d55639b-4393-4e63-9c11-b2cd55824095",
   "metadata": {},
   "outputs": [
    {
     "name": "stdout",
     "output_type": "stream",
     "text": [
      "set is empty\n"
     ]
    }
   ],
   "source": [
    "e_set = {}\n",
    "\n",
    "if not e_set:\n",
    "    print(\"set is empty\")\n",
    "else:\n",
    "    print(\"set is not empty\")\n",
    "    "
   ]
  },
  {
   "cell_type": "code",
   "execution_count": 148,
   "id": "f661e80c-18e6-4300-b531-2e61bbd7f46a",
   "metadata": {},
   "outputs": [],
   "source": [
    "#30. Create a nested set (hint: use frozenset)."
   ]
  },
  {
   "cell_type": "code",
   "execution_count": 152,
   "id": "83669088-da75-43cf-9433-7b225fd5cf1c",
   "metadata": {},
   "outputs": [
    {
     "name": "stdout",
     "output_type": "stream",
     "text": [
      "{frozenset({1, 2, 3}), frozenset({44, 22, 55}), frozenset({88, 99})}\n"
     ]
    }
   ],
   "source": [
    "nested_set = {frozenset({1,2,3}),frozenset({22,44,55}),frozenset({88,99})}\n",
    "\n",
    "print(nested_set)"
   ]
  },
  {
   "cell_type": "code",
   "execution_count": 154,
   "id": "89d65e6e-4319-4c1f-af2e-cbc9812075e8",
   "metadata": {},
   "outputs": [],
   "source": [
    "#31. Remove an element from a set using the discard method."
   ]
  },
  {
   "cell_type": "code",
   "execution_count": 163,
   "id": "600f1661-3103-4d56-82ff-dff1cc972eed",
   "metadata": {},
   "outputs": [
    {
     "name": "stdout",
     "output_type": "stream",
     "text": [
      "{10, 12, 14, 15}\n"
     ]
    }
   ],
   "source": [
    "set31 = {10,11,12,14,15}\n",
    "\n",
    "#removed 11 from set31\n",
    "Discart = set31.discard(11)\n",
    "\n",
    "#result\n",
    "print(set31)"
   ]
  },
  {
   "cell_type": "code",
   "execution_count": 164,
   "id": "ffa2d30b-5783-483c-a3ec-4d43db65c2a0",
   "metadata": {},
   "outputs": [],
   "source": [
    "#32. Compare two sets."
   ]
  },
  {
   "cell_type": "code",
   "execution_count": 168,
   "id": "26334eca-83c8-4589-b822-2a01b06db149",
   "metadata": {},
   "outputs": [
    {
     "name": "stdout",
     "output_type": "stream",
     "text": [
      "Both sets are equal\n"
     ]
    }
   ],
   "source": [
    "set500 = {1,2,3}\n",
    "set600 = {1,2,3}\n",
    "\n",
    "if set500 == set600:\n",
    "    print('Both sets are equal')\n",
    "else:\n",
    "    print('Both sets are not equal')"
   ]
  },
  {
   "cell_type": "code",
   "execution_count": 169,
   "id": "ed8c1b3c-66e8-4d67-b4fb-a3fcaa73db43",
   "metadata": {},
   "outputs": [],
   "source": [
    "#33. Create a set from a string."
   ]
  },
  {
   "cell_type": "code",
   "execution_count": 174,
   "id": "8b21f2d3-bb72-4fed-b09e-a720dd9c1175",
   "metadata": {},
   "outputs": [
    {
     "name": "stdout",
     "output_type": "stream",
     "text": [
      "{'S', 'P', 'L', 'W', 'K', 'I'}\n"
     ]
    }
   ],
   "source": [
    "set33 = \"PWSKILLS\"\n",
    "SS = {i for i in set33}\n",
    "\n",
    "print(SS)"
   ]
  },
  {
   "cell_type": "code",
   "execution_count": 178,
   "id": "b7b2bea4-aedf-4e3b-872a-b49a66f67757",
   "metadata": {},
   "outputs": [],
   "source": [
    "#34. Convert a set of strings to a set of integers."
   ]
  },
  {
   "cell_type": "code",
   "execution_count": 184,
   "id": "5e2dae4b-6271-4039-8bad-c6d77468a495",
   "metadata": {},
   "outputs": [
    {
     "name": "stdout",
     "output_type": "stream",
     "text": [
      "{2, 3, 6}\n"
     ]
    }
   ],
   "source": [
    "set_str = {'2','3','6'}\n",
    "\n",
    "int_set = {int(i) for i in set_str}\n",
    "\n",
    "print(int_set)"
   ]
  },
  {
   "cell_type": "code",
   "execution_count": 190,
   "id": "3e138a02-d34c-48c2-bbfa-82e5cdd9f212",
   "metadata": {},
   "outputs": [],
   "source": [
    "#35. Convert a set of integers to a set of strings."
   ]
  },
  {
   "cell_type": "code",
   "execution_count": 195,
   "id": "d2e0a225-20f1-434a-afbb-06af5c634d9f",
   "metadata": {},
   "outputs": [
    {
     "name": "stdout",
     "output_type": "stream",
     "text": [
      "{'2', '1', '3', '4'}\n"
     ]
    }
   ],
   "source": [
    "set35 = {1,2,3,4}\n",
    "\n",
    "int35 = {str(i) for i in set35}\n",
    "\n",
    "print(int35)"
   ]
  },
  {
   "cell_type": "code",
   "execution_count": 196,
   "id": "ef9c621f-c6da-417a-89b3-9a65534a297e",
   "metadata": {},
   "outputs": [],
   "source": [
    "#36. Create a set from a tuple."
   ]
  },
  {
   "cell_type": "code",
   "execution_count": 209,
   "id": "99a5f30f-83e3-4970-8fbc-c5c5b9595793",
   "metadata": {},
   "outputs": [
    {
     "name": "stdout",
     "output_type": "stream",
     "text": [
      "{1, 2, 3, 4}\n"
     ]
    }
   ],
   "source": [
    "t36 = (1,2,3,4)\n",
    "\n",
    "set_tup = {i for i in t36}\n",
    "\n",
    "print(set_tup)"
   ]
  },
  {
   "cell_type": "code",
   "execution_count": 210,
   "id": "826ca3be-686f-45ef-baa1-5e2c87329d82",
   "metadata": {},
   "outputs": [],
   "source": [
    "#37. Convert a set to a tuple."
   ]
  },
  {
   "cell_type": "code",
   "execution_count": 216,
   "id": "5a463f0d-ac8f-4b90-b58d-c905accb50c9",
   "metadata": {},
   "outputs": [
    {
     "name": "stdout",
     "output_type": "stream",
     "text": [
      "(1, 2, 3, 4)\n"
     ]
    }
   ],
   "source": [
    "set37 = {1,2,3,4}\n",
    "\n",
    "tup = tuple(set37)\n",
    "\n",
    "print(tup)"
   ]
  },
  {
   "cell_type": "code",
   "execution_count": 217,
   "id": "78ac04e0-c846-4660-ae94-a02b3667feb9",
   "metadata": {},
   "outputs": [],
   "source": [
    "#38. Find the maximum value in a set."
   ]
  },
  {
   "cell_type": "code",
   "execution_count": 221,
   "id": "2a2ea634-e6f9-40f4-bb84-4d190e7a666a",
   "metadata": {},
   "outputs": [
    {
     "name": "stdout",
     "output_type": "stream",
     "text": [
      "156\n"
     ]
    }
   ],
   "source": [
    "set38 = {12,13,14,15,156}\n",
    "\n",
    "Max_value = max(set38)\n",
    "\n",
    "print(Max_value)"
   ]
  },
  {
   "cell_type": "code",
   "execution_count": 222,
   "id": "1d5f52b6-ebac-4a12-8c45-8b708f63a755",
   "metadata": {},
   "outputs": [],
   "source": [
    "#39. Find the minimum value in a set."
   ]
  },
  {
   "cell_type": "code",
   "execution_count": 224,
   "id": "cbb6856d-6d90-4a5e-8473-bee6d88881ca",
   "metadata": {},
   "outputs": [
    {
     "name": "stdout",
     "output_type": "stream",
     "text": [
      "12\n"
     ]
    }
   ],
   "source": [
    "set39 = {12,13,14,15,156}\n",
    "\n",
    "min_val = min(set39)\n",
    "\n",
    "print(min_val)"
   ]
  },
  {
   "cell_type": "code",
   "execution_count": 225,
   "id": "ea41673e-0bef-4ef0-b209-a69b8cd8c615",
   "metadata": {},
   "outputs": [],
   "source": [
    "#40. Create a set from user input."
   ]
  },
  {
   "cell_type": "code",
   "execution_count": 230,
   "id": "9ab3dcd2-4578-46aa-88c8-1fcbc50ae9e0",
   "metadata": {},
   "outputs": [
    {
     "name": "stdin",
     "output_type": "stream",
     "text": [
      "Please enter you mobile num 8007122455\n"
     ]
    },
    {
     "name": "stdout",
     "output_type": "stream",
     "text": [
      "{'7', '1', '2', '5', '4', '0', '8'}\n"
     ]
    }
   ],
   "source": [
    "my_input = input('Please enter you mobile num')\n",
    "\n",
    "\n",
    "in_set = {i for i in my_input}\n",
    "\n",
    "print(in_set)"
   ]
  },
  {
   "cell_type": "code",
   "execution_count": 1,
   "id": "1b61d7d3-1a68-4b1e-876e-5ccd16f6de5c",
   "metadata": {},
   "outputs": [],
   "source": [
    "#41. Check if the intersection of two sets is empty."
   ]
  },
  {
   "cell_type": "code",
   "execution_count": 4,
   "id": "c0c26585-b3f1-43e0-92d0-76e28878fce6",
   "metadata": {},
   "outputs": [
    {
     "name": "stdout",
     "output_type": "stream",
     "text": [
      "intersection is not empty\n"
     ]
    }
   ],
   "source": [
    "set1 = {1,2,3,4}\n",
    "set2 = {4,5,6,7}\n",
    "\n",
    "inter = set1.intersection(set2)\n",
    "\n",
    "if not inter:\n",
    "    print(\"intersection is empty\")\n",
    "else:\n",
    "    print(\"intersection is not empty\")"
   ]
  },
  {
   "cell_type": "code",
   "execution_count": 5,
   "id": "b374aab2-13df-4f5f-89d6-b96562122806",
   "metadata": {},
   "outputs": [],
   "source": [
    "#42. Create a set of the first 5 Fibonacci numbers."
   ]
  },
  {
   "cell_type": "code",
   "execution_count": 11,
   "id": "37a9fa19-7b19-4ffb-b0b8-0add39248838",
   "metadata": {},
   "outputs": [
    {
     "name": "stdout",
     "output_type": "stream",
     "text": [
      "{0, 1, 2, 3}\n"
     ]
    }
   ],
   "source": [
    "def generate_fibonacci(n):\n",
    "    fibonacci = [0, 1]\n",
    "\n",
    "    while len(fibonacci) < n:\n",
    "        next_number = fibonacci[-1] + fibonacci[-2]\n",
    "        fibonacci.append(next_number)\n",
    "\n",
    "    return set(fibonacci[:n])  \n",
    "V1 = generate_fibonacci(5)\n",
    "print(V1)"
   ]
  },
  {
   "cell_type": "code",
   "execution_count": 12,
   "id": "8c99316e-ad7c-4fbb-afe5-f90fdc14167f",
   "metadata": {},
   "outputs": [],
   "source": [
    "#43. Remove duplicates from a list using sets."
   ]
  },
  {
   "cell_type": "code",
   "execution_count": 15,
   "id": "53844605-5091-4dca-9f7d-41112870c2b1",
   "metadata": {},
   "outputs": [
    {
     "name": "stdout",
     "output_type": "stream",
     "text": [
      "{1, 2, 3, 4}\n"
     ]
    }
   ],
   "source": [
    "list43 = [1,1,2,3,4,3]\n",
    "\n",
    "new_set = set(list43)\n",
    "\n",
    "print(new_set)"
   ]
  },
  {
   "cell_type": "code",
   "execution_count": 16,
   "id": "1d5d1b5c-68ae-4ff6-b12b-c449ab690776",
   "metadata": {},
   "outputs": [],
   "source": [
    "#44. Check if two sets have the same elements, regardless of their count."
   ]
  },
  {
   "cell_type": "code",
   "execution_count": 23,
   "id": "8779dcaa-9ace-47fc-859f-0ac80416257b",
   "metadata": {},
   "outputs": [
    {
     "name": "stdout",
     "output_type": "stream",
     "text": [
      "Both list have the same elements\n"
     ]
    }
   ],
   "source": [
    "list_202 = {1,1,2,3,4,5,6,6,7,2}\n",
    "list_302 = {2,3,4,5,1,3,6,7,1,1,1,1,1,1,1,3,3,3,3,4,4,4,4}\n",
    "\n",
    "if list_202 == list_302:\n",
    "    print('Both list have the same elements')\n",
    "else:\n",
    "    print('There is no same elements in both list')\n"
   ]
  },
  {
   "cell_type": "code",
   "execution_count": 24,
   "id": "ef12c764-a51e-4ced-9fc3-55c1a301d3e1",
   "metadata": {},
   "outputs": [],
   "source": [
    "#45. Create a set of the first `n` powers of 2."
   ]
  },
  {
   "cell_type": "code",
   "execution_count": 34,
   "id": "e4c17509-3a09-45bc-91c5-0d95518f7387",
   "metadata": {},
   "outputs": [
    {
     "name": "stdin",
     "output_type": "stream",
     "text": [
      "Please enter 1st n number 5\n"
     ]
    },
    {
     "name": "stdout",
     "output_type": "stream",
     "text": [
      "{8, 2, 4, 6}\n"
     ]
    }
   ],
   "source": [
    "N = int(input('Please enter 1st n number'))\n",
    "\n",
    "new_set = { i * 2 for i in range(1,5)}\n",
    "\n",
    "print(new_set)"
   ]
  },
  {
   "cell_type": "code",
   "execution_count": 35,
   "id": "f856e147-ce04-4cf7-bea3-4bc700dad634",
   "metadata": {},
   "outputs": [],
   "source": [
    "#46. Find the common elements between a set and a list."
   ]
  },
  {
   "cell_type": "code",
   "execution_count": 3,
   "id": "b17a20a3-fa86-49b4-9ffa-cdeef80a2b57",
   "metadata": {},
   "outputs": [
    {
     "name": "stdout",
     "output_type": "stream",
     "text": [
      "{1, 2, 3, 4, 5, 6}\n"
     ]
    }
   ],
   "source": [
    "my_set = [1,2,3,4]\n",
    "my_list = {1,2,3,4,5,6}\n",
    "\n",
    "CE = {i for i in my_list if i in my_list}\n",
    "\n",
    "print(CE)"
   ]
  },
  {
   "cell_type": "code",
   "execution_count": 4,
   "id": "75108656-8b04-4067-bdef-02a594824dbe",
   "metadata": {},
   "outputs": [],
   "source": [
    "#47. Create a set of the first `n` triangular numbers."
   ]
  },
  {
   "cell_type": "code",
   "execution_count": 6,
   "id": "4ef6a7d3-8258-449f-b7bb-234f942c9bb1",
   "metadata": {},
   "outputs": [
    {
     "name": "stdout",
     "output_type": "stream",
     "text": [
      "{1, 3, 6, 10, 15}\n"
     ]
    }
   ],
   "source": [
    "def generate_triangular_numbers(n):\n",
    "    triangular_set = set()\n",
    "    sum = 0\n",
    "    for i in range(1, n + 1):\n",
    "        sum += i\n",
    "        triangular_set.add(sum)\n",
    "    return triangular_set\n",
    "\n",
    "# Generate the first n triangular numbers and create a set\n",
    "n = 5  \n",
    "\n",
    "first_n_triangular = generate_triangular_numbers(n)\n",
    "\n",
    "\n",
    "print(first_n_triangular)\n"
   ]
  },
  {
   "cell_type": "code",
   "execution_count": 7,
   "id": "72be4a4d-4343-443e-bb94-cfc4ad330cd1",
   "metadata": {},
   "outputs": [],
   "source": [
    "#48. Check if a set contains another set as a subset."
   ]
  },
  {
   "cell_type": "code",
   "execution_count": 37,
   "id": "2df7458a-091a-40ce-bd88-cf1ed49b1f8a",
   "metadata": {},
   "outputs": [
    {
     "name": "stdout",
     "output_type": "stream",
     "text": [
      "set2 is the subset of set1\n"
     ]
    }
   ],
   "source": [
    "set1 = {1,2,3}\n",
    "set2 = {2,3}\n",
    "\n",
    "if set2.issubset(set1):\n",
    "    print('set2 is the subset of set1')\n",
    "else:\n",
    "    print('set2 is not the subset of set1')"
   ]
  },
  {
   "cell_type": "code",
   "execution_count": 15,
   "id": "b1a26458-ce31-43eb-93e2-b59ad7bb438f",
   "metadata": {},
   "outputs": [],
   "source": [
    "#49. Create a set of alternating 1s and 0s of length `n`."
   ]
  },
  {
   "cell_type": "code",
   "execution_count": 46,
   "id": "b103905f-6589-4e75-8032-6c396a39956e",
   "metadata": {},
   "outputs": [
    {
     "name": "stdout",
     "output_type": "stream",
     "text": [
      "{0, 1}\n"
     ]
    }
   ],
   "source": [
    "def alt(n):\n",
    "    new_set = set()\n",
    "    for i in range(n):\n",
    "        new_set.add(i % 2)\n",
    "    return new_set\n",
    "n = 5\n",
    "\n",
    "f_set = alt(n)\n",
    "print(f_set)"
   ]
  },
  {
   "cell_type": "code",
   "execution_count": 47,
   "id": "e9d25721-909f-4945-8d28-7dcdeb6865e5",
   "metadata": {},
   "outputs": [],
   "source": [
    "#50. Merge multiple sets into one."
   ]
  },
  {
   "cell_type": "code",
   "execution_count": 58,
   "id": "808b457d-137b-49d9-9ef6-06c78c0f7485",
   "metadata": {},
   "outputs": [
    {
     "name": "stdout",
     "output_type": "stream",
     "text": [
      "{0, 1, 2, 3, 66, 5, 6, 8, 9, 77}\n"
     ]
    }
   ],
   "source": [
    "set_A = {1,2,3}\n",
    "set_B = {5,6,8,9}\n",
    "set_C = {0,66,77,9}\n",
    "\n",
    "Merge_set = set_A | set_B | set_C\n",
    "\n",
    "print(Merge_set)"
   ]
  },
  {
   "cell_type": "code",
   "execution_count": 60,
   "id": "5d309589-91e6-4378-9dca-0ff010222581",
   "metadata": {},
   "outputs": [
    {
     "name": "stdout",
     "output_type": "stream",
     "text": [
      "{0, 1, 2, 3, 66, 5, 6, 8, 9, 77}\n"
     ]
    }
   ],
   "source": [
    "#2nd way\n",
    "m_set = set_A.union(set_B,set_C)\n",
    "\n",
    "print(m_set)"
   ]
  }
 ],
 "metadata": {
  "kernelspec": {
   "display_name": "Python 3 (ipykernel)",
   "language": "python",
   "name": "python3"
  },
  "language_info": {
   "codemirror_mode": {
    "name": "ipython",
    "version": 3
   },
   "file_extension": ".py",
   "mimetype": "text/x-python",
   "name": "python",
   "nbconvert_exporter": "python",
   "pygments_lexer": "ipython3",
   "version": "3.10.8"
  }
 },
 "nbformat": 4,
 "nbformat_minor": 5
}
