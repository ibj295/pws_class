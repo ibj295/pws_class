{
 "cells": [
  {
   "cell_type": "code",
   "execution_count": 40,
   "id": "7824f3ee-1f42-45af-846c-ebcdf86de748",
   "metadata": {},
   "outputs": [],
   "source": [
    "#1. Write a Python program to check if a given number is positive or negative."
   ]
  },
  {
   "cell_type": "code",
   "execution_count": 41,
   "id": "1f0913d9-db29-49d9-b790-db75bae24923",
   "metadata": {},
   "outputs": [
    {
     "name": "stdin",
     "output_type": "stream",
     "text": [
      "Please enter a number 34\n"
     ]
    },
    {
     "name": "stdout",
     "output_type": "stream",
     "text": [
      "This is positive number\n"
     ]
    }
   ],
   "source": [
    "PPN = int(input(\"Please enter a number\"))\n",
    "\n",
    "if PPN >= 0:\n",
    "    \n",
    "    print(\"This is positive number\")\n",
    "\n",
    "else:\n",
    "    \n",
    "    print(\"This is negative number\")"
   ]
  },
  {
   "cell_type": "code",
   "execution_count": 42,
   "id": "7c2edf54-e1d1-42c3-898d-7cc34bcb88b3",
   "metadata": {},
   "outputs": [],
   "source": [
    "#2. Create a program that determines if a person is eligible to vote based on their age."
   ]
  },
  {
   "cell_type": "code",
   "execution_count": 43,
   "id": "b39a8ecf-e018-4c20-beee-f4dba8381a00",
   "metadata": {},
   "outputs": [
    {
     "name": "stdin",
     "output_type": "stream",
     "text": [
      "Please enter your age 33\n",
      "Do you have voter id , Yes/No ?  yes\n"
     ]
    },
    {
     "name": "stdout",
     "output_type": "stream",
     "text": [
      "Yes, you can vote\n"
     ]
    }
   ],
   "source": [
    "PEA = int(input('Please enter your age'))\n",
    "\n",
    "Voter_id = input(\"Do you have voter id , Yes/No ? \")\n",
    "\n",
    "if PEA >= 18 and Voter_id.lower() == \"yes\":\n",
    "    print('Yes, you can vote')\n",
    "else:\n",
    "    print('You are not elegible')\n",
    "    "
   ]
  },
  {
   "cell_type": "code",
   "execution_count": 44,
   "id": "9bcdb774-10a0-43df-9eff-e19c3254c636",
   "metadata": {},
   "outputs": [],
   "source": [
    "#3. Develop a program to find the maximum of two numbers using if-else statements."
   ]
  },
  {
   "cell_type": "code",
   "execution_count": 45,
   "id": "7b675795-145a-425b-b9d3-0f86e738d207",
   "metadata": {},
   "outputs": [
    {
     "name": "stdin",
     "output_type": "stream",
     "text": [
      "Please enter 1st number 12\n",
      "please enter 2nd number 1\n"
     ]
    },
    {
     "name": "stdout",
     "output_type": "stream",
     "text": [
      "The maximum number is : 12.0\n"
     ]
    }
   ],
   "source": [
    "def find_max(n1,n2):\n",
    "    if n1>n2:\n",
    "        return n1\n",
    "    else:\n",
    "        return n2\n",
    "n1 = float(input('Please enter 1st number'))\n",
    "n2 = float(input('please enter 2nd number'))\n",
    "\n",
    "result = find_max(n1,n2)\n",
    "print(f'The maximum number is :',result)"
   ]
  },
  {
   "cell_type": "code",
   "execution_count": 46,
   "id": "7e8db0d9-e8a1-49d0-9a32-7a4fea1e7646",
   "metadata": {},
   "outputs": [],
   "source": [
    "#4. Write a Python script to classify a given year as a leap year or not."
   ]
  },
  {
   "cell_type": "code",
   "execution_count": 47,
   "id": "2f90b67c-8091-4462-aa42-e47b2bf31701",
   "metadata": {},
   "outputs": [
    {
     "name": "stdin",
     "output_type": "stream",
     "text": [
      "Please provide the year :  2024\n"
     ]
    },
    {
     "name": "stdout",
     "output_type": "stream",
     "text": [
      "2024:  is leap year\n"
     ]
    }
   ],
   "source": [
    "def check_leap_year(y):\n",
    "    \n",
    "    if (y % 4 == 0 and y % 100 != 0 ) or( y % 400 == 0):\n",
    "        \n",
    "        return ' is leap year'\n",
    "    else:\n",
    "        return ' is not a leap year'\n",
    "#user input    \n",
    "y = int(input('Please provide the year : '))\n",
    "\n",
    "result = check_leap_year(y)\n",
    "\n",
    "print(f'{y}:',result)"
   ]
  },
  {
   "cell_type": "code",
   "execution_count": 48,
   "id": "d83a1895-4b3f-4b30-bfeb-f649f1beb09f",
   "metadata": {},
   "outputs": [],
   "source": [
    "#5. Create a program that checks whether a character is a vowel or a consonant."
   ]
  },
  {
   "cell_type": "code",
   "execution_count": 49,
   "id": "148b5149-4385-4226-9b1e-8a2c38e41f32",
   "metadata": {},
   "outputs": [
    {
     "name": "stdin",
     "output_type": "stream",
     "text": [
      "please enter valid single character :  q\n"
     ]
    },
    {
     "name": "stdout",
     "output_type": "stream",
     "text": [
      "q is the consonant\n"
     ]
    }
   ],
   "source": [
    "def check_char(n):\n",
    "    \n",
    "    v = 'aeiou'\n",
    "    \n",
    "    if n.lower() in v:\n",
    "        return 'is the vowles'\n",
    "    else:\n",
    "        return 'is the consonant'\n",
    "    \n",
    "n = input('please enter valid single character : ')\n",
    "\n",
    "result = check_char(n)\n",
    "\n",
    "print(n,result)"
   ]
  },
  {
   "cell_type": "code",
   "execution_count": 50,
   "id": "c45eaa46-5769-40aa-886c-b25ebe0574ab",
   "metadata": {},
   "outputs": [],
   "source": [
    "#6. Implement a program to determine whether a given number is even or odd."
   ]
  },
  {
   "cell_type": "code",
   "execution_count": 54,
   "id": "4da9981c-8173-4c4a-abb7-d815f4c69bac",
   "metadata": {},
   "outputs": [
    {
     "name": "stdin",
     "output_type": "stream",
     "text": [
      "please enter a number 13\n"
     ]
    },
    {
     "name": "stdout",
     "output_type": "stream",
     "text": [
      "13 is the odd number\n"
     ]
    }
   ],
   "source": [
    "def even_odd(n):\n",
    "    \n",
    "    if n % 2 == 0:\n",
    "        return f'{n} is the even number'\n",
    "    else:\n",
    "        return f'{n} is the odd number'\n",
    "\n",
    " # user input   \n",
    "n = int(input('please enter a number'))\n",
    "\n",
    "result = even_odd(n)\n",
    "\n",
    "print(result)"
   ]
  },
  {
   "cell_type": "code",
   "execution_count": 55,
   "id": "ef0f756e-b06e-4561-8c91-233a6c85630a",
   "metadata": {},
   "outputs": [],
   "source": [
    "#7. Write a Python function to calculate the absolute value of a number without using the `abs()` function."
   ]
  },
  {
   "cell_type": "code",
   "execution_count": 58,
   "id": "7e469374-1008-4ced-b5a9-1678955d4a27",
   "metadata": {},
   "outputs": [
    {
     "name": "stdin",
     "output_type": "stream",
     "text": [
      "Enter a number:  11223\n"
     ]
    },
    {
     "name": "stdout",
     "output_type": "stream",
     "text": [
      "The absolute value of 11223.0 is: 11223.0\n"
     ]
    }
   ],
   "source": [
    "def absolute_value(number):\n",
    "    if number < 0:\n",
    "        return -number\n",
    "    else:\n",
    "        return number\n",
    "\n",
    "# input\n",
    "num = float(input(\"Enter a number: \"))\n",
    "result = absolute_value(num)\n",
    "print(f\"The absolute value of {num} is: {result}\")"
   ]
  },
  {
   "cell_type": "code",
   "execution_count": 59,
   "id": "22e9acfe-9b80-4940-b5b4-c6d419a58b93",
   "metadata": {},
   "outputs": [],
   "source": [
    "#8. Develop a program that determines the largest of three given numbers using if-else statements."
   ]
  },
  {
   "cell_type": "code",
   "execution_count": 63,
   "id": "1239a965-3763-453a-b6c2-1f17fdb8c384",
   "metadata": {},
   "outputs": [
    {
     "name": "stdin",
     "output_type": "stream",
     "text": [
      "please enter 1st number 32\n",
      "please enter 2nd number 435\n",
      "please enter 3rd number 54\n"
     ]
    },
    {
     "name": "stdout",
     "output_type": "stream",
     "text": [
      "The largest number is : 435.0\n"
     ]
    }
   ],
   "source": [
    "def find_largest_num(n1,n2,n3):\n",
    "    \n",
    "    if n1 >= n2 and num1>= n3:\n",
    "        return n1\n",
    "    elif n2>= n1 and n2 >= n3:\n",
    "        return n2\n",
    "    else:\n",
    "        return n3\n",
    "\n",
    "n1 = float(input('please enter 1st number'))\n",
    "n2 = float(input('please enter 2nd number'))\n",
    "n3 = float(input('please enter 3rd number'))\n",
    "\n",
    "result = find_largest_num(n1,n2,n3)\n",
    "print('The largest number is :',result)"
   ]
  },
  {
   "cell_type": "code",
   "execution_count": 64,
   "id": "4d6945c1-f713-4447-98f1-f137e217562b",
   "metadata": {},
   "outputs": [],
   "source": [
    "#9. Create a program that checks if a given string is a palindrome."
   ]
  },
  {
   "cell_type": "code",
   "execution_count": 68,
   "id": "15c6ce21-3920-497b-8414-64cf95bf4610",
   "metadata": {},
   "outputs": [
    {
     "name": "stdin",
     "output_type": "stream",
     "text": [
      "Please enter a string : radar\n"
     ]
    },
    {
     "name": "stdout",
     "output_type": "stream",
     "text": [
      "radar is the palindrome string\n"
     ]
    }
   ],
   "source": [
    "def palindrome(string):\n",
    "    \n",
    "    if string.lower() == string.lower()[::-1]:\n",
    "        return f'{string} is the palindrome string'\n",
    "    else:\n",
    "        return f'{string} is not a palindrome string'\n",
    "string = input('Please enter a string :')\n",
    "            \n",
    "result = palindrome(string)\n",
    "\n",
    "print(result)"
   ]
  },
  {
   "cell_type": "code",
   "execution_count": null,
   "id": "91bbed0f-f0b7-42f4-8553-734fd6800348",
   "metadata": {},
   "outputs": [],
   "source": [
    "#10. Write a Python program to calculate the grade based on a student's score."
   ]
  },
  {
   "cell_type": "code",
   "execution_count": 78,
   "id": "75ff7770-6656-45dc-972d-328e61b8dcbf",
   "metadata": {},
   "outputs": [
    {
     "name": "stdin",
     "output_type": "stream",
     "text": [
      "Please enter score 90\n"
     ]
    },
    {
     "name": "stdout",
     "output_type": "stream",
     "text": [
      "For 90.0 score Your grade is : A\n"
     ]
    }
   ],
   "source": [
    "def calculate_grade(marks):\n",
    "    if marks >=90:\n",
    "        return 'A'\n",
    "    elif marks >= 70:\n",
    "        return 'B'\n",
    "    elif marks >= 50:\n",
    "        return 'c'\n",
    "    else:\n",
    "        return 'D'\n",
    "marks = float(input('Please enter score'))\n",
    "\n",
    "result = calculate_grade(marks)\n",
    "\n",
    "print(f'For {marks} score Your grade is :',result)"
   ]
  },
  {
   "cell_type": "code",
   "execution_count": null,
   "id": "33f577de-e0bf-4795-b77d-6d60fbbb344a",
   "metadata": {},
   "outputs": [],
   "source": [
    "#11. Write a program to find the largest among three numbers using nested if-else statements."
   ]
  },
  {
   "cell_type": "code",
   "execution_count": 3,
   "id": "cc9e7bfc-da2f-436a-b0cb-d9569d89bbd2",
   "metadata": {},
   "outputs": [
    {
     "name": "stdin",
     "output_type": "stream",
     "text": [
      "Please n1 :  33\n",
      "Please n2 :  54456\n",
      "Please n3 :  64646\n"
     ]
    },
    {
     "name": "stdout",
     "output_type": "stream",
     "text": [
      "The largest number among the three number is :  64646\n"
     ]
    }
   ],
   "source": [
    "def large_num(n1,n2,n3):\n",
    "    if n1>= n2:\n",
    "        if n1>= n3:\n",
    "            return n1\n",
    "        else:\n",
    "            return n3\n",
    "    else:\n",
    "        \n",
    "        if n2>= n3:\n",
    "            \n",
    "            return n2\n",
    "        else:\n",
    "            return n3\n",
    "        \n",
    "n1 = int(input('Please n1 : '))\n",
    "n2 = int(input('Please n2 : '))\n",
    "n3 = int(input('Please n3 : '))\n",
    "\n",
    "result = large_num(n1,n2,n3)\n",
    "\n",
    "print(f'The largest number among the three number is : ',result)\n",
    "            "
   ]
  },
  {
   "cell_type": "code",
   "execution_count": null,
   "id": "3acabdb0-3841-4e3c-917d-d113231eb64c",
   "metadata": {},
   "outputs": [],
   "source": [
    "#12. Implement a program to determine if a triangle is equilateral, isosceles, or scalene."
   ]
  },
  {
   "cell_type": "code",
   "execution_count": 1,
   "id": "81365b68-8753-4016-9d4e-d436cb7d321f",
   "metadata": {},
   "outputs": [
    {
     "name": "stdin",
     "output_type": "stream",
     "text": [
      "Enter the length of the first side:  44\n",
      "Enter the length of the second side:  55\n",
      "Enter the length of the third side:  67\n"
     ]
    },
    {
     "name": "stdout",
     "output_type": "stream",
     "text": [
      "Scalene\n"
     ]
    }
   ],
   "source": [
    "def tri_type(s1,s2,s3):\n",
    "    \n",
    "    if s1 == s2 and s2 == s3:\n",
    "        \n",
    "        return 'Equilateral'\n",
    "    \n",
    "    elif s1 == s2 or s1 == s3 or s2 == s3:\n",
    "        \n",
    "        return 'Isosceles'\n",
    "    \n",
    "    else:\n",
    "        \n",
    "        return 'Scalene'\n",
    "    \n",
    "s1 = float(input(\"Enter the length of the first side: \"))\n",
    "\n",
    "s2 = float(input(\"Enter the length of the second side: \"))\n",
    "\n",
    "s3 = float(input(\"Enter the length of the third side: \"))\n",
    "\n",
    "result = tri_type(s1,s2,s3)\n",
    "\n",
    "print(result)        "
   ]
  },
  {
   "cell_type": "code",
   "execution_count": null,
   "id": "308787ed-19be-4e56-a3ba-fb65e6df164f",
   "metadata": {},
   "outputs": [],
   "source": [
    "#13. Develop a program that checks if a year is a leap year and also if it is a century year."
   ]
  },
  {
   "cell_type": "code",
   "execution_count": 7,
   "id": "f444608f-0544-4d9c-81f1-f769bb70afe9",
   "metadata": {},
   "outputs": [
    {
     "name": "stdin",
     "output_type": "stream",
     "text": [
      "Please enter a year  22\n"
     ]
    },
    {
     "name": "stdout",
     "output_type": "stream",
     "text": [
      "Invalid Year\n",
      "22 is neither a leap year nor a century year.\n"
     ]
    }
   ],
   "source": [
    "# function to check leap year\n",
    "def leap_year(year):\n",
    "    \n",
    "    if len(str(year)) < 4 :\n",
    "        \n",
    "        print('Invalid Year')\n",
    "    \n",
    "    elif (year % 2 == 0 and year % 100 != 0) or (year % 400 == 0):\n",
    "        \n",
    "        return True\n",
    "    \n",
    "    else:\n",
    "        \n",
    "        return False\n",
    "    \n",
    "def century_year(year):\n",
    "    if year % 100 == 0 :\n",
    "        return True\n",
    "    \n",
    "    else:\n",
    "        \n",
    "        return False\n",
    "    \n",
    "#user input\n",
    "\n",
    "year = int(input('Please enter a year '))\n",
    "\n",
    "#check year is the leap and century\n",
    "leap_year = leap_year(year)\n",
    "century_year = century_year(year)\n",
    "\n",
    "# Printing the result\n",
    "if leap_year and century_year:\n",
    "    print(\"{} is a leap year and a century year.\".format(year))\n",
    "elif leap_year:\n",
    "    print(\"{} is a leap year but not a century year.\".format(year))\n",
    "elif century_year:\n",
    "    print(\"{} is not a leap year but is a century year.\".format(year))\n",
    "else:\n",
    "    print(\"{} is neither a leap year nor a century year.\".format(year))"
   ]
  },
  {
   "cell_type": "code",
   "execution_count": 8,
   "id": "e42798ea-fc24-4d1d-b1df-63536ac4a3c1",
   "metadata": {},
   "outputs": [],
   "source": [
    "#14. Write a Python script to determine if a number is positive, negative, or zero."
   ]
  },
  {
   "cell_type": "code",
   "execution_count": 9,
   "id": "a4f86e05-5e6a-46b6-a838-bf4e7d85e025",
   "metadata": {},
   "outputs": [
    {
     "name": "stdin",
     "output_type": "stream",
     "text": [
      "Please enter a number 22\n"
     ]
    },
    {
     "name": "stdout",
     "output_type": "stream",
     "text": [
      "22.0 This is Positive Number\n"
     ]
    }
   ],
   "source": [
    "def check_num(n):\n",
    "    \n",
    "    if n > 0:\n",
    "        return 'This is Positive Number'\n",
    "    elif n < 0:\n",
    "        return 'This is Negative Number'\n",
    "    else:\n",
    "        return 'This is Zero'\n",
    "    \n",
    "n = float(input('Please enter a number'))\n",
    "\n",
    "result = check_num(n)\n",
    "\n",
    "print(\"{}\".format(n),result)\n",
    "    "
   ]
  },
  {
   "cell_type": "code",
   "execution_count": 10,
   "id": "95b2d6d7-c2ca-4918-8256-11451421e2ec",
   "metadata": {},
   "outputs": [],
   "source": [
    "#15. Create a program to check if a person is a teenager (between 13 and 19 years old)."
   ]
  },
  {
   "cell_type": "code",
   "execution_count": 12,
   "id": "80d1d4b5-9aab-4170-a4ab-b4edd00350db",
   "metadata": {},
   "outputs": [
    {
     "name": "stdin",
     "output_type": "stream",
     "text": [
      "Please enter age :  33\n"
     ]
    },
    {
     "name": "stdout",
     "output_type": "stream",
     "text": [
      "person is not a teenager\n"
     ]
    }
   ],
   "source": [
    "def teenager(age):\n",
    "    \n",
    "    if age>=13 and age <=19:\n",
    "        return 'person is a teenager'\n",
    "    else:\n",
    "        return 'person is not a teenager'\n",
    "    \n",
    "#Driver code\n",
    "age = int(input('Please enter age : '))\n",
    "result = teenager(age)\n",
    "print(result)"
   ]
  },
  {
   "cell_type": "code",
   "execution_count": 13,
   "id": "f6a8ba96-dbc1-419a-9777-5b6d748dc273",
   "metadata": {},
   "outputs": [],
   "source": [
    "#16. Develop a program that determines the type of angle based on its measure (acute, obtuse, or right)."
   ]
  },
  {
   "cell_type": "code",
   "execution_count": 14,
   "id": "ad343db0-8b50-4e5a-9fa8-085e7e0bb70f",
   "metadata": {},
   "outputs": [
    {
     "name": "stdin",
     "output_type": "stream",
     "text": [
      "Enter the measure of the angle:  33\n"
     ]
    },
    {
     "name": "stdout",
     "output_type": "stream",
     "text": [
      "The angle with a measure of 33.0 degrees is a: Acute Angle\n"
     ]
    }
   ],
   "source": [
    "def angle_type(measure):\n",
    "    if measure < 90:\n",
    "        return \"Acute Angle\"\n",
    "    elif measure == 90:\n",
    "        return \"Right Angle\"\n",
    "    elif measure < 180:\n",
    "        return \"Obtuse Angle\"\n",
    "    else:\n",
    "        return \"Invalid Angle\"\n",
    "\n",
    "# Driver code\n",
    "#user input\n",
    "angle_measure = float(input(\"Enter the measure of the angle: \"))\n",
    "\n",
    "# Checking the type of angle and printing the result\n",
    "angle_result = angle_type(angle_measure)\n",
    "print(\"The angle with a measure of {} degrees is a: {}\".format(angle_measure, angle_result))"
   ]
  },
  {
   "cell_type": "code",
   "execution_count": 15,
   "id": "43693b45-1163-492d-a44b-86da2d716c9a",
   "metadata": {},
   "outputs": [],
   "source": [
    "#17. Write a Python program to calculate the roots of a quadratic equation."
   ]
  },
  {
   "cell_type": "code",
   "execution_count": 17,
   "id": "73e2e51a-2d0e-4d55-9568-28a2e1b2703f",
   "metadata": {},
   "outputs": [
    {
     "name": "stdin",
     "output_type": "stream",
     "text": [
      "Enter the coefficient a:  44\n",
      "Enter the coefficient b:  67\n",
      "Enter the coefficient c:  99\n"
     ]
    },
    {
     "name": "stdout",
     "output_type": "stream",
     "text": [
      "The roots of the quadratic equation are: ((-0.7613636363636364+1.2924106983552637j), (-0.7613636363636364-1.2924106983552637j))\n"
     ]
    }
   ],
   "source": [
    "import math\n",
    "\n",
    "# Function to calculate the roots of a quadratic equation\n",
    "def quadratic_roots(a, b, c):\n",
    "    # Calculate the discriminant\n",
    "    discriminant = b**2 - 4*a*c\n",
    "    \n",
    "    # Check if the discriminant is non-negative\n",
    "    if discriminant >= 0:\n",
    "        # Calculate the two roots\n",
    "        root1 = (-b + math.sqrt(discriminant)) / (2*a)\n",
    "        root2 = (-b - math.sqrt(discriminant)) / (2*a)\n",
    "        return root1, root2\n",
    "    else:\n",
    "        # If the discriminant is negative, roots are complex numbers\n",
    "        real_part = -b / (2*a)\n",
    "        imaginary_part = math.sqrt(abs(discriminant)) / (2*a)\n",
    "        root1 = complex(real_part, imaginary_part)\n",
    "        root2 = complex(real_part, -imaginary_part)\n",
    "        return root1, root2\n",
    "\n",
    "# Taking user input for coefficients\n",
    "a = float(input(\"Enter the coefficient a: \"))\n",
    "b = float(input(\"Enter the coefficient b: \"))\n",
    "c = float(input(\"Enter the coefficient c: \"))\n",
    "\n",
    "# Calculating and printing the roots\n",
    "roots = quadratic_roots(a, b, c)\n",
    "print(\"The roots of the quadratic equation are:\", roots)\n"
   ]
  },
  {
   "cell_type": "code",
   "execution_count": 18,
   "id": "7adf4364-49ee-4db9-a149-e9f02ac928a5",
   "metadata": {},
   "outputs": [],
   "source": [
    "#18. Implement a program to determine the day of the week based on a user-provided number (1 for Monday, 2 \n",
    "#for Tuesday, etc.)."
   ]
  },
  {
   "cell_type": "code",
   "execution_count": 19,
   "id": "7c6dbb87-629a-4fe4-be6a-33e0f75fa84f",
   "metadata": {},
   "outputs": [
    {
     "name": "stdin",
     "output_type": "stream",
     "text": [
      "Enter a number between 1 to 7 3\n"
     ]
    },
    {
     "name": "stdout",
     "output_type": "stream",
     "text": [
      "Wednesday\n"
     ]
    }
   ],
   "source": [
    "def dayofweek(n):\n",
    "    \n",
    "    day = ['Monday','Tuesday','Wednesday','Thursday','Friday','Saturday','Sunday']\n",
    "    \n",
    "    if 1<= n <= 7:\n",
    "        return day[n - 1]\n",
    "    else:\n",
    "        return 'Please enter a number between 1 and 7.'\n",
    "    \n",
    "day_number = int(input('Enter a number between 1 to 7'))\n",
    "\n",
    "result = dayofweek(day_number)\n",
    "\n",
    "print(result)\n",
    "    \n",
    "    "
   ]
  },
  {
   "cell_type": "code",
   "execution_count": 21,
   "id": "7e2687f6-1abf-4a73-ac6d-bd13f91c514d",
   "metadata": {},
   "outputs": [],
   "source": [
    "#19. Create a program that determines if a year is a leap year and also if it is evenly divisible by 400."
   ]
  },
  {
   "cell_type": "code",
   "execution_count": 2,
   "id": "3002341f-f60d-4607-b247-00c6383ee828",
   "metadata": {},
   "outputs": [
    {
     "name": "stdin",
     "output_type": "stream",
     "text": [
      "Please enter a year  2023\n"
     ]
    },
    {
     "name": "stdout",
     "output_type": "stream",
     "text": [
      "2023 is neither a leap year nor a divisible by 400.\n"
     ]
    }
   ],
   "source": [
    "# function to check leap year\n",
    "def leap_year(year):\n",
    "    \n",
    "    if len(str(year)) < 4 :\n",
    "        \n",
    "        print('Invalid Year')\n",
    "    \n",
    "    elif (year % 2 == 0 and year % 100 != 0) or (year % 400 == 0):\n",
    "        \n",
    "        return True\n",
    "    \n",
    "    else:\n",
    "        \n",
    "        return False\n",
    "    \n",
    "def century_year(year):\n",
    "    if year % 400 == 0 :\n",
    "        return True\n",
    "    \n",
    "    else:\n",
    "        \n",
    "        return False\n",
    "    \n",
    "#user input\n",
    "\n",
    "year = int(input('Please enter a year '))\n",
    "\n",
    "#check year is the leap and century\n",
    "leap_year = leap_year(year)\n",
    "century_year = century_year(year)\n",
    "\n",
    "# Printing the result\n",
    "if leap_year and century_year:\n",
    "    print(\"{} is a leap year and a century year.\".format(year))\n",
    "elif leap_year:\n",
    "    print(\"{} is a leap year but not a divisible by 400.\".format(year))\n",
    "elif century_year:\n",
    "    print(\"{} is not a leap year but is a divisible by 400.\".format(year))\n",
    "else:\n",
    "    print(\"{} is neither a leap year nor a divisible by 400.\".format(year))"
   ]
  },
  {
   "cell_type": "code",
   "execution_count": 1,
   "id": "c851d0ba-ba83-4c8e-8a97-691451d42a72",
   "metadata": {},
   "outputs": [],
   "source": [
    "#20. Develop a program that checks if a given number is prime or not using nested if-else statements."
   ]
  },
  {
   "cell_type": "code",
   "execution_count": 5,
   "id": "466ec6a0-d40f-4b6b-895c-6537e6875c25",
   "metadata": {},
   "outputs": [
    {
     "name": "stdin",
     "output_type": "stream",
     "text": [
      "Please enter a number:  44\n"
     ]
    },
    {
     "name": "stdout",
     "output_type": "stream",
     "text": [
      "44 is not a prime number\n"
     ]
    }
   ],
   "source": [
    "def checkPrimeNumber(num):\n",
    "    \n",
    "    if num < 1 :\n",
    "        return False\n",
    "    \n",
    "    elif num <= 3 :\n",
    "        return True\n",
    "    \n",
    "    else:\n",
    "        \n",
    "        for i in range(2, int(num ** 0.5)+1):\n",
    "            if num % i == 0:\n",
    "                return False\n",
    "        return True\n",
    "num = int(input('Please enter a number: '))\n",
    "\n",
    "if checkPrimeNumber(num):\n",
    "    print(f'{num} is a prime number')\n",
    "else:\n",
    "    print(f'{num} is not a prime number')"
   ]
  },
  {
   "cell_type": "code",
   "execution_count": 6,
   "id": "b68cbce9-62e1-4502-9229-0fa5f3f22930",
   "metadata": {},
   "outputs": [],
   "source": [
    "#21. Write a Python program to assign grades based on different ranges of scores using elif statements."
   ]
  },
  {
   "cell_type": "code",
   "execution_count": 15,
   "id": "0abc08e7-0dd9-47f0-aa86-992186f3049e",
   "metadata": {},
   "outputs": [
    {
     "name": "stdin",
     "output_type": "stream",
     "text": [
      "Enter a score 88\n"
     ]
    },
    {
     "name": "stdout",
     "output_type": "stream",
     "text": [
      "The grade for Score 88.0 is B\n"
     ]
    }
   ],
   "source": [
    "def grade(score):\n",
    "    \n",
    "    if score >= 100 :\n",
    "        return 'A'\n",
    "    \n",
    "    elif score >= 80:\n",
    "        return 'B'\n",
    "    \n",
    "    elif score >= 60:\n",
    "        return 'C'\n",
    "    \n",
    "    else:\n",
    "        return 'D'\n",
    "    \n",
    "score = float(input('Enter a score'))\n",
    "\n",
    "result = grade(score)\n",
    "\n",
    "print(f'The grade for Score {score} is {result}')"
   ]
  },
  {
   "cell_type": "code",
   "execution_count": 16,
   "id": "6602c68e-0433-4cbc-a3bf-407fb9e709a9",
   "metadata": {},
   "outputs": [],
   "source": [
    "#22. Implement a program to determine the type of a triangle based on its angles."
   ]
  },
  {
   "cell_type": "code",
   "execution_count": 17,
   "id": "52deaf56-1f72-4405-b881-415f4002a787",
   "metadata": {},
   "outputs": [
    {
     "name": "stdin",
     "output_type": "stream",
     "text": [
      "Enter the first angle of the triangle:  33\n",
      "Enter the second angle of the triangle:  44\n",
      "Enter the third angle of the triangle:  55\n"
     ]
    },
    {
     "name": "stdout",
     "output_type": "stream",
     "text": [
      "The triangle with angles 33.0, 44.0, 55.0 is a Not a valid triangle\n"
     ]
    }
   ],
   "source": [
    "def triangle_type(angle1, angle2, angle3):\n",
    "    if angle1 + angle2 + angle3 == 180:\n",
    "        if angle1 < 90 and angle2 < 90 and angle3 < 90:\n",
    "            return \"Acute-angled triangle\"\n",
    "        elif angle1 == 90 or angle2 == 90 or angle3 == 90:\n",
    "            return \"Right-angled triangle\"\n",
    "        else:\n",
    "            return \"Obtuse-angled triangle\"\n",
    "    else:\n",
    "        return \"Not a valid triangle\"\n",
    "\n",
    "# Taking input for angles from the user\n",
    "angle1 = float(input(\"Enter the first angle of the triangle: \"))\n",
    "angle2 = float(input(\"Enter the second angle of the triangle: \"))\n",
    "angle3 = float(input(\"Enter the third angle of the triangle: \"))\n",
    "\n",
    "triangle = triangle_type(angle1, angle2, angle3)\n",
    "print(f\"The triangle with angles {angle1}, {angle2}, {angle3} is a {triangle}\")\n"
   ]
  },
  {
   "cell_type": "code",
   "execution_count": null,
   "id": "4698b72c-c867-46eb-a8ac-33f93f0d78cd",
   "metadata": {},
   "outputs": [],
   "source": [
    "#23. Develop a program to categorize a given person's BMI into underweight, normal, overweight, or obese using \n",
    "#elif statements."
   ]
  },
  {
   "cell_type": "code",
   "execution_count": 18,
   "id": "7a61d6aa-4c2d-4f82-836e-8ccf3ce3115e",
   "metadata": {},
   "outputs": [
    {
     "name": "stdin",
     "output_type": "stream",
     "text": [
      "Enter your weight in kilograms:  44\n",
      "Enter your height in meters:  23\n"
     ]
    },
    {
     "name": "stdout",
     "output_type": "stream",
     "text": [
      "Your BMI is 0.08, which falls into the category of Underweight.\n"
     ]
    }
   ],
   "source": [
    "def calculate_bmi(weight, height):\n",
    "    return weight / (height ** 2)\n",
    "\n",
    "def categorize_bmi(bmi):\n",
    "    if bmi < 18.5:\n",
    "        return \"Underweight\"\n",
    "    elif 18.5 <= bmi < 25:\n",
    "        return \"Normal weight\"\n",
    "    elif 25 <= bmi < 30:\n",
    "        return \"Overweight\"\n",
    "    else:\n",
    "        return \"Obese\"\n",
    "\n",
    "# Taking input for weight and height from the user\n",
    "weight = float(input(\"Enter your weight in kilograms: \"))\n",
    "height = float(input(\"Enter your height in meters: \"))\n",
    "\n",
    "# Calculating BMI\n",
    "bmi = calculate_bmi(weight, height)\n",
    "\n",
    "# Categorizing BMI\n",
    "category = categorize_bmi(bmi)\n",
    "\n",
    "print(f\"Your BMI is {bmi:.2f}, which falls into the category of {category}.\")\n"
   ]
  },
  {
   "cell_type": "code",
   "execution_count": 19,
   "id": "b44e6eb8-64b6-43e7-b115-623c56896c85",
   "metadata": {},
   "outputs": [],
   "source": [
    "#24. Create a program that determines whether a given number is positive, negative, or zero using elif \n",
    "#statements."
   ]
  },
  {
   "cell_type": "code",
   "execution_count": 21,
   "id": "5a54ad7c-777e-4b2e-a6b2-4cedccbe2ddd",
   "metadata": {},
   "outputs": [
    {
     "name": "stdin",
     "output_type": "stream",
     "text": [
      "Enter a number:  55\n"
     ]
    },
    {
     "name": "stdout",
     "output_type": "stream",
     "text": [
      "Positive\n"
     ]
    }
   ],
   "source": [
    "def check_num(number):\n",
    "    if number > 0 :\n",
    "        return 'Positive'\n",
    "    elif number < 0 :\n",
    "        return 'Negative'\n",
    "    else:\n",
    "        return 'Zero'\n",
    "\n",
    "num = float(input('Enter a number: '))\n",
    "\n",
    "result = check_num(num)\n",
    "\n",
    "print(result)"
   ]
  },
  {
   "cell_type": "code",
   "execution_count": 22,
   "id": "56fbf41d-2fec-4524-a4a7-b25dcfdf7979",
   "metadata": {},
   "outputs": [],
   "source": [
    "#25. Write a Python script to determine the type of a character (uppercase, lowercase, or special) using elif \n",
    "#statements."
   ]
  },
  {
   "cell_type": "code",
   "execution_count": 8,
   "id": "f5351de2-8355-438f-97ed-c5c7f7ae8ed5",
   "metadata": {},
   "outputs": [
    {
     "name": "stdin",
     "output_type": "stream",
     "text": [
      "Please enter a char @\n"
     ]
    },
    {
     "name": "stdout",
     "output_type": "stream",
     "text": [
      "@ is a special character.\n"
     ]
    }
   ],
   "source": [
    "def check_char_type(char):\n",
    "    \n",
    "    if char.isupper():\n",
    "        return f\"{char} is a upper case character.\"\n",
    "    \n",
    "    elif char.islower():\n",
    "        return f\"{char} is a lower case character.\"\n",
    "    \n",
    "    else:\n",
    "        return f\"{char} is a special character.\"\n",
    "    \n",
    "char = input(\"Please enter a char\")\n",
    "\n",
    "result = check_char_type(char)\n",
    "\n",
    "print(result)"
   ]
  },
  {
   "cell_type": "code",
   "execution_count": 9,
   "id": "3675f7ab-5ff4-4cff-a7d5-e9586fb99d1f",
   "metadata": {},
   "outputs": [],
   "source": [
    "#26. Implement a program to calculate the discounted price based on different purchase amounts using elif \n",
    "#statements"
   ]
  },
  {
   "cell_type": "code",
   "execution_count": 15,
   "id": "8bc0efbd-2464-4ebf-8d07-c5e7effbdc69",
   "metadata": {},
   "outputs": [
    {
     "name": "stdin",
     "output_type": "stream",
     "text": [
      "Please enter purchase amount: $ 502\n"
     ]
    },
    {
     "name": "stdout",
     "output_type": "stream",
     "text": [
      "The discounted price for $502.00 is: $0.30 so final price will be $501.7\n"
     ]
    }
   ],
   "source": [
    "def discount_price(price):\n",
    "    \n",
    "    if price >= 500 :\n",
    "        discount = 0.3\n",
    "    \n",
    "    elif price >= 300 :\n",
    "        discount = 0.2\n",
    "    \n",
    "    elif price >= 100 :\n",
    "        discount = 0.1\n",
    "        \n",
    "    else:\n",
    "        discount = 0\n",
    "        \n",
    "    dis_price = price - (price - discount)\n",
    "    return dis_price\n",
    "\n",
    "price = float(input(\"Please enter purchase amount: $\"))\n",
    "\n",
    "result = discount_price(price)\n",
    "\n",
    "print(f\"The discounted price for ${price:.2f} is: ${result:.2f} so final price will be ${price - result}\")"
   ]
  },
  {
   "cell_type": "code",
   "execution_count": 16,
   "id": "5479e460-b087-4cf7-ae63-45dec8971e28",
   "metadata": {},
   "outputs": [],
   "source": [
    "#27. Develop a program to calculate the electricity bill based on different consumption slabs using elif \n",
    "#statements."
   ]
  },
  {
   "cell_type": "code",
   "execution_count": 9,
   "id": "93ce0876-a5a5-4993-b5bc-ac64f1e5c481",
   "metadata": {},
   "outputs": [
    {
     "name": "stdin",
     "output_type": "stream",
     "text": [
      "Please enter your consumption unit :  23\n"
     ]
    },
    {
     "name": "stdout",
     "output_type": "stream",
     "text": [
      "The electricity bill is $ 221.72\n"
     ]
    }
   ],
   "source": [
    "def calculateBill(consumption):\n",
    "    \n",
    "    if consumption >= 20 :\n",
    "        rate =  9.64\n",
    "    \n",
    "    elif consumption >=  50:\n",
    "        rate  = 13.61\n",
    "    \n",
    "    else:\n",
    "        \n",
    "        rate =  4.41\n",
    "        \n",
    "    bill = consumption * rate\n",
    "    return bill\n",
    "        \n",
    "consumption = float(input(\"Please enter your consumption unit : \"))\n",
    "\n",
    "result = calculateBill(consumption)\n",
    "\n",
    "print(f'The electricity bill is ${result: .2f}')        "
   ]
  },
  {
   "cell_type": "code",
   "execution_count": 10,
   "id": "870c1464-0c29-435d-851a-0c6c0b87eab8",
   "metadata": {},
   "outputs": [],
   "source": [
    "#28. Create a program to determine the type of quadrilateral based on its angles and sides using elif \n",
    "#statements."
   ]
  },
  {
   "cell_type": "code",
   "execution_count": 11,
   "id": "2cf1c4e7-934f-4a03-875c-f47e0e672704",
   "metadata": {},
   "outputs": [
    {
     "name": "stdin",
     "output_type": "stream",
     "text": [
      "Enter the measure of angle A:  22\n",
      "Enter the measure of angle B:  33\n",
      "Enter the measure of angle C:  1\n",
      "Enter the measure of angle D:  34\n",
      "Enter the length of side 1:  66\n",
      "Enter the length of side 2:  66\n",
      "Enter the length of side 3:  88\n",
      "Enter the length of side 4:  33\n"
     ]
    },
    {
     "name": "stdout",
     "output_type": "stream",
     "text": [
      "It's a general quadrilateral\n"
     ]
    }
   ],
   "source": [
    "def type_of_quadrilateral(a, b, c, d):\n",
    "    if a == b == c == d:\n",
    "        print(\"It's a square\")\n",
    "    elif (a == c) and (b == d):\n",
    "        print(\"It's a rectangle\")\n",
    "    elif (a == b != c == d) or (a == c != b == d) or (a == d != b == c):\n",
    "        print(\"It's a parallelogram\")\n",
    "    elif a == b == c != d or a == c == d != b or a == b == d != c or b == c == d != a:\n",
    "        print(\"It's a rhombus\")\n",
    "    else:\n",
    "        print(\"It's a general quadrilateral\")\n",
    "\n",
    "# Taking input of angles\n",
    "angle_a = int(input(\"Enter the measure of angle A: \"))\n",
    "angle_b = int(input(\"Enter the measure of angle B: \"))\n",
    "angle_c = int(input(\"Enter the measure of angle C: \"))\n",
    "angle_d = int(input(\"Enter the measure of angle D: \"))\n",
    "\n",
    "# Taking input of sides\n",
    "side_1 = float(input(\"Enter the length of side 1: \"))\n",
    "side_2 = float(input(\"Enter the length of side 2: \"))\n",
    "side_3 = float(input(\"Enter the length of side 3: \"))\n",
    "side_4 = float(input(\"Enter the length of side 4: \"))\n",
    "\n",
    "# Call the function with provided angles and sides\n",
    "type_of_quadrilateral(angle_a, angle_b, angle_c, angle_d)\n"
   ]
  },
  {
   "cell_type": "code",
   "execution_count": 12,
   "id": "33c98f7c-c821-4f33-b80a-f6b2a466792d",
   "metadata": {},
   "outputs": [],
   "source": [
    "#29. Write a Python script to determine the season based on a user-provided month using elif statements."
   ]
  },
  {
   "cell_type": "code",
   "execution_count": 28,
   "id": "792eb873-b411-47a1-a7e3-5222d4ba5e08",
   "metadata": {},
   "outputs": [
    {
     "name": "stdin",
     "output_type": "stream",
     "text": [
      "Please enter a month name march\n"
     ]
    },
    {
     "name": "stdout",
     "output_type": "stream",
     "text": [
      "User entered month belogs to Summer season\n"
     ]
    }
   ],
   "source": [
    "def season(m):\n",
    "    \n",
    "    summer = ['february','march','april','may']\n",
    "    rainy = ['june','july','august','september']\n",
    "    winter = ['october','november','december','january']\n",
    "    \n",
    "    if m.lower() in summer:\n",
    "        return 'Summer'\n",
    "    \n",
    "    elif m.lower() in rainy:\n",
    "        return 'rainy'\n",
    "    \n",
    "    elif m.lower() in winter:\n",
    "        return 'winter'\n",
    "    \n",
    "    else:\n",
    "        return 'Please enter correct month name'\n",
    "    \n",
    "m = input('Please enter a month name')\n",
    "\n",
    "result = season(m)\n",
    "\n",
    "print(f'User entered month belogs to {result} season')"
   ]
  },
  {
   "cell_type": "code",
   "execution_count": 29,
   "id": "e9fb60cc-0b85-40ce-b5e4-d9c182bd1f33",
   "metadata": {},
   "outputs": [],
   "source": [
    "#30. Implement a program to determine the type of a year (leap or common) and month (30 or 31 days) using \n",
    "#elif statements."
   ]
  },
  {
   "cell_type": "code",
   "execution_count": 33,
   "id": "a9e7c270-5095-4fa3-986f-dff2992b5799",
   "metadata": {},
   "outputs": [
    {
     "name": "stdin",
     "output_type": "stream",
     "text": [
      "Enter the year:  2023\n",
      "Enter a month (as a number between 1 to 12) 11\n"
     ]
    },
    {
     "name": "stdout",
     "output_type": "stream",
     "text": [
      "2023 is a common year.\n",
      "The number of days in month 11 of year 2023 is 30.\n"
     ]
    }
   ],
   "source": [
    "def is_leap_year(year):\n",
    "    \n",
    "    if(year % 4 == 0 and year % 100 !=0) or (year % 4 == 0 ):\n",
    "        return True\n",
    "    else:\n",
    "        return False\n",
    "    \n",
    "def days_in_month(year, month):\n",
    "    if month in {4,6,9,11}:\n",
    "        return 30\n",
    "    elif month == 2:\n",
    "        if is_leap_year(year):\n",
    "            return 29\n",
    "        else:\n",
    "            return 28\n",
    "    else:\n",
    "        \n",
    "        return 31\n",
    "\n",
    "year_input = int(input(\"Enter the year: \"))\n",
    "month_input = int(input(\"Enter a month (as a number between 1 to 12)\"))\n",
    "\n",
    "# Check if the year is leap or common\n",
    "if is_leap_year(year_input):\n",
    "    print(f\"{year_input} is a leap year.\")\n",
    "else:\n",
    "    print(f\"{year_input} is a common year.\")\n",
    "\n",
    "# Determine the number of days in the given month of the year\n",
    "days = days_in_month(year_input, month_input)\n",
    "print(f\"The number of days in month {month_input} of year {year_input} is {days}.\")    "
   ]
  },
  {
   "cell_type": "code",
   "execution_count": 34,
   "id": "72e20be3-4cd8-4c99-b35d-2c5f98e26fe3",
   "metadata": {},
   "outputs": [],
   "source": [
    "#1. Write a Python program that checks if a given number is positive, negative, or zero."
   ]
  },
  {
   "cell_type": "code",
   "execution_count": 46,
   "id": "17ce03e7-afda-4e5d-b62c-171884877122",
   "metadata": {},
   "outputs": [
    {
     "name": "stdin",
     "output_type": "stream",
     "text": [
      "Please enter a number:  -1\n"
     ]
    },
    {
     "name": "stdout",
     "output_type": "stream",
     "text": [
      "Entered number is -1 and its Negative\n"
     ]
    }
   ],
   "source": [
    "def check_number(n):\n",
    "    \n",
    "    if n<0:\n",
    "        return 'Negative'\n",
    "    \n",
    "    elif n>0 :\n",
    "        return 'Positive'\n",
    "    \n",
    "    else:\n",
    "        return 'Zero'\n",
    "n = int(input('Please enter a number: '))\n",
    "\n",
    "result = check_number(n)\n",
    "\n",
    "print(f'Entered number is {n} and its {result}')"
   ]
  },
  {
   "cell_type": "code",
   "execution_count": 47,
   "id": "eff9fc99-bb41-4f1f-95c8-aa9dd5e2c88d",
   "metadata": {},
   "outputs": [],
   "source": [
    "#2. Create a program to determine if a person is eligible to vote based on their age."
   ]
  },
  {
   "cell_type": "code",
   "execution_count": 49,
   "id": "15cc4aa3-ce11-4512-a97b-5a937f7e24e5",
   "metadata": {},
   "outputs": [
    {
     "name": "stdin",
     "output_type": "stream",
     "text": [
      "Please enter a your vote 20\n"
     ]
    },
    {
     "name": "stdout",
     "output_type": "stream",
     "text": [
      "You are eligible for voting\n"
     ]
    }
   ],
   "source": [
    "def check_vote(age):\n",
    "    \n",
    "    if age >= 18:\n",
    "        return 'You are eligible for voting'\n",
    "    else:\n",
    "        return 'You are not eligible for voting'\n",
    "\n",
    "age = int(input('Please enter a your vote'))\n",
    "\n",
    "result = check_vote(age)\n",
    "\n",
    "print(result)"
   ]
  },
  {
   "cell_type": "code",
   "execution_count": 50,
   "id": "7b69e94f-7fe6-4ee4-bd33-977eda64252a",
   "metadata": {},
   "outputs": [],
   "source": [
    "#3. Write a program to find the maximum of two given numbers using conditional statements."
   ]
  },
  {
   "cell_type": "code",
   "execution_count": 59,
   "id": "44844bee-3294-4f16-a035-b606939cfadd",
   "metadata": {},
   "outputs": [
    {
     "name": "stdin",
     "output_type": "stream",
     "text": [
      "Please enter a first number:  44\n",
      "Please enter a 2nd number:  22\n"
     ]
    },
    {
     "name": "stdout",
     "output_type": "stream",
     "text": [
      "The maximum number between 44.0 and 22.0 is: 44.0\n"
     ]
    }
   ],
   "source": [
    "def find_max(n1, n2):\n",
    "        if n1 > n2 :\n",
    "            return n1\n",
    "        else:\n",
    "            return n2\n",
    "    \n",
    "n1 = float(input(\"Please enter a first number: \"))\n",
    "n2 = float(input(\"Please enter a 2nd number: \"))\n",
    "\n",
    "result = find_max(n1, n2)\n",
    "\n",
    "print(f\"The maximum number between {n1} and {n2} is: {result}\")"
   ]
  },
  {
   "cell_type": "code",
   "execution_count": 60,
   "id": "7851ff82-ab70-490c-b8b2-d984f84c6327",
   "metadata": {},
   "outputs": [],
   "source": [
    "#4. Develop a program that calculates the grade of a student based on their exam score."
   ]
  },
  {
   "cell_type": "code",
   "execution_count": 65,
   "id": "ad5fe7a7-9629-420d-8470-b3c1341fc0b8",
   "metadata": {},
   "outputs": [
    {
     "name": "stdin",
     "output_type": "stream",
     "text": [
      "Please enter marks 66\n"
     ]
    },
    {
     "name": "stdout",
     "output_type": "stream",
     "text": [
      "The grade based on marks 66 is : B\n"
     ]
    }
   ],
   "source": [
    "def grade(marks):\n",
    "    \n",
    "    if marks > 80:\n",
    "        return 'A'\n",
    "    elif marks > 60:\n",
    "        return 'B'\n",
    "    elif marks > 35:\n",
    "        return 'C'\n",
    "    else:\n",
    "        return 'Fail'\n",
    "    \n",
    "marks = int(input(\"Please enter marks\"))\n",
    "\n",
    "result = grade(marks)\n",
    "\n",
    "print(f'The grade based on marks {marks} is : {result}')"
   ]
  },
  {
   "cell_type": "code",
   "execution_count": 66,
   "id": "f0d45b9b-cafa-4815-85cf-f2b2fdbe47e6",
   "metadata": {},
   "outputs": [],
   "source": [
    "#5. Create a program that checks if a year is a leap year or not."
   ]
  },
  {
   "cell_type": "code",
   "execution_count": 71,
   "id": "f7c84f64-4f34-4c0d-a9ac-817474d4e99e",
   "metadata": {},
   "outputs": [
    {
     "name": "stdin",
     "output_type": "stream",
     "text": [
      "Please enter year (as 2023, 2024) 2024\n"
     ]
    },
    {
     "name": "stdout",
     "output_type": "stream",
     "text": [
      "Provided year 2024 is a leap year.\n"
     ]
    }
   ],
   "source": [
    "def leap(year):\n",
    "    \n",
    "    if(year % 4 == 0 and year % 100 !=0) or (year % 4 == 0 ):\n",
    "        return True\n",
    "    \n",
    "    else:\n",
    "        return False\n",
    "\n",
    "year = int(input(\"Please enter year (as 2023, 2024)\"))\n",
    "\n",
    "if leap(year):\n",
    "    print(f\"Provided year {year} is a leap year.\")\n",
    "else:\n",
    "    print(f\" Provided year {year} is a common year.\")\n"
   ]
  },
  {
   "cell_type": "code",
   "execution_count": 72,
   "id": "e27b4504-fb59-404c-b44e-2b3ec2443783",
   "metadata": {},
   "outputs": [],
   "source": [
    "#6. Write a program to classify a triangle based on its sides' lengths."
   ]
  },
  {
   "cell_type": "code",
   "execution_count": 73,
   "id": "ec6748c9-9618-48fa-af1f-95fe3ed6e86a",
   "metadata": {},
   "outputs": [
    {
     "name": "stdin",
     "output_type": "stream",
     "text": [
      "Enter the length of side 1:  22\n",
      "Enter the length of side 2:  44\n",
      "Enter the length of side 3:  77\n"
     ]
    },
    {
     "name": "stdout",
     "output_type": "stream",
     "text": [
      "The triangle is scalene.\n"
     ]
    }
   ],
   "source": [
    "def classify_triangle(side_a, side_b, side_c):\n",
    "    if side_a == side_b == side_c:\n",
    "        print(\"The triangle is equilateral.\")\n",
    "    elif side_a == side_b or side_b == side_c or side_c == side_a:\n",
    "        print(\"The triangle is isosceles.\")\n",
    "    else:\n",
    "        print(\"The triangle is scalene.\")\n",
    "\n",
    "# Input lengths of the sides of the triangle from the user\n",
    "side1 = float(input(\"Enter the length of side 1: \"))\n",
    "side2 = float(input(\"Enter the length of side 2: \"))\n",
    "side3 = float(input(\"Enter the length of side 3: \"))\n",
    "\n",
    "# Call the function to classify the triangle based on side lengths\n",
    "classify_triangle(side1, side2, side3)\n"
   ]
  },
  {
   "cell_type": "code",
   "execution_count": 74,
   "id": "8701583c-d688-4d7b-be53-e24cba410d3f",
   "metadata": {},
   "outputs": [],
   "source": [
    "#7. Build a program that determines the largest of three given numbers."
   ]
  },
  {
   "cell_type": "code",
   "execution_count": 88,
   "id": "39bc3b67-0bb0-48b1-91fa-9226cd0643a5",
   "metadata": {},
   "outputs": [
    {
     "name": "stdin",
     "output_type": "stream",
     "text": [
      "Please enter 1st number  288\n",
      "Please enter 2nd number 390\n",
      "Please enter 3rd number 345\n"
     ]
    },
    {
     "name": "stdout",
     "output_type": "stream",
     "text": [
      "The largest number among 288,390 and 345 is: 390\n"
     ]
    }
   ],
   "source": [
    "def large_number(n1,n2,n3):\n",
    "    \n",
    "    if n1>n2:\n",
    "        return n1\n",
    "    elif n2>n3:\n",
    "        return n2\n",
    "    elif n3>n1:\n",
    "        return n3\n",
    "n1 = int(input(\"Please enter 1st number \"))\n",
    "n2 = int(input(\"Please enter 2nd number\"))\n",
    "n3 = int(input(\"Please enter 3rd number\"))\n",
    "\n",
    "result= large_number(n1,n2,n3)\n",
    "print(f\"The largest number among {n1},{n2} and {n3} is: {result}\")"
   ]
  },
  {
   "cell_type": "code",
   "execution_count": 1,
   "id": "6733d697-bfa9-42d1-9d41-5633ab200a3f",
   "metadata": {},
   "outputs": [],
   "source": [
    "#8. Develop a program that checks whether a character is a vowel or a consonant."
   ]
  },
  {
   "cell_type": "code",
   "execution_count": 7,
   "id": "3dbd620c-2811-43d9-a3af-0c78c58dc734",
   "metadata": {},
   "outputs": [
    {
     "name": "stdin",
     "output_type": "stream",
     "text": [
      "Please enter a character a\n"
     ]
    },
    {
     "name": "stdout",
     "output_type": "stream",
     "text": [
      "User entered charater is a and this is vowels\n"
     ]
    }
   ],
   "source": [
    "def check_charactor(c):\n",
    "    \n",
    "    vowel = ['a','e','i','o','u']\n",
    "    \n",
    "    if c.lower() in vowel:\n",
    "        \n",
    "        return 'vowels'\n",
    "    else:\n",
    "        return 'consonant'\n",
    "\n",
    "user = input('Please enter a character')\n",
    "\n",
    "result = check_charactor(user)\n",
    "\n",
    "print(f'User entered charater is {user} and this is {result}')"
   ]
  },
  {
   "cell_type": "code",
   "execution_count": 8,
   "id": "90381f12-6226-4a98-8224-c4537b979ba7",
   "metadata": {},
   "outputs": [],
   "source": [
    "#9. Create a program to calculate the total cost of a shopping cart based on discounts."
   ]
  },
  {
   "cell_type": "code",
   "execution_count": 33,
   "id": "df8a3a9a-b4f4-4ecb-910b-9f39524e0da3",
   "metadata": {},
   "outputs": [
    {
     "name": "stdout",
     "output_type": "stream",
     "text": [
      "The total cost after discounts is: $967.5\n"
     ]
    }
   ],
   "source": [
    "# Function to calculate total cost with discounts\n",
    "def calculate_total_cost(cart):\n",
    "    total_cost = 0\n",
    "\n",
    "    # Iterate through each item in the cart\n",
    "    for item, price in cart.items():\n",
    "        total_cost += price  # Add the price of the item to the total cost\n",
    "\n",
    "    # Apply discount based on total cost\n",
    "    discount_rate = 0\n",
    "    if total_cost >= 500:\n",
    "        discount_rate = 0.1  # 10% discount for total cost >= $100\n",
    "    elif total_cost >= 100:\n",
    "        discount_rate = 0.05  # 5% discount for total cost >= $50\n",
    "\n",
    "    # Calculate discounted cost and round it to 2 decimal places\n",
    "    discounted_cost = total_cost - (total_cost * discount_rate)\n",
    "    discounted_cost = round(discounted_cost, 2)\n",
    "\n",
    "    return discounted_cost\n",
    "\n",
    "# Example shopping cart with items and prices\n",
    "shopping_cart = {\n",
    "    \"Item 1\": 225,\n",
    "    \"Item 2\": 400,\n",
    "    \"Item 3\": 300,\n",
    "    \"Item 4\": 150\n",
    "}\n",
    "\n",
    "# Calculate the total cost of the shopping cart\n",
    "total_cost = calculate_total_cost(shopping_cart)\n",
    "\n",
    "# Display the total cost after discounts\n",
    "print(f\"The total cost after discounts is: ${total_cost}\")\n"
   ]
  },
  {
   "cell_type": "code",
   "execution_count": 34,
   "id": "4ecafa46-870b-4c88-afca-7fa5d2a63d8e",
   "metadata": {},
   "outputs": [],
   "source": [
    "#10. Write a program that checks if a given number is even or odd."
   ]
  },
  {
   "cell_type": "code",
   "execution_count": 40,
   "id": "5c1cd310-ee30-4621-9935-94c916ff4fc6",
   "metadata": {},
   "outputs": [
    {
     "name": "stdin",
     "output_type": "stream",
     "text": [
      "Please enter number to check odd-even 6\n"
     ]
    },
    {
     "name": "stdout",
     "output_type": "stream",
     "text": [
      "The 6 is the even number\n"
     ]
    }
   ],
   "source": [
    "def check_odd_even(n):\n",
    "    \n",
    "    if n % 2 == 0 :\n",
    "        return \"even\"\n",
    "    else:\n",
    "        return \"odd\"\n",
    "n = int(input(\"Please enter number to check odd-even\"))\n",
    "\n",
    "result  = check_odd_even(n)\n",
    "\n",
    "print(f'The {n} is the {result} number')"
   ]
  },
  {
   "cell_type": "code",
   "execution_count": 1,
   "id": "cb50f20c-210f-4811-a3dd-f9caf4399e25",
   "metadata": {},
   "outputs": [],
   "source": [
    "#1. Write a program that calculates the roots of a quadratic equation ."
   ]
  },
  {
   "cell_type": "code",
   "execution_count": 2,
   "id": "53cf0c6f-9015-40c9-b68e-b3cb81babe29",
   "metadata": {},
   "outputs": [
    {
     "name": "stdin",
     "output_type": "stream",
     "text": [
      "Enter coefficient a:  33\n",
      "Enter coefficient b:  34\n",
      "Enter coefficient c:  24\n"
     ]
    },
    {
     "name": "stdout",
     "output_type": "stream",
     "text": [
      "Root 1: (-0.5151515151515151+0.6796261058183577j)\n",
      "Root 2: (-0.5151515151515151-0.6796261058183577j)\n"
     ]
    }
   ],
   "source": [
    "import cmath\n",
    "\n",
    "def calculate_roots(a, b, c):\n",
    "    # Calculate the discriminant\n",
    "    discriminant = (b**2) - (4*a*c)\n",
    "\n",
    "    # Calculate the roots\n",
    "    root1 = (-b + cmath.sqrt(discriminant)) / (2*a)\n",
    "    root2 = (-b - cmath.sqrt(discriminant)) / (2*a)\n",
    "\n",
    "    return root1, root2\n",
    "\n",
    "# Input coefficients\n",
    "a = float(input(\"Enter coefficient a: \"))\n",
    "b = float(input(\"Enter coefficient b: \"))\n",
    "c = float(input(\"Enter coefficient c: \"))\n",
    "\n",
    "# Calculate and display the roots\n",
    "root1, root2 = calculate_roots(a, b, c)\n",
    "print(\"Root 1:\", root1)\n",
    "print(\"Root 2:\", root2)\n"
   ]
  },
  {
   "cell_type": "code",
   "execution_count": 3,
   "id": "e2400ca2-e664-415d-a30d-e4a93319b0fa",
   "metadata": {},
   "outputs": [],
   "source": [
    "#12. Create a program that determines the day of the week based on the day number (1-7)."
   ]
  },
  {
   "cell_type": "code",
   "execution_count": 8,
   "id": "7da48097-2ca0-4cb3-8fcc-e100d8880f67",
   "metadata": {},
   "outputs": [
    {
     "name": "stdin",
     "output_type": "stream",
     "text": [
      "Please enter a day number (between 1 to 7) 4\n"
     ]
    },
    {
     "name": "stdout",
     "output_type": "stream",
     "text": [
      "The day of the week on input number 4 is Wednesday\n"
     ]
    }
   ],
   "source": [
    "def day_of_week(day_num):\n",
    "    \n",
    "    day = {1: 'Sunday', 2:'Monday', 3:'Tuesday', 4:'Wednesday', 5:'Thruesday', 6:'Friday', 7: 'saterday'}\n",
    "    \n",
    "    if day_num in day:\n",
    "        \n",
    "        return day[day_num]\n",
    "    else:\n",
    "        \n",
    "        return 'Please enter correct day number between 1 to 7'\n",
    "    \n",
    "day_num = int(input('Please enter a day number (between 1 to 7)'))\n",
    "\n",
    "result = day_of_week(day_num)\n",
    "\n",
    "print(f'The day of the week on input number {day_num} is {result}')"
   ]
  },
  {
   "cell_type": "code",
   "execution_count": 9,
   "id": "a56732e1-e3f1-4488-a98d-8deac91fbd97",
   "metadata": {},
   "outputs": [],
   "source": [
    "#13. Develop a program that calculates the factorial of a given number using recursion."
   ]
  },
  {
   "cell_type": "code",
   "execution_count": 14,
   "id": "d3a3bf87-3612-421d-8303-546b75508b8c",
   "metadata": {},
   "outputs": [
    {
     "name": "stdin",
     "output_type": "stream",
     "text": [
      "please enter a number to calculate the factorial 5\n"
     ]
    },
    {
     "name": "stdout",
     "output_type": "stream",
     "text": [
      "Factorial of 5 is 120\n"
     ]
    }
   ],
   "source": [
    "def factorial(n):\n",
    "    \n",
    "    if n == 0 :\n",
    "        return 1\n",
    "    else:\n",
    "        return n * factorial(n-1)\n",
    "\n",
    "n = int(input('please enter a number to calculate the factorial'))\n",
    "\n",
    "if n < 0 :\n",
    "    print(\"No factorial defined for negetive number\")\n",
    "else:\n",
    "    result = factorial(n)\n",
    "    print(\"Factorial of\", n, \"is\", result)"
   ]
  },
  {
   "cell_type": "code",
   "execution_count": 15,
   "id": "73f34a81-773e-4f54-b503-7cf1517deea3",
   "metadata": {},
   "outputs": [],
   "source": [
    "#14. Write a program to find the largest among three numbers without using the `max()` function."
   ]
  },
  {
   "cell_type": "code",
   "execution_count": 26,
   "id": "f8a5a9a2-01ee-44c9-8a58-e312c136e886",
   "metadata": {},
   "outputs": [
    {
     "name": "stdin",
     "output_type": "stream",
     "text": [
      "Please enter number 1 :  45\n",
      "Please enter number 2 :  45\n",
      "Please enter number 3 :  67\n"
     ]
    },
    {
     "name": "stdout",
     "output_type": "stream",
     "text": [
      "The largest number among 45.0,45.0 and 67.0 is 67.0\n"
     ]
    }
   ],
   "source": [
    "def large_number(n1,n2,n3):\n",
    "    \n",
    "    if n1>n2 and n1 > n3:\n",
    "        return n1\n",
    "    \n",
    "    elif n2>n3 and n2>n3:\n",
    "        return n2\n",
    "    else:\n",
    "        return n3\n",
    "n1 = float(input('Please enter number 1 : '))\n",
    "n2 = float(input('Please enter number 2 : '))\n",
    "n3 = float(input('Please enter number 3 : '))\n",
    "\n",
    "result = large_number(n1,n2,n3)\n",
    "\n",
    "print(f'The largest number among {n1},{n2} and {n3} is {result}')"
   ]
  },
  {
   "cell_type": "code",
   "execution_count": 1,
   "id": "6ead208e-26df-4732-86d1-60b90d215bdc",
   "metadata": {},
   "outputs": [],
   "source": [
    "#15. Create a program that simulates a basic ATM transaction menu."
   ]
  },
  {
   "cell_type": "code",
   "execution_count": 5,
   "id": "5695f8f5-aed0-44da-a718-182a14d39bfa",
   "metadata": {},
   "outputs": [
    {
     "name": "stdout",
     "output_type": "stream",
     "text": [
      "\n",
      "==== ATM Menu ====\n",
      "1. Check Balance\n",
      "2. Deposit\n",
      "3. Withdraw\n",
      "4. Exit\n"
     ]
    },
    {
     "name": "stdin",
     "output_type": "stream",
     "text": [
      "Enter your choice (1-4):  1\n"
     ]
    },
    {
     "name": "stdout",
     "output_type": "stream",
     "text": [
      "Your current balance is: $1000\n",
      "\n",
      "==== ATM Menu ====\n",
      "1. Check Balance\n",
      "2. Deposit\n",
      "3. Withdraw\n",
      "4. Exit\n"
     ]
    },
    {
     "name": "stdin",
     "output_type": "stream",
     "text": [
      "Enter your choice (1-4):  4\n"
     ]
    },
    {
     "name": "stdout",
     "output_type": "stream",
     "text": [
      "Thank you for using the ATM. Goodbye!\n"
     ]
    }
   ],
   "source": [
    "balance = 1000  # Initial balance\n",
    "\n",
    "def check_balance():\n",
    "    print(f\"Your current balance is: ${balance}\")\n",
    "\n",
    "def deposit(amount):\n",
    "    global balance\n",
    "    if amount > 0:\n",
    "        balance += amount\n",
    "        print(f\"${amount} has been deposited.\")\n",
    "    else:\n",
    "        print(\"Please enter a valid amount to deposit.\")\n",
    "\n",
    "def withdraw(amount):\n",
    "    global balance\n",
    "    if amount > 0:\n",
    "        if balance >= amount:\n",
    "            balance -= amount\n",
    "            print(f\"${amount} has been withdrawn.\")\n",
    "        else:\n",
    "            print(\"Insufficient funds.\")\n",
    "    else:\n",
    "        print(\"Please enter a valid amount to withdraw.\")\n",
    "\n",
    "def main():\n",
    "    while True:\n",
    "        print(\"\\n==== ATM Menu ====\")\n",
    "        print(\"1. Check Balance\")\n",
    "        print(\"2. Deposit\")\n",
    "        print(\"3. Withdraw\")\n",
    "        print(\"4. Exit\")\n",
    "\n",
    "        choice = input(\"Enter your choice (1-4): \")\n",
    "\n",
    "        if choice == '1':\n",
    "            check_balance()\n",
    "        elif choice == '2':\n",
    "            amount = float(input(\"Enter deposit amount: $\"))\n",
    "            deposit(amount)\n",
    "        elif choice == '3':\n",
    "            amount = float(input(\"Enter withdrawal amount: $\"))\n",
    "            withdraw(amount)\n",
    "        elif choice == '4':\n",
    "            print(\"Thank you for using the ATM. Goodbye!\")\n",
    "            break\n",
    "        else:\n",
    "            print(\"Invalid choice. Please enter a valid option.\")\n",
    "\n",
    "if __name__ == \"__main__\":\n",
    "    main()\n"
   ]
  },
  {
   "cell_type": "code",
   "execution_count": 6,
   "id": "5ab1f114-92d8-4c66-8fdc-a1799fb87f1a",
   "metadata": {},
   "outputs": [],
   "source": [
    "#16. Build a program that checks if a given string is a palindrome or not."
   ]
  },
  {
   "cell_type": "code",
   "execution_count": 10,
   "id": "966760d6-d6ac-4cdf-8f81-cc47f5bf207d",
   "metadata": {},
   "outputs": [
    {
     "name": "stdin",
     "output_type": "stream",
     "text": [
      "Please enter a string to check it is palindrome or not  sandip\n"
     ]
    },
    {
     "name": "stdout",
     "output_type": "stream",
     "text": [
      "It is not a palindrome\n"
     ]
    }
   ],
   "source": [
    "def ispalindrome(string):\n",
    "    \n",
    "    if string[::-1].lower() == string.lower():\n",
    "        return \"It is palindrome\"\n",
    "    else:\n",
    "        return \"It is not a palindrome\"\n",
    "    \n",
    "string = input(\"Please enter a string to check it is palindrome or not \")\n",
    "\n",
    "result = ispalindrome(string)\n",
    "print(result)"
   ]
  },
  {
   "cell_type": "code",
   "execution_count": 11,
   "id": "73173e5b-a531-4aaa-ac4b-932917e44200",
   "metadata": {},
   "outputs": [],
   "source": [
    "#17. Write a program that calculates the average of a list of numbers, excluding the smallest and largest values."
   ]
  },
  {
   "cell_type": "code",
   "execution_count": 58,
   "id": "58cf5643-3d6c-43a7-8bd7-4b6e9c7f72a3",
   "metadata": {},
   "outputs": [
    {
     "name": "stdout",
     "output_type": "stream",
     "text": [
      "After excluding the max and min number from list [2, 3, 4, 5, 6] average of remaining numbers is: 4.0 \n"
     ]
    }
   ],
   "source": [
    "def cal_avg(numbers):\n",
    "    \n",
    "    if len(numbers)<= 2 :\n",
    "        print(\"List should have elements more than 2\")\n",
    "        return None\n",
    "        \n",
    "\n",
    "# sort the list to indetify max and min element from list    \n",
    "    numbers.sort()\n",
    "\n",
    "# exclude the 1st and last element from list    \n",
    "    new_list = numbers[1:-1]\n",
    "    avg_list = sum(new_list)/len(new_list)\n",
    "    return avg_list\n",
    "\n",
    "numbers = [2,3,4,5,6]\n",
    "result = cal_avg(numbers)\n",
    "if result is not None:\n",
    "    print(f\"After excluding the max and min number from list {numbers} average of remaining numbers is: {result} \")"
   ]
  },
  {
   "cell_type": "code",
   "execution_count": null,
   "id": "1989f59a-4cf7-4e37-92fa-b8d6103c6d7a",
   "metadata": {},
   "outputs": [],
   "source": [
    "#18. Develop a program that converts a given temperature from Celsius to Fahrenheit."
   ]
  },
  {
   "cell_type": "code",
   "execution_count": 62,
   "id": "e000500c-9c34-4229-821f-a10c638998bd",
   "metadata": {},
   "outputs": [
    {
     "name": "stdin",
     "output_type": "stream",
     "text": [
      "Please enter Temperatures 36.10\n"
     ]
    },
    {
     "name": "stdout",
     "output_type": "stream",
     "text": [
      "The Temperature in Fahrenheit is 96.98\n"
     ]
    }
   ],
   "source": [
    "Temp_Celsius = float(input('Please enter Temperatures'))\n",
    "print('The Temperature in Fahrenheit is',((Temp_Celsius*9/5)+32))"
   ]
  },
  {
   "cell_type": "code",
   "execution_count": 63,
   "id": "ace1a1e2-0cd1-4164-a62b-ba0aff28bd32",
   "metadata": {},
   "outputs": [],
   "source": [
    "#19. Create a program that simulates a basic calculator for addition, subtraction, multiplication, and division."
   ]
  },
  {
   "cell_type": "code",
   "execution_count": 101,
   "id": "bbe60b7b-2a2b-479c-b1cb-78691ddc0da6",
   "metadata": {},
   "outputs": [
    {
     "name": "stdin",
     "output_type": "stream",
     "text": [
      "please enter 1st number 4\n",
      "please enter 2nd number 8\n",
      "Select operation - (+,-,*,/) /\n"
     ]
    },
    {
     "name": "stdout",
     "output_type": "stream",
     "text": [
      " The Final calculation is : 0.5\n"
     ]
    }
   ],
   "source": [
    "def calculator(n1,n2,oprator):\n",
    " \n",
    "# Define calculations\n",
    "\n",
    "    if oprator == '+':\n",
    "        return n1+n2\n",
    "    \n",
    "    elif oprator == '-':\n",
    "        return n1-n2\n",
    "    \n",
    "    elif oprator == '*':\n",
    "        return n1*n2\n",
    "    \n",
    "    elif oprator == '/' :\n",
    "        return n1/n2\n",
    "    else:\n",
    "        return \"Please provide correct infomation\"\n",
    "\n",
    "# user input    \n",
    "n1 = float(input('please enter 1st number'))\n",
    "n2 = float(input('please enter 2nd number'))\n",
    "oprator = input(\"Select operation - (+,-,*,/)\")\n",
    "\n",
    "result = calculator(n1,n2,oprator)\n",
    "print(f\" The Final calculation is : {result}\")"
   ]
  },
  {
   "cell_type": "code",
   "execution_count": null,
   "id": "1efdb875-b7d8-4000-890a-e8d0ccc1b08c",
   "metadata": {},
   "outputs": [],
   "source": [
    "#20. Write a program that determines the roots of a cubic equation using the Cardano formula."
   ]
  },
  {
   "cell_type": "code",
   "execution_count": 1,
   "id": "efde57a7-753e-41ae-a78c-cdf7b58b68a5",
   "metadata": {},
   "outputs": [
    {
     "name": "stdout",
     "output_type": "stream",
     "text": [
      "Roots of the cubic equation: ((3+0j), (-1+3.4641016151377544j), (-1-3.4641016151377544j))\n"
     ]
    }
   ],
   "source": [
    "import cmath  # Importing the complex math module\n",
    "\n",
    "def cubic_roots(a, b, c, d):\n",
    "    if a == 0:  # If the coefficient of x^3 is zero, it's not a cubic equation\n",
    "        raise ValueError(\"Not a cubic equation\")\n",
    "\n",
    "    # Calculating intermediate values required by Cardano's formula\n",
    "    p = (3 * a * c - b**2) / (3 * a**2)\n",
    "    q = (2 * b**3 - 9 * a * b * c + 27 * a**2 * d) / (27 * a**3)\n",
    "\n",
    "    discriminant = (q / 2)**2 + (p / 3)**3\n",
    "\n",
    "    if discriminant == 0:\n",
    "        # Case of 3 real roots (all equal)\n",
    "        root = (-q / 2)**(1 / 3)\n",
    "        x1 = x2 = x3 = root - b / (3 * a)\n",
    "    elif discriminant > 0:\n",
    "        # Case of 1 real root and 2 complex conjugate roots\n",
    "        sqrt_discriminant = cmath.sqrt(discriminant)\n",
    "        u = (-q / 2 + sqrt_discriminant)**(1 / 3)\n",
    "        v = (-q / 2 - sqrt_discriminant)**(1 / 3)\n",
    "        root = u + v\n",
    "        x1 = root - b / (3 * a)\n",
    "        x2 = -(u + v) / 2 - b / (3 * a) + (u - v) * cmath.sqrt(3) * 0.5j\n",
    "        x3 = -(u + v) / 2 - b / (3 * a) - (u - v) * cmath.sqrt(3) * 0.5j\n",
    "    else:\n",
    "        # Case of 3 real roots (2 distinct, 1 repeated)\n",
    "        angle = cmath.acos(-q / 2 * cmath.sqrt(-27 / p**3)) / 3\n",
    "        root = 2 * cmath.sqrt(-p / 3) * cmath.cos(angle)\n",
    "        x1 = root - b / (3 * a)\n",
    "        x2 = root - b / (3 * a) * (-1 + cmath.sqrt(3) * 1j)\n",
    "        x3 = root - b / (3 * a) * (-1 - cmath.sqrt(3) * 1j)\n",
    "\n",
    "    return x1, x2, x3\n",
    "\n",
    "# Example coefficients of the cubic equation: ax^3 + bx^2 + cx + d = 0\n",
    "a = 1\n",
    "b = -6\n",
    "c = 11\n",
    "d = -6\n",
    "\n",
    "# Finding the roots of the cubic equation\n",
    "roots = cubic_roots(a, b, c, d)\n",
    "print(\"Roots of the cubic equation:\", roots)\n"
   ]
  },
  {
   "cell_type": "code",
   "execution_count": 2,
   "id": "0c845290-a5ea-4e9d-bbab-6f46e950e28a",
   "metadata": {},
   "outputs": [],
   "source": [
    "#21. Create a program that calculates the income tax based on the user's income and tax brackets."
   ]
  },
  {
   "cell_type": "code",
   "execution_count": 43,
   "id": "c9fc5531-2096-48d6-b373-8f971deac670",
   "metadata": {},
   "outputs": [
    {
     "name": "stdin",
     "output_type": "stream",
     "text": [
      "Please enter your income to calculate tax:  5800000\n"
     ]
    },
    {
     "name": "stdout",
     "output_type": "stream",
     "text": [
      "your income is $5800000.0 and tax will be $290000.0\n"
     ]
    }
   ],
   "source": [
    "def incomeTax(income):\n",
    "    \n",
    "    \n",
    "    if income < 500000: # no tax under 5 lakh\n",
    "        return '0'\n",
    "    \n",
    "    elif income >= 500000: # 5% tax slab\n",
    "        return income * 5/100\n",
    "    \n",
    "    elif income >=800000: # 10% tax slab\n",
    "        return income * 20/100\n",
    "    else:\n",
    "        return income * 30/100\n",
    "        \n",
    "income = float(input('Please enter your income to calculate tax: '))\n",
    "\n",
    "result = incomeTax(income)\n",
    "print(f'your income is ${income} and tax will be ${result}')"
   ]
  },
  {
   "cell_type": "code",
   "execution_count": 30,
   "id": "badb82b5-b597-4b54-a79d-30aa6f93c680",
   "metadata": {},
   "outputs": [
    {
     "data": {
      "text/plain": [
       "100000.0"
      ]
     },
     "execution_count": 30,
     "metadata": {},
     "output_type": "execute_result"
    }
   ],
   "source": [
    "#22. Write a program that simulates a rock-paper-scissors game against the computer."
   ]
  },
  {
   "cell_type": "code",
   "execution_count": 3,
   "id": "685b3b28-dbb6-42b0-95b0-b61208d02c38",
   "metadata": {},
   "outputs": [
    {
     "name": "stdout",
     "output_type": "stream",
     "text": [
      "Let's play Rock-Paper-Scissors!\n"
     ]
    },
    {
     "name": "stdin",
     "output_type": "stream",
     "text": [
      "Enter Rock, Paper, or Scissors:  paper\n"
     ]
    },
    {
     "name": "stdout",
     "output_type": "stream",
     "text": [
      "You chose paper, and the computer chose paper.\n",
      "Computer win!\n"
     ]
    },
    {
     "name": "stdin",
     "output_type": "stream",
     "text": [
      "Do you want to play again? (yes/no):  yes\n",
      "Enter Rock, Paper, or Scissors:  rock\n"
     ]
    },
    {
     "name": "stdout",
     "output_type": "stream",
     "text": [
      "You chose rock, and the computer chose paper.\n",
      "Computer win!\n"
     ]
    },
    {
     "name": "stdin",
     "output_type": "stream",
     "text": [
      "Do you want to play again? (yes/no):  yes\n",
      "Enter Rock, Paper, or Scissors:  rock\n"
     ]
    },
    {
     "name": "stdout",
     "output_type": "stream",
     "text": [
      "You chose rock, and the computer chose rock.\n",
      "Computer win!\n"
     ]
    },
    {
     "name": "stdin",
     "output_type": "stream",
     "text": [
      "Do you want to play again? (yes/no):  yes\n",
      "Enter Rock, Paper, or Scissors:  rick\n"
     ]
    },
    {
     "name": "stdout",
     "output_type": "stream",
     "text": [
      "Please provide correct input, Please enter Rock, Paper, or Scissors.\n"
     ]
    },
    {
     "name": "stdin",
     "output_type": "stream",
     "text": [
      "Enter Rock, Paper, or Scissors:  rock\n"
     ]
    },
    {
     "name": "stdout",
     "output_type": "stream",
     "text": [
      "You chose rock, and the computer chose rock.\n",
      "Computer win!\n"
     ]
    },
    {
     "name": "stdin",
     "output_type": "stream",
     "text": [
      "Do you want to play again? (yes/no):  yes\n",
      "Enter Rock, Paper, or Scissors:  rock\n"
     ]
    },
    {
     "name": "stdout",
     "output_type": "stream",
     "text": [
      "You chose rock, and the computer chose paper.\n",
      "Computer win!\n"
     ]
    },
    {
     "name": "stdin",
     "output_type": "stream",
     "text": [
      "Do you want to play again? (yes/no):  no\n"
     ]
    }
   ],
   "source": [
    "import random\n",
    "\n",
    "def input_user_choice():\n",
    "    while True:\n",
    "        \n",
    "        user_choice = input(\"Enter Rock, Paper, or Scissors: \").lower()\n",
    "        if user_choice in ['rock', 'paper', 'scissors']:\n",
    "            return user_choice\n",
    "        else:\n",
    "            print(\"Please provide correct input, Please enter Rock, Paper, or Scissors.\")\n",
    "            \n",
    "def input_computer_choice():\n",
    "    return random.choice(['rock', 'paper', 'scissors'])\n",
    "\n",
    "def winner_is(user_choice, computer_choice):\n",
    "    if input_computer_choice == input_user_choice :\n",
    "        return \"Wow, its tie!\"\n",
    "    elif (user_choice == 'rock' and computer_choice == 'scissors') or \\\n",
    "         (user_choice == 'paper' and computer_choice == 'rock') or \\\n",
    "         (user_choice == 'scissors' and computer_choice == 'paper'):\n",
    "        return \"You win!\"\n",
    "    else:\n",
    "        return \"Computer win!\"\n",
    "def play_game():\n",
    "    print(\"Let's play Rock-Paper-Scissors!\")\n",
    "    while True:\n",
    "        user_choice = input_user_choice()\n",
    "        computer_choice = input_computer_choice()\n",
    "        print(f\"You chose {user_choice}, and the computer chose {computer_choice}.\")\n",
    "        print(winner_is(user_choice, computer_choice))\n",
    "        play_again = input(\"Do you want to play again? (yes/no): \").lower()\n",
    "        if play_again != 'yes':\n",
    "            break\n",
    "\n",
    "# Run the game\n",
    "play_game()"
   ]
  },
  {
   "cell_type": "code",
   "execution_count": 5,
   "id": "37608b47-2386-4158-be87-896a06103e7e",
   "metadata": {},
   "outputs": [],
   "source": [
    "#23. Develop a program that generates a random password based on user preferences (length, complexity)."
   ]
  },
  {
   "cell_type": "code",
   "execution_count": 8,
   "id": "db4b9738-b233-47fe-a9b4-e323a905d781",
   "metadata": {},
   "outputs": [
    {
     "name": "stdout",
     "output_type": "stream",
     "text": [
      "Welcome to the random password generator!\n"
     ]
    },
    {
     "name": "stdin",
     "output_type": "stream",
     "text": [
      "Enter the length of the password:  12\n",
      "Enter the complexity level (low/medium/high):  high\n"
     ]
    },
    {
     "name": "stdout",
     "output_type": "stream",
     "text": [
      "Your randomly generated password is: B|Hi1=e_Mwu_\n"
     ]
    }
   ],
   "source": [
    "import random\n",
    "import string\n",
    "\n",
    "def generate_password(length, complexity):\n",
    "    if complexity == 'low':\n",
    "        chars = string.ascii_letters + string.digits\n",
    "    elif complexity == 'medium':\n",
    "        chars = string.ascii_letters + string.digits + string.punctuation\n",
    "    elif complexity == 'high':\n",
    "        chars = string.ascii_letters + string.digits + string.punctuation + string.ascii_uppercase + string.ascii_lowercase\n",
    "    else:\n",
    "        print(\"Invalid complexity level. Please choose low, medium, or high.\")\n",
    "        return None\n",
    "    \n",
    "    password = ''.join(random.choice(chars) for _ in range(length))\n",
    "    return password\n",
    "\n",
    "def get_user_preferences():\n",
    "    while True:\n",
    "        try:\n",
    "            length = int(input(\"Enter the length of the password: \"))\n",
    "            complexity = input(\"Enter the complexity level (low/medium/high): \").lower()\n",
    "            if complexity in ['low', 'medium', 'high']:\n",
    "                return length, complexity\n",
    "            else:\n",
    "                print(\"Invalid complexity level. Please choose low, medium, or high.\")\n",
    "        except ValueError:\n",
    "            print(\"Invalid input. Please enter a valid length (an integer).\")\n",
    "\n",
    "def main():\n",
    "    print(\"Welcome to the random password generator!\")\n",
    "    length, complexity = get_user_preferences()\n",
    "    password = generate_password(length, complexity)\n",
    "    if password:\n",
    "        print(f\"Your randomly generated password is: {password}\")\n",
    "\n",
    "# Run the program\n",
    "main()\n"
   ]
  },
  {
   "cell_type": "code",
   "execution_count": 9,
   "id": "2b9c3dbf-57bc-4a0b-89d1-53f7611afce9",
   "metadata": {},
   "outputs": [],
   "source": [
    "#24. Create a program that implements a simple text-based adventure game with branching scenarios."
   ]
  },
  {
   "cell_type": "code",
   "execution_count": 10,
   "id": "bbc19d6f-73bd-4a52-9ba8-d617f80a802a",
   "metadata": {},
   "outputs": [
    {
     "name": "stdout",
     "output_type": "stream",
     "text": [
      "Welcome to the Adventure Game!\n",
      "You find yourself standing at a crossroad.\n",
      "\n",
      "What do you want to do?\n",
      "1. Go left\n",
      "2. Go right\n",
      "3. Go straight\n",
      "4. Quit\n"
     ]
    },
    {
     "name": "stdin",
     "output_type": "stream",
     "text": [
      "Enter your choice (1-4):  go right\n"
     ]
    },
    {
     "name": "stdout",
     "output_type": "stream",
     "text": [
      "Invalid choice. Please enter 1, 2, 3, or 4.\n",
      "\n",
      "What do you want to do?\n",
      "1. Go left\n",
      "2. Go right\n",
      "3. Go straight\n",
      "4. Quit\n"
     ]
    },
    {
     "name": "stdin",
     "output_type": "stream",
     "text": [
      "Enter your choice (1-4):  1\n"
     ]
    },
    {
     "name": "stdout",
     "output_type": "stream",
     "text": [
      "\n",
      "You chose to go left.\n",
      "You encounter a mysterious cave.\n",
      "What do you want to do?\n",
      "1. Enter the cave\n",
      "2. Go back\n"
     ]
    },
    {
     "name": "stdin",
     "output_type": "stream",
     "text": [
      "Enter your choice (1-2):  1\n"
     ]
    },
    {
     "name": "stdout",
     "output_type": "stream",
     "text": [
      "\n",
      "You enter the cave and find a treasure!\n",
      "Congratulations, you win!\n",
      "\n",
      "What do you want to do?\n",
      "1. Go left\n",
      "2. Go right\n",
      "3. Go straight\n",
      "4. Quit\n"
     ]
    },
    {
     "name": "stdin",
     "output_type": "stream",
     "text": [
      "Enter your choice (1-4):  3\n"
     ]
    },
    {
     "name": "stdout",
     "output_type": "stream",
     "text": [
      "\n",
      "You chose to go straight.\n",
      "You encounter a dense forest.\n",
      "What do you want to do?\n",
      "1. Explore the forest\n",
      "2. Try to find a way around\n",
      "3. Go back\n"
     ]
    },
    {
     "name": "stdin",
     "output_type": "stream",
     "text": [
      "Enter your choice (1-3):  2\n"
     ]
    },
    {
     "name": "stdout",
     "output_type": "stream",
     "text": [
      "\n",
      "You search for a way around the forest and succeed.\n",
      "You continue your adventure.\n",
      "\n",
      "What do you want to do?\n",
      "1. Go left\n",
      "2. Go right\n",
      "3. Go straight\n",
      "4. Quit\n"
     ]
    },
    {
     "name": "stdin",
     "output_type": "stream",
     "text": [
      "Enter your choice (1-4):  4\n"
     ]
    },
    {
     "name": "stdout",
     "output_type": "stream",
     "text": [
      "Thanks for playing!\n"
     ]
    }
   ],
   "source": [
    "def start_game():\n",
    "    print(\"Welcome to the Adventure Game!\")\n",
    "    print(\"You find yourself standing at a crossroad.\")\n",
    "\n",
    "    while True:\n",
    "        print(\"\\nWhat do you want to do?\")\n",
    "        print(\"1. Go left\")\n",
    "        print(\"2. Go right\")\n",
    "        print(\"3. Go straight\")\n",
    "        print(\"4. Quit\")\n",
    "\n",
    "        choice = input(\"Enter your choice (1-4): \")\n",
    "\n",
    "        if choice == '1':\n",
    "            left_path()\n",
    "        elif choice == '2':\n",
    "            right_path()\n",
    "        elif choice == '3':\n",
    "            straight_path()\n",
    "        elif choice == '4':\n",
    "            print(\"Thanks for playing!\")\n",
    "            break\n",
    "        else:\n",
    "            print(\"Invalid choice. Please enter 1, 2, 3, or 4.\")\n",
    "\n",
    "def left_path():\n",
    "    print(\"\\nYou chose to go left.\")\n",
    "    print(\"You encounter a mysterious cave.\")\n",
    "    print(\"What do you want to do?\")\n",
    "    print(\"1. Enter the cave\")\n",
    "    print(\"2. Go back\")\n",
    "\n",
    "    choice = input(\"Enter your choice (1-2): \")\n",
    "\n",
    "    if choice == '1':\n",
    "        print(\"\\nYou enter the cave and find a treasure!\")\n",
    "        print(\"Congratulations, you win!\")\n",
    "    elif choice == '2':\n",
    "        print(\"\\nYou decide not to enter the cave.\")\n",
    "    else:\n",
    "        print(\"Invalid choice. You stand there indecisively.\")\n",
    "\n",
    "def right_path():\n",
    "    print(\"\\nYou chose to go right.\")\n",
    "    print(\"You stumble upon a river.\")\n",
    "    print(\"What do you want to do?\")\n",
    "    print(\"1. Swim across\")\n",
    "    print(\"2. Look for a bridge\")\n",
    "    print(\"3. Go back\")\n",
    "\n",
    "    choice = input(\"Enter your choice (1-3): \")\n",
    "\n",
    "    if choice == '1':\n",
    "        print(\"\\nYou try to swim across but encounter a strong current.\")\n",
    "        print(\"Unfortunately, you drown. Game Over!\")\n",
    "    elif choice == '2':\n",
    "        print(\"\\nYou find a bridge and cross the river safely.\")\n",
    "        print(\"You continue your adventure.\")\n",
    "    elif choice == '3':\n",
    "        print(\"\\nYou decide not to cross the river.\")\n",
    "    else:\n",
    "        print(\"Invalid choice. You stand there indecisively.\")\n",
    "\n",
    "def straight_path():\n",
    "    print(\"\\nYou chose to go straight.\")\n",
    "    print(\"You encounter a dense forest.\")\n",
    "    print(\"What do you want to do?\")\n",
    "    print(\"1. Explore the forest\")\n",
    "    print(\"2. Try to find a way around\")\n",
    "    print(\"3. Go back\")\n",
    "\n",
    "    choice = input(\"Enter your choice (1-3): \")\n",
    "\n",
    "    if choice == '1':\n",
    "        print(\"\\nYou explore the forest and get lost.\")\n",
    "        print(\"After wandering for hours, you find your way back to the crossroad.\")\n",
    "    elif choice == '2':\n",
    "        print(\"\\nYou search for a way around the forest and succeed.\")\n",
    "        print(\"You continue your adventure.\")\n",
    "    elif choice == '3':\n",
    "        print(\"\\nYou decide not to enter the forest.\")\n",
    "    else:\n",
    "        print(\"Invalid choice. You stand there indecisively.\")\n",
    "\n",
    "# Start the game\n",
    "start_game()\n"
   ]
  },
  {
   "cell_type": "code",
   "execution_count": 11,
   "id": "6be032b7-39ce-4383-891a-60c6441776aa",
   "metadata": {},
   "outputs": [],
   "source": [
    "#25. Build a program that solves a linear equation  for x, considering different cases."
   ]
  },
  {
   "cell_type": "code",
   "execution_count": 12,
   "id": "db10722b-9dff-4daa-bc2d-d01a25730b3e",
   "metadata": {},
   "outputs": [
    {
     "name": "stdin",
     "output_type": "stream",
     "text": [
      "Enter the coefficient 'a':  5\n",
      "Enter the coefficient 'b':  2\n"
     ]
    },
    {
     "name": "stdout",
     "output_type": "stream",
     "text": [
      "The solution for x is: -0.4\n"
     ]
    }
   ],
   "source": [
    "def solve_linear_equation(a, b):\n",
    "    if a == 0:\n",
    "        if b == 0:\n",
    "            print(\"Infinite solutions (0 = 0) for any value of x.\")\n",
    "        else:\n",
    "            print(\"No solution (0 = non-zero constant).\")\n",
    "    else:\n",
    "        x = -b / a\n",
    "        print(f\"The solution for x is: {x}\")\n",
    "\n",
    "# Get coefficients from the user\n",
    "try:\n",
    "    coeff_a = float(input(\"Enter the coefficient 'a': \"))\n",
    "    coeff_b = float(input(\"Enter the coefficient 'b': \"))\n",
    "\n",
    "    # Solve the equation\n",
    "    solve_linear_equation(coeff_a, coeff_b)\n",
    "\n",
    "except ValueError:\n",
    "    print(\"Invalid input. Please enter valid numerical coefficients.\")\n"
   ]
  },
  {
   "cell_type": "code",
   "execution_count": 1,
   "id": "9372613a-544a-47f7-861f-0725932002f4",
   "metadata": {},
   "outputs": [],
   "source": [
    "#26. Write a program that simulates a basic quiz game with multiple-choice questions and scoring."
   ]
  },
  {
   "cell_type": "code",
   "execution_count": 8,
   "id": "20ef47e3-c2c5-45be-9c44-b7f9023f328f",
   "metadata": {},
   "outputs": [
    {
     "name": "stdout",
     "output_type": "stream",
     "text": [
      "Question 1: What is the currency of Japan?\n",
      "Choose the correct option:\n",
      "1. Lira\n",
      "2. Tikka\n",
      "3. Euro\n",
      "4. Rupay\n"
     ]
    },
    {
     "name": "stdin",
     "output_type": "stream",
     "text": [
      "Your answer:  1\n"
     ]
    },
    {
     "name": "stdout",
     "output_type": "stream",
     "text": [
      "Question 2: world most polpulated country is ?\n",
      "Choose the correct option:\n",
      "1. Brazil\n",
      "2. USA\n",
      "3. China\n",
      "4. India\n"
     ]
    },
    {
     "name": "stdin",
     "output_type": "stream",
     "text": [
      "Your answer:  4\n"
     ]
    },
    {
     "name": "stdout",
     "output_type": "stream",
     "text": [
      "Question 3: Which planet is known as the Red Planet?\n",
      "Choose the correct option:\n",
      "1. Mars\n",
      "2. Jupiter\n",
      "3. Saturn\n",
      "4. Neptune\n"
     ]
    },
    {
     "name": "stdin",
     "output_type": "stream",
     "text": [
      "Your answer:  1\n"
     ]
    },
    {
     "name": "stdout",
     "output_type": "stream",
     "text": [
      "Quiz completed! You scored 2 out of 3.\n"
     ]
    }
   ],
   "source": [
    "class Quiz:\n",
    "    def __init__(self, questions, answers):\n",
    "        self.questions = questions\n",
    "        self.answers = answers\n",
    "        self.score = 0\n",
    "\n",
    "    def display_question(self, question_number):\n",
    "        print(f\"Question {question_number + 1}: {self.questions[question_number]}\")\n",
    "        print(\"Choose the correct option:\")\n",
    "        for index, option in enumerate(self.answers[question_number], start=1):\n",
    "            print(f\"{index}. {option}\")\n",
    "        user_choice = input(\"Your answer: \")\n",
    "        return int(user_choice)\n",
    "\n",
    "    def check_answer(self, question_number, user_choice):\n",
    "        correct_answer = self.answers[question_number].index(self.answers[question_number][0]) + 1\n",
    "        if user_choice == correct_answer:\n",
    "            self.score += 1\n",
    "\n",
    "    def run_quiz(self):\n",
    "        num_questions = len(self.questions)\n",
    "        for i in range(num_questions):\n",
    "            user_choice = self.display_question(i)\n",
    "            self.check_answer(i, user_choice)\n",
    "        print(f\"Quiz completed! You scored {self.score} out of {num_questions}.\")\n",
    "\n",
    "# Example questions and answers\n",
    "questions = [\n",
    "    \"What is the currency of Japan?\",\n",
    "    \"world most polpulated country is ?\",\n",
    "    \"Which planet is known as the Red Planet?\"\n",
    "]\n",
    "\n",
    "answers = [\n",
    "    [\"Lira\", \"Tikka\", \"Euro\", \"Rupay\"],\n",
    "    [\"Brazil\", \"USA\", \"China\", \"India\"],\n",
    "    [\"Mars\", \"Jupiter\", \"Saturn\", \"Neptune\"]\n",
    "]\n",
    "\n",
    "# Create a Quiz instance\n",
    "my_quiz = Quiz(questions, answers)\n",
    "# Run the quiz\n",
    "my_quiz.run_quiz()\n"
   ]
  },
  {
   "cell_type": "code",
   "execution_count": 1,
   "id": "c58a0025-120a-4757-b2b3-29ae9ebf7cbb",
   "metadata": {},
   "outputs": [],
   "source": [
    "#27. Develop a program that determines whether a given year is a prime number or not."
   ]
  },
  {
   "cell_type": "code",
   "execution_count": 4,
   "id": "f024e948-bf5f-4f12-8eae-abf0ac70cb00",
   "metadata": {},
   "outputs": [
    {
     "name": "stdin",
     "output_type": "stream",
     "text": [
      "Enter a year 2023\n"
     ]
    },
    {
     "name": "stdout",
     "output_type": "stream",
     "text": [
      "2023 is a not a prime number\n"
     ]
    }
   ],
   "source": [
    "def prime_year(year):\n",
    "    \n",
    "    if year<=1:\n",
    "        return 'year is less than or equal to 1'\n",
    "    for i in range(2,int(year**0.5)+1):\n",
    "        if year % i == 0:\n",
    "            return False\n",
    "    return True\n",
    "year = int(input(\"Enter a year\"))\n",
    "\n",
    "if prime_year(year):\n",
    "    print(f\"{year} is a prime number\")\n",
    "else:\n",
    "    print(f\"{year} is a not a prime number\")"
   ]
  },
  {
   "cell_type": "code",
   "execution_count": 10,
   "id": "c58ef407-ad29-4613-9742-8b5f596d14ed",
   "metadata": {},
   "outputs": [],
   "source": [
    "#28. Create a program that sorts three numbers in ascending order using conditional statements."
   ]
  },
  {
   "cell_type": "code",
   "execution_count": 3,
   "id": "abfa6bb2-a656-4ef1-a174-f154bb5d1340",
   "metadata": {},
   "outputs": [
    {
     "name": "stdin",
     "output_type": "stream",
     "text": [
      "Enter first number:  55\n",
      "Enter second number:  44\n",
      "Enter third number:  1\n"
     ]
    },
    {
     "name": "stdout",
     "output_type": "stream",
     "text": [
      "Numbers in ascending order: (1.0, 44.0, 55.0)\n"
     ]
    }
   ],
   "source": [
    "def sort_numbers(x, y, z):\n",
    "    if x <= y <= z:\n",
    "        return x, y, z\n",
    "    elif x <= z <= y:\n",
    "        return x, z, y\n",
    "    elif y <= x <= z:\n",
    "        return y, x, z\n",
    "    elif y <= z <= x:\n",
    "        return y, z, x\n",
    "    elif z <= x <= y:\n",
    "        return z, x, y\n",
    "    else:\n",
    "        return z, y, x\n",
    "\n",
    "# Input three numbers\n",
    "num1 = float(input(\"Enter first number: \"))\n",
    "num2 = float(input(\"Enter second number: \"))\n",
    "num3 = float(input(\"Enter third number: \"))\n",
    "\n",
    "# Sort the numbers\n",
    "sorted_nums = sort_numbers(num1, num2, num3)\n",
    "\n",
    "# Display the sorted numbers\n",
    "print(\"Numbers in ascending order:\", sorted_nums)\n"
   ]
  },
  {
   "cell_type": "code",
   "execution_count": 4,
   "id": "1b831b33-2ac2-441e-a2e1-ae2f934cf2d9",
   "metadata": {},
   "outputs": [
    {
     "name": "stdin",
     "output_type": "stream",
     "text": [
      "Enter coefficient a:  2\n",
      "Enter coefficient b:  5\n",
      "Enter coefficient c:  6\n",
      "Enter coefficient d:  47\n",
      "Enter coefficient e:  77\n",
      "Enter initial guess for the root:  45\n"
     ]
    },
    {
     "name": "stdout",
     "output_type": "stream",
     "text": [
      "A root of the quartic equation is approximately: -1.950405\n"
     ]
    }
   ],
   "source": [
    "# Define the quartic equation: ax^4 + bx^3 + cx^2 + dx + e = 0\n",
    "def quartic_equation(x, a, b, c, d, e):\n",
    "    return a * x**4 + b * x**3 + c * x**2 + d * x + e\n",
    "\n",
    "# Derivative of the quartic equation\n",
    "def derivative_quartic(x, a, b, c, d):\n",
    "    return 4 * a * x**3 + 3 * b * x**2 + 2 * c * x + d\n",
    "\n",
    "# Newton-Raphson method to find roots\n",
    "def newton_raphson_quartic(a, b, c, d, e, x0, tolerance, max_iterations):\n",
    "    x = x0\n",
    "    for i in range(max_iterations):\n",
    "        f_value = quartic_equation(x, a, b, c, d, e)\n",
    "        f_derivative = derivative_quartic(x, a, b, c, d)\n",
    "        x_new = x - f_value / f_derivative\n",
    "        \n",
    "        if abs(x_new - x) < tolerance:\n",
    "            return x_new\n",
    "        \n",
    "        x = x_new\n",
    "    \n",
    "    return None  # If convergence is not reached within the given iterations\n",
    "\n",
    "# Input coefficients of the quartic equation: ax^4 + bx^3 + cx^2 + dx + e = 0\n",
    "a = float(input(\"Enter coefficient a: \"))\n",
    "b = float(input(\"Enter coefficient b: \"))\n",
    "c = float(input(\"Enter coefficient c: \"))\n",
    "d = float(input(\"Enter coefficient d: \"))\n",
    "e = float(input(\"Enter coefficient e: \"))\n",
    "\n",
    "# Initial guess for the root\n",
    "initial_guess = float(input(\"Enter initial guess for the root: \"))\n",
    "\n",
    "# Set the tolerance and maximum iterations for convergence\n",
    "tolerance = 1e-8\n",
    "max_iterations = 1000\n",
    "\n",
    "# Find the root using Newton-Raphson method\n",
    "root = newton_raphson_quartic(a, b, c, d, e, initial_guess, tolerance, max_iterations)\n",
    "\n",
    "if root is not None:\n",
    "    print(f\"A root of the quartic equation is approximately: {root:.6f}\")\n",
    "else:\n",
    "    print(\"Root not found within the maximum iterations.\")\n"
   ]
  },
  {
   "cell_type": "code",
   "execution_count": 5,
   "id": "fdbe3b03-fe79-45ff-b530-bd25e53bc6e9",
   "metadata": {},
   "outputs": [],
   "source": [
    "#30. Write a program that calculates the BMI (Body Mass Index) and provides health recommendations based \n",
    "#on the user's input"
   ]
  },
  {
   "cell_type": "code",
   "execution_count": 11,
   "id": "3f93551d-6e31-4c88-b05d-8acb6192d747",
   "metadata": {},
   "outputs": [
    {
     "name": "stdin",
     "output_type": "stream",
     "text": [
      "Enter your weight in kilograms:  55\n",
      "Enter your height in meters:  3\n"
     ]
    },
    {
     "name": "stdout",
     "output_type": "stream",
     "text": [
      "Your Body Mass Index (BMI) is: 6.11\n",
      "Health Recommendation: You are underweight. It's recommended to consult with a nutritionist.\n"
     ]
    }
   ],
   "source": [
    "def calculate_bmi(weight, height):\n",
    "    return weight / (height ** 2)\n",
    "\n",
    "def get_health_recommendation(bmi):\n",
    "    if bmi < 18.5:\n",
    "        return \"You are underweight. It's recommended to consult with a nutritionist.\"\n",
    "    elif 18.5 <= bmi < 24.9:\n",
    "        return \"Your BMI is within the healthy range. Keep up the good work!\"\n",
    "    elif 24.9 <= bmi < 29.9:\n",
    "        return \"You are overweight. Consider adjusting your diet and exercise routine.\"\n",
    "    else:\n",
    "        return \"You are obese. It's strongly recommended to seek guidance from a healthcare professional.\"\n",
    "\n",
    "# Input weight and height from the user\n",
    "weight = float(input(\"Enter your weight in kilograms: \"))\n",
    "height = float(input(\"Enter your height in meters: \"))\n",
    "\n",
    "# Calculate BMI\n",
    "bmi = calculate_bmi(weight, height)\n",
    "\n",
    "# Get health recommendation based on BMI\n",
    "recommendation = get_health_recommendation(bmi)\n",
    "\n",
    "# Display BMI and health recommendation\n",
    "print(f\"Your Body Mass Index (BMI) is: {bmi:.2f}\")\n",
    "print(\"Health Recommendation:\", recommendation)\n"
   ]
  },
  {
   "cell_type": "code",
   "execution_count": 12,
   "id": "f5ab8795-d255-4d2c-a13a-13e41757e6a3",
   "metadata": {},
   "outputs": [],
   "source": [
    " #31. Create a program that validates a password based on complexity rules (length, characters, etc.)"
   ]
  },
  {
   "cell_type": "code",
   "execution_count": 13,
   "id": "04d5b98b-8d79-4741-a09c-ea8fe04f3b9b",
   "metadata": {},
   "outputs": [
    {
     "name": "stdin",
     "output_type": "stream",
     "text": [
      "Enter your password:  Love@2015\n"
     ]
    },
    {
     "name": "stdout",
     "output_type": "stream",
     "text": [
      "Password is valid!\n"
     ]
    }
   ],
   "source": [
    "def validate_password(password):\n",
    "    # Define complexity rules\n",
    "    min_length = 8\n",
    "    special_characters = \"!@#$%^&*()-+\"\n",
    "    has_uppercase = any(char.isupper() for char in password)\n",
    "    has_lowercase = any(char.islower() for char in password)\n",
    "    has_digit = any(char.isdigit() for char in password)\n",
    "    has_special = any(char in special_characters for char in password)\n",
    "\n",
    "    # Check if the password meets the complexity rules\n",
    "    if len(password) < min_length:\n",
    "        return False, \"Password should be at least 8 characters long\"\n",
    "    elif not has_uppercase:\n",
    "        return False, \"Password should contain at least one uppercase letter\"\n",
    "    elif not has_lowercase:\n",
    "        return False, \"Password should contain at least one lowercase letter\"\n",
    "    elif not has_digit:\n",
    "        return False, \"Password should contain at least one digit\"\n",
    "    elif not has_special:\n",
    "        return False, \"Password should contain at least one special character (!@#$%^&*()-+)\"\n",
    "    else:\n",
    "        return True, \"Password meets the complexity requirements\"\n",
    "\n",
    "# Get password input from the user\n",
    "password_input = input(\"Enter your password: \")\n",
    "\n",
    "# Validate the password\n",
    "valid, message = validate_password(password_input)\n",
    "\n",
    "# Display validation result\n",
    "if valid:\n",
    "    print(\"Password is valid!\")\n",
    "else:\n",
    "    print(\"Password is invalid. Reason:\", message)\n"
   ]
  },
  {
   "cell_type": "code",
   "execution_count": 1,
   "id": "3d499440-dd54-4a20-9019-a4826d6a4008",
   "metadata": {},
   "outputs": [],
   "source": [
    "#32. Develop a program that performs matrix addition and subtraction based on user input."
   ]
  },
  {
   "cell_type": "code",
   "execution_count": null,
   "id": "5cafebc0-0eeb-4d11-bbad-2bee3f9a8c50",
   "metadata": {},
   "outputs": [],
   "source": [
    "def matrix_addition(matrix1, matrix2):\n",
    "    if len(matrix1) != len(matrix2) or len(matrix1[0]) != len(matrix2[0]):\n",
    "        return \"Matrices must have the same dimensions for addition.\"\n",
    "    \n",
    "    result = []\n",
    "    for i in range(len(matrix1)):\n",
    "        row = []\n",
    "        for j in range(len(matrix1[0])):\n",
    "            row.append(matrix1[i][j] + matrix2[i][j])\n",
    "        result.append(row)\n",
    "    \n",
    "    return result\n",
    "\n",
    "def matrix_subtraction(matrix1, matrix2):\n",
    "    if len(matrix1) != len(matrix2) or len(matrix1[0]) != len(matrix2[0]):\n",
    "        return \"Matrices must have the same dimensions for subtraction.\"\n",
    "    \n",
    "    result = []\n",
    "    for i in range(len(matrix1)):\n",
    "        row = []\n",
    "        for j in range(len(matrix1[0])):\n",
    "            row.append(matrix1[i][j] - matrix2[i][j])\n",
    "        result.append(row)\n",
    "    \n",
    "    return result\n",
    "\n",
    "def input_matrix():\n",
    "    rows = int(input(\"Enter the number of rows: \"))\n",
    "    cols = int(input(\"Enter the number of columns: \"))\n",
    "    \n",
    "    matrix = []\n",
    "    print(\"Enter the elements row-wise:\")\n",
    "    for i in range(rows):\n",
    "        row = []\n",
    "        for j in range(cols):\n",
    "            element = float(input(f\"Enter element [{i + 1}][{j + 1}]: \"))\n",
    "            row.append(element)\n",
    "        matrix.append(row)\n",
    "    \n",
    "    return matrix\n",
    "\n",
    "def display_matrix(matrix, name):\n",
    "    print(f\"\\nMatrix {name}:\")\n",
    "    for row in matrix:\n",
    "        print(row)\n",
    "\n",
    "# Input matrices from the user\n",
    "print(\"Enter details for Matrix 1:\")\n",
    "matrix_1 = input_matrix()\n",
    "\n",
    "print(\"\\nEnter details for Matrix 2:\")\n",
    "matrix_2 = input_matrix()\n",
    "\n",
    "# Display input matrices\n",
    "display_matrix(matrix_1, \"1\")\n",
    "display_matrix(matrix_2, \"2\")\n",
    "\n",
    "# Perform matrix addition and subtraction\n",
    "add_result = matrix_addition(matrix_1, matrix_2)\n",
    "sub_result = matrix_subtraction(matrix_1, matrix_2)\n",
    "\n",
    "# Display results\n",
    "if isinstance(add_result, str):\n",
    "    print(\"\\nError in addition:\", add_result)\n",
    "else:\n",
    "    display_matrix(add_result, \"Sum\")\n",
    "\n",
    "if isinstance(sub_result, str):\n",
    "    print(\"\\nError in subtraction:\", sub_result)\n",
    "else:\n",
    "    display_matrix(sub_result, \"Difference\")\n"
   ]
  },
  {
   "cell_type": "code",
   "execution_count": null,
   "id": "a6818e84-ccd7-49da-9612-00a9dffc17a2",
   "metadata": {},
   "outputs": [],
   "source": [
    "#33. Write a program that calculates the greatest common divisor (GCD) of two numbers using the Euclidean \n",
    "#algorithm"
   ]
  },
  {
   "cell_type": "code",
   "execution_count": 13,
   "id": "109eb06b-4ff5-41e0-93f7-a78bd74fd868",
   "metadata": {},
   "outputs": [
    {
     "name": "stdin",
     "output_type": "stream",
     "text": [
      "Please enter number:   12\n",
      "Please enter number:  18\n"
     ]
    },
    {
     "name": "stdout",
     "output_type": "stream",
     "text": [
      "The GCD of 12 and 18 is : 6\n"
     ]
    }
   ],
   "source": [
    "def gcd(n1,n2):\n",
    "    while n2 != 0:\n",
    "        \n",
    "        n1,n2 = n2, n1%n2\n",
    "    return n1\n",
    "    \n",
    "n1 = int(input(\"Please enter number:  \"))\n",
    "n2 = int(input(\"Please enter number: \"))\n",
    "\n",
    "result =  gcd(n1,n2)\n",
    "\n",
    "print(f'The GCD of {n1} and {n2} is : {result}')"
   ]
  },
  {
   "cell_type": "code",
   "execution_count": 14,
   "id": "a53a0a43-52d4-4394-a817-371eef1d7605",
   "metadata": {},
   "outputs": [],
   "source": [
    "#34. Build a program that performs matrix multiplication using nested loops and conditional statements."
   ]
  },
  {
   "cell_type": "code",
   "execution_count": null,
   "id": "34395710-05e4-4954-ad93-4e95e11dca09",
   "metadata": {},
   "outputs": [],
   "source": [
    "def matrix_multiplication(matrix1, matrix2):\n",
    "    rows1 = len(matrix1)\n",
    "    cols1 = len(matrix1[0])\n",
    "    rows2 = len(matrix2)\n",
    "    cols2 = len(matrix2[0])\n",
    "\n",
    "    if cols1 != rows2:\n",
    "        return \"Cannot multiply matrices. Number of columns in the first matrix must be equal to the number of rows in the second matrix.\"\n",
    "\n",
    "    result = []\n",
    "    for i in range(rows1):\n",
    "        row = []\n",
    "        for j in range(cols2):\n",
    "            element = 0\n",
    "            for k in range(cols1):\n",
    "                element += matrix1[i][k] * matrix2[k][j]\n",
    "            row.append(element)\n",
    "        result.append(row)\n",
    "\n",
    "    return result\n",
    "\n",
    "def input_matrix():\n",
    "    rows = int(input(\"Enter the number of rows: \"))\n",
    "    cols = int(input(\"Enter the number of columns: \"))\n",
    "\n",
    "    matrix = []\n",
    "    print(\"Enter the elements row-wise:\")\n",
    "    for i in range(rows):\n",
    "        row = []\n",
    "        for j in range(cols):\n",
    "            element = float(input(f\"Enter element [{i + 1}][{j + 1}]: \"))\n",
    "            row.append(element)\n",
    "        matrix.append(row)\n",
    "\n",
    "    return matrix\n",
    "\n",
    "def display_matrix(matrix, name):\n",
    "    print(f\"\\nMatrix {name}:\")\n",
    "    for row in matrix:\n",
    "        print(row)\n",
    "\n",
    "# Input matrices from the user\n",
    "print(\"Enter details for Matrix 1:\")\n",
    "matrix_1 = input_matrix()\n",
    "\n",
    "print(\"\\nEnter details for Matrix 2:\")\n",
    "matrix_2 = input_matrix()\n",
    "\n",
    "# Display input matrices\n",
    "display_matrix(matrix_1, \"1\")\n",
    "display_matrix(matrix_2, \"2\")\n",
    "\n",
    "# Perform matrix multiplication\n",
    "mult_result = matrix_multiplication(matrix_1, matrix_2)\n",
    "\n",
    "# Display result\n",
    "if isinstance(mult_result, str):\n",
    "    print(\"\\nError in multiplication:\", mult_result)\n",
    "else:\n",
    "    display_matrix(mult_result, \"Product\")\n"
   ]
  },
  {
   "cell_type": "code",
   "execution_count": null,
   "id": "3ac57ff0-3ae8-4138-9ab1-95a0baa65ed6",
   "metadata": {},
   "outputs": [],
   "source": [
    "#35. Create a program that simulates a basic text-based tic-tac-toe game against the computer."
   ]
  },
  {
   "cell_type": "code",
   "execution_count": null,
   "id": "6dfa0e4a-88d0-49eb-be87-ced9c7b383a2",
   "metadata": {},
   "outputs": [],
   "source": [
    "import random\n",
    "\n",
    "def print_board(board):\n",
    "    for row in board:\n",
    "        print(\" | \".join(row))\n",
    "        print(\"-\" * 5)\n",
    "\n",
    "def check_winner(board, player):\n",
    "    for row in board:\n",
    "        if all([cell == player for cell in row]):\n",
    "            return True\n",
    "\n",
    "    for col in range(3):\n",
    "        if all([board[row][col] == player for row in range(3)]):\n",
    "            return True\n",
    "\n",
    "    if all([board[i][i] == player for i in range(3)]) or all([board[i][2 - i] == player for i in range(3)]):\n",
    "        return True\n",
    "\n",
    "    return False\n",
    "\n",
    "def get_empty_cells(board):\n",
    "    return [(i, j) for i in range(3) for j in range(3) if board[i][j] == \" \"]\n",
    "\n",
    "def player_move(board):\n",
    "    while True:\n",
    "        try:\n",
    "            row = int(input(\"Enter the row (1-3): \")) - 1\n",
    "            col = int(input(\"Enter the column (1-3): \")) - 1\n",
    "            if board[row][col] != \" \":\n",
    "                print(\"Cell already taken. Try again.\")\n",
    "            else:\n",
    "                board[row][col] = \"X\"\n",
    "                break\n",
    "        except (ValueError, IndexError):\n",
    "            print(\"Invalid input. Enter numbers between 1 and 3.\")\n",
    "    print_board(board)\n",
    "\n",
    "def computer_move(board):\n",
    "    empty_cells = get_empty_cells(board)\n",
    "    row, col = random.choice(empty_cells)\n",
    "    board[row][col] = \"O\"\n",
    "    print(\"Computer's move:\")\n",
    "    print_board(board)\n",
    "\n",
    "def play_game():\n",
    "    board = [[\" \" for _ in range(3)] for _ in range(3)]\n",
    "    print(\"Welcome to Tic-Tac-Toe!\")\n",
    "    print_board(board)\n",
    "\n",
    "    while True:\n",
    "        player_move(board)\n",
    "        if check_winner(board, \"X\"):\n",
    "            print(\"Congratulations! You win!\")\n",
    "            break\n",
    "        if len(get_empty_cells(board)) == 0:\n",
    "            print(\"It's a tie!\")\n",
    "            break\n",
    "\n",
    "        computer_move(board)\n",
    "        if check_winner(board, \"O\"):\n",
    "            print(\"Computer wins!\")\n",
    "            break\n",
    "\n",
    "play_game()\n"
   ]
  },
  {
   "cell_type": "code",
   "execution_count": null,
   "id": "4ad87b61-b0d4-42eb-8d10-eb2b2fdd2599",
   "metadata": {},
   "outputs": [],
   "source": [
    "#36. Write a program that generates Fibonacci numbers up to a specified term using iterative methods."
   ]
  },
  {
   "cell_type": "code",
   "execution_count": null,
   "id": "3d62d99e-018e-409d-a1ef-9529d6a63286",
   "metadata": {},
   "outputs": [],
   "source": [
    "def generate_fibonacci(n):\n",
    "    if n <= 0:\n",
    "        return []\n",
    "\n",
    "    fibonacci_sequence = [0, 1]\n",
    "    while len(fibonacci_sequence) < n:\n",
    "        next_number = fibonacci_sequence[-1] + fibonacci_sequence[-2]\n",
    "        fibonacci_sequence.append(next_number)\n",
    "\n",
    "    return fibonacci_sequence\n",
    "\n",
    "# Input the number of terms for Fibonacci sequence\n",
    "num_terms = int(input(\"Enter the number of terms for Fibonacci sequence: \"))\n",
    "\n",
    "# Generate Fibonacci sequence using iterative method\n",
    "fib_sequence = generate_fibonacci(num_terms)\n",
    "\n",
    "# Display the generated Fibonacci sequence\n",
    "if fib_sequence:\n",
    "    print(f\"Fibonacci sequence up to term {num_terms}:\")\n",
    "    print(fib_sequence)\n",
    "else:\n",
    "    print(\"Please enter a valid number of terms greater than 0.\")\n"
   ]
  },
  {
   "cell_type": "code",
   "execution_count": null,
   "id": "3097c104-9064-4756-969a-b6dedc49a9a3",
   "metadata": {},
   "outputs": [],
   "source": [
    "#37. Develop a program that calculates the nth term of the Fibonacci sequence using memoization."
   ]
  },
  {
   "cell_type": "code",
   "execution_count": null,
   "id": "8a76c350-5b8a-4003-a557-351e1cf18b58",
   "metadata": {},
   "outputs": [],
   "source": [
    "def fibonacci(n, memo={}):\n",
    "    if n in memo:\n",
    "        return memo[n]\n",
    "\n",
    "    if n <= 1:\n",
    "        return n\n",
    "\n",
    "    memo[n] = fibonacci(n - 1, memo) + fibonacci(n - 2, memo)\n",
    "    return memo[n]\n",
    "\n",
    "# Input the value of n for the nth term\n",
    "n = int(input(\"Enter the value of n for the nth term of the Fibonacci sequence: \"))\n",
    "\n",
    "# Calculate the nth term of the Fibonacci sequence using memoization\n",
    "result = fibonacci(n)\n",
    "\n",
    "# Display the result\n",
    "print(f\"The {n}th term of the Fibonacci sequence is: {result}\")\n"
   ]
  },
  {
   "cell_type": "code",
   "execution_count": null,
   "id": "50390d24-b4a9-4403-b826-04c9e2e11ffe",
   "metadata": {},
   "outputs": [],
   "source": [
    "#38. Create a program that generates a calendar for a given month and year using conditional statements."
   ]
  },
  {
   "cell_type": "code",
   "execution_count": 1,
   "id": "27d282bd-120d-40cf-a2f9-f09dcd68c466",
   "metadata": {},
   "outputs": [
    {
     "name": "stdin",
     "output_type": "stream",
     "text": [
      "Enter the year:  2023\n",
      "Enter the month (1-12):  2\n"
     ]
    },
    {
     "name": "stdout",
     "output_type": "stream",
     "text": [
      "February 2023\n",
      " Mo Tu We Th Fr Sa Su\n",
      "          1   2   3   4   5 \n",
      "  6   7   8   9  10  11  12 \n",
      " 13  14  15  16  17  18  19 \n",
      " 20  21  22  23  24  25  26 \n",
      " 27  28                     \n"
     ]
    }
   ],
   "source": [
    "import calendar\n",
    "\n",
    "def generate_calendar(year, month):\n",
    "    cal = calendar.monthcalendar(year, month)\n",
    "\n",
    "    # Displaying the calendar header\n",
    "    print(calendar.month_name[month], year)\n",
    "    print(\" Mo Tu We Th Fr Sa Su\")\n",
    "\n",
    "    # Generating the calendar for the given month and year\n",
    "    for week in cal:\n",
    "        for day in week:\n",
    "            if day == 0:\n",
    "                print(\"   \", end=\" \")  # Printing spaces for days before the month starts\n",
    "            else:\n",
    "                print(f\" {day:2}\", end=\" \")  # Formatting days to occupy two spaces\n",
    "        print()\n",
    "\n",
    "# Input the year and month for the calendar\n",
    "year = int(input(\"Enter the year: \"))\n",
    "month = int(input(\"Enter the month (1-12): \"))\n",
    "\n",
    "# Check if the input month and year are within a valid range\n",
    "if 1 <= month <= 12:\n",
    "    generate_calendar(year, month)\n",
    "else:\n",
    "    print(\"Please enter a valid month (1-12).\")\n"
   ]
  },
  {
   "cell_type": "code",
   "execution_count": null,
   "id": "11911a6f-a974-4273-a2cf-b4617a952c70",
   "metadata": {},
   "outputs": [],
   "source": [
    "#39. Build a program that simulates a basic text-based blackjack game against the computer."
   ]
  },
  {
   "cell_type": "code",
   "execution_count": 2,
   "id": "dc3d1404-b15b-4e9a-8403-14a7118c2d8c",
   "metadata": {},
   "outputs": [
    {
     "name": "stdout",
     "output_type": "stream",
     "text": [
      "Welcome to Blackjack!\n",
      "Player's cards: 8 - A\n",
      "Dealer's cards: 5 - 10\n"
     ]
    },
    {
     "name": "stdin",
     "output_type": "stream",
     "text": [
      "Do you want to hit or stand? (h/s):  h\n"
     ]
    },
    {
     "name": "stdout",
     "output_type": "stream",
     "text": [
      "Player's cards: 8 - A - K\n"
     ]
    },
    {
     "name": "stdin",
     "output_type": "stream",
     "text": [
      "Do you want to hit or stand? (h/s):  s\n"
     ]
    },
    {
     "name": "stdout",
     "output_type": "stream",
     "text": [
      "Dealer's cards: 5 - 10 - 9\n",
      "Player's total: 19\n",
      "Dealer's total: 24\n",
      "Dealer busts. You win!\n"
     ]
    }
   ],
   "source": [
    "import random\n",
    "\n",
    "# Function to calculate the total value of cards\n",
    "def calculate_total(cards):\n",
    "    total = 0\n",
    "    has_ace = False\n",
    "\n",
    "    for card in cards:\n",
    "        if card in ['J', 'Q', 'K']:\n",
    "            total += 10\n",
    "        elif card == 'A':\n",
    "            has_ace = True\n",
    "            total += 11\n",
    "        else:\n",
    "            total += int(card)\n",
    "\n",
    "    # If the total value exceeds 21 and an Ace is present, adjust the Ace value\n",
    "    if has_ace and total > 21:\n",
    "        total -= 10\n",
    "\n",
    "    return total\n",
    "\n",
    "# Function to display the cards of a player or the dealer\n",
    "def display_cards(cards, player_name):\n",
    "    print(f\"{player_name}'s cards: {' - '.join(cards)}\")\n",
    "\n",
    "# Function to simulate the Blackjack game\n",
    "def play_blackjack():\n",
    "    cards = [str(i) for i in range(2, 11)] + ['J', 'Q', 'K', 'A']\n",
    "    deck = 4 * cards  # Using four decks of cards\n",
    "\n",
    "    random.shuffle(deck)\n",
    "\n",
    "    player_cards = [deck.pop(), deck.pop()]\n",
    "    dealer_cards = [deck.pop(), deck.pop()]\n",
    "\n",
    "    player_total = calculate_total(player_cards)\n",
    "    dealer_total = calculate_total(dealer_cards)\n",
    "\n",
    "    display_cards(player_cards, \"Player\")\n",
    "    display_cards(dealer_cards, \"Dealer\")\n",
    "\n",
    "    # Player's turn\n",
    "    while player_total < 21:\n",
    "        choice = input(\"Do you want to hit or stand? (h/s): \").lower()\n",
    "        if choice == 'h':\n",
    "            new_card = deck.pop()\n",
    "            player_cards.append(new_card)\n",
    "            player_total = calculate_total(player_cards)\n",
    "            display_cards(player_cards, \"Player\")\n",
    "        elif choice == 's':\n",
    "            break\n",
    "\n",
    "    # Dealer's turn\n",
    "    while dealer_total < 17:\n",
    "        new_card = deck.pop()\n",
    "        dealer_cards.append(new_card)\n",
    "        dealer_total = calculate_total(dealer_cards)\n",
    "        display_cards(dealer_cards, \"Dealer\")\n",
    "\n",
    "    # Display the final hands\n",
    "    print(\"Player's total:\", player_total)\n",
    "    print(\"Dealer's total:\", dealer_total)\n",
    "\n",
    "    # Determine the winner\n",
    "    if player_total > 21:\n",
    "        print(\"You bust. Dealer wins!\")\n",
    "    elif dealer_total > 21:\n",
    "        print(\"Dealer busts. You win!\")\n",
    "    elif player_total == dealer_total:\n",
    "        print(\"It's a tie!\")\n",
    "    elif player_total > dealer_total:\n",
    "        print(\"You win!\")\n",
    "    else:\n",
    "        print(\"Dealer wins!\")\n",
    "\n",
    "# Start the Blackjack game\n",
    "print(\"Welcome to Blackjack!\")\n",
    "play_blackjack()\n"
   ]
  },
  {
   "cell_type": "code",
   "execution_count": 3,
   "id": "3891be8f-0df0-48d9-8ddf-0d00c05b006d",
   "metadata": {},
   "outputs": [],
   "source": [
    "#40. Write a program that generates the prime factors of a given number using trial division."
   ]
  },
  {
   "cell_type": "code",
   "execution_count": 4,
   "id": "7d58f232-19ed-4be1-8f2d-502d5d78cc5b",
   "metadata": {},
   "outputs": [
    {
     "name": "stdin",
     "output_type": "stream",
     "text": [
      "Enter a number to find its prime factors:  2\n"
     ]
    },
    {
     "name": "stdout",
     "output_type": "stream",
     "text": [
      "2 is a prime number.\n"
     ]
    }
   ],
   "source": [
    "def prime_factors(n):\n",
    "    factors = []\n",
    "    divisor = 2\n",
    "\n",
    "    while n > 1:\n",
    "        while n % divisor == 0:\n",
    "            factors.append(divisor)\n",
    "            n //= divisor\n",
    "        divisor += 1\n",
    "\n",
    "    return factors\n",
    "\n",
    "# Input the number to find its prime factors\n",
    "number = int(input(\"Enter a number to find its prime factors: \"))\n",
    "\n",
    "if number <= 1:\n",
    "    print(\"Please enter a number greater than 1.\")\n",
    "else:\n",
    "    factors = prime_factors(number)\n",
    "    if len(factors) == 1:\n",
    "        print(f\"{number} is a prime number.\")\n",
    "    else:\n",
    "        print(f\"The prime factors of {number} are: {factors}\")\n"
   ]
  }
 ],
 "metadata": {
  "kernelspec": {
   "display_name": "Python 3 (ipykernel)",
   "language": "python",
   "name": "python3"
  },
  "language_info": {
   "codemirror_mode": {
    "name": "ipython",
    "version": 3
   },
   "file_extension": ".py",
   "mimetype": "text/x-python",
   "name": "python",
   "nbconvert_exporter": "python",
   "pygments_lexer": "ipython3",
   "version": "3.10.8"
  }
 },
 "nbformat": 4,
 "nbformat_minor": 5
}
